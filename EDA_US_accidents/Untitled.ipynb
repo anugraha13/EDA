{
 "cells": [
  {
   "cell_type": "code",
   "execution_count": 1,
   "id": "4a2925ce",
   "metadata": {},
   "outputs": [],
   "source": [
    "import pandas as pd\n",
    "import numpy as np\n",
    "import matplotlib.pyplot as plt\n",
    "%matplotlib inline\n",
    "import seaborn as sns"
   ]
  },
  {
   "cell_type": "code",
   "execution_count": 2,
   "id": "debbc6f0",
   "metadata": {},
   "outputs": [],
   "source": [
    "pd.pandas.set_option('display.max_columns',None)"
   ]
  },
  {
   "cell_type": "code",
   "execution_count": 3,
   "id": "6b195848",
   "metadata": {},
   "outputs": [],
   "source": [
    "df=pd.read_csv('US_Accidents_Dec21_updated.csv')"
   ]
  },
  {
   "cell_type": "markdown",
   "id": "c4715c1e",
   "metadata": {},
   "source": [
    "# Data preparation and Cleaning\n"
   ]
  },
  {
   "cell_type": "code",
   "execution_count": 15,
   "id": "b6f30525",
   "metadata": {},
   "outputs": [
    {
     "data": {
      "text/html": [
       "<div>\n",
       "<style scoped>\n",
       "    .dataframe tbody tr th:only-of-type {\n",
       "        vertical-align: middle;\n",
       "    }\n",
       "\n",
       "    .dataframe tbody tr th {\n",
       "        vertical-align: top;\n",
       "    }\n",
       "\n",
       "    .dataframe thead th {\n",
       "        text-align: right;\n",
       "    }\n",
       "</style>\n",
       "<table border=\"1\" class=\"dataframe\">\n",
       "  <thead>\n",
       "    <tr style=\"text-align: right;\">\n",
       "      <th></th>\n",
       "      <th>ID</th>\n",
       "      <th>Severity</th>\n",
       "      <th>Start_Time</th>\n",
       "      <th>End_Time</th>\n",
       "      <th>Start_Lat</th>\n",
       "      <th>Start_Lng</th>\n",
       "      <th>End_Lat</th>\n",
       "      <th>End_Lng</th>\n",
       "      <th>Distance(mi)</th>\n",
       "      <th>Description</th>\n",
       "      <th>Number</th>\n",
       "      <th>Street</th>\n",
       "      <th>Side</th>\n",
       "      <th>City</th>\n",
       "      <th>County</th>\n",
       "      <th>State</th>\n",
       "      <th>Zipcode</th>\n",
       "      <th>Country</th>\n",
       "      <th>Timezone</th>\n",
       "      <th>Airport_Code</th>\n",
       "      <th>Weather_Timestamp</th>\n",
       "      <th>Temperature(F)</th>\n",
       "      <th>Wind_Chill(F)</th>\n",
       "      <th>Humidity(%)</th>\n",
       "      <th>Pressure(in)</th>\n",
       "      <th>Visibility(mi)</th>\n",
       "      <th>Wind_Direction</th>\n",
       "      <th>Wind_Speed(mph)</th>\n",
       "      <th>Precipitation(in)</th>\n",
       "      <th>Weather_Condition</th>\n",
       "      <th>Amenity</th>\n",
       "      <th>Bump</th>\n",
       "      <th>Crossing</th>\n",
       "      <th>Give_Way</th>\n",
       "      <th>Junction</th>\n",
       "      <th>No_Exit</th>\n",
       "      <th>Railway</th>\n",
       "      <th>Roundabout</th>\n",
       "      <th>Station</th>\n",
       "      <th>Stop</th>\n",
       "      <th>Traffic_Calming</th>\n",
       "      <th>Traffic_Signal</th>\n",
       "      <th>Turning_Loop</th>\n",
       "      <th>Sunrise_Sunset</th>\n",
       "      <th>Civil_Twilight</th>\n",
       "      <th>Nautical_Twilight</th>\n",
       "      <th>Astronomical_Twilight</th>\n",
       "    </tr>\n",
       "  </thead>\n",
       "  <tbody>\n",
       "    <tr>\n",
       "      <th>0</th>\n",
       "      <td>A-1</td>\n",
       "      <td>3</td>\n",
       "      <td>2016-02-08 00:37:08</td>\n",
       "      <td>2016-02-08 06:37:08</td>\n",
       "      <td>40.108910</td>\n",
       "      <td>-83.092860</td>\n",
       "      <td>40.112060</td>\n",
       "      <td>-83.031870</td>\n",
       "      <td>3.230</td>\n",
       "      <td>Between Sawmill Rd/Exit 20 and OH-315/Olentang...</td>\n",
       "      <td>NaN</td>\n",
       "      <td>Outerbelt E</td>\n",
       "      <td>R</td>\n",
       "      <td>Dublin</td>\n",
       "      <td>Franklin</td>\n",
       "      <td>OH</td>\n",
       "      <td>43017</td>\n",
       "      <td>US</td>\n",
       "      <td>US/Eastern</td>\n",
       "      <td>KOSU</td>\n",
       "      <td>2016-02-08 00:53:00</td>\n",
       "      <td>42.1</td>\n",
       "      <td>36.1</td>\n",
       "      <td>58.0</td>\n",
       "      <td>29.76</td>\n",
       "      <td>10.0</td>\n",
       "      <td>SW</td>\n",
       "      <td>10.4</td>\n",
       "      <td>0.00</td>\n",
       "      <td>Light Rain</td>\n",
       "      <td>False</td>\n",
       "      <td>False</td>\n",
       "      <td>False</td>\n",
       "      <td>False</td>\n",
       "      <td>False</td>\n",
       "      <td>False</td>\n",
       "      <td>False</td>\n",
       "      <td>False</td>\n",
       "      <td>False</td>\n",
       "      <td>False</td>\n",
       "      <td>False</td>\n",
       "      <td>False</td>\n",
       "      <td>False</td>\n",
       "      <td>Night</td>\n",
       "      <td>Night</td>\n",
       "      <td>Night</td>\n",
       "      <td>Night</td>\n",
       "    </tr>\n",
       "    <tr>\n",
       "      <th>1</th>\n",
       "      <td>A-2</td>\n",
       "      <td>2</td>\n",
       "      <td>2016-02-08 05:56:20</td>\n",
       "      <td>2016-02-08 11:56:20</td>\n",
       "      <td>39.865420</td>\n",
       "      <td>-84.062800</td>\n",
       "      <td>39.865010</td>\n",
       "      <td>-84.048730</td>\n",
       "      <td>0.747</td>\n",
       "      <td>At OH-4/OH-235/Exit 41 - Accident.</td>\n",
       "      <td>NaN</td>\n",
       "      <td>I-70 E</td>\n",
       "      <td>R</td>\n",
       "      <td>Dayton</td>\n",
       "      <td>Montgomery</td>\n",
       "      <td>OH</td>\n",
       "      <td>45424</td>\n",
       "      <td>US</td>\n",
       "      <td>US/Eastern</td>\n",
       "      <td>KFFO</td>\n",
       "      <td>2016-02-08 05:58:00</td>\n",
       "      <td>36.9</td>\n",
       "      <td>NaN</td>\n",
       "      <td>91.0</td>\n",
       "      <td>29.68</td>\n",
       "      <td>10.0</td>\n",
       "      <td>Calm</td>\n",
       "      <td>NaN</td>\n",
       "      <td>0.02</td>\n",
       "      <td>Light Rain</td>\n",
       "      <td>False</td>\n",
       "      <td>False</td>\n",
       "      <td>False</td>\n",
       "      <td>False</td>\n",
       "      <td>False</td>\n",
       "      <td>False</td>\n",
       "      <td>False</td>\n",
       "      <td>False</td>\n",
       "      <td>False</td>\n",
       "      <td>False</td>\n",
       "      <td>False</td>\n",
       "      <td>False</td>\n",
       "      <td>False</td>\n",
       "      <td>Night</td>\n",
       "      <td>Night</td>\n",
       "      <td>Night</td>\n",
       "      <td>Night</td>\n",
       "    </tr>\n",
       "    <tr>\n",
       "      <th>2</th>\n",
       "      <td>A-3</td>\n",
       "      <td>2</td>\n",
       "      <td>2016-02-08 06:15:39</td>\n",
       "      <td>2016-02-08 12:15:39</td>\n",
       "      <td>39.102660</td>\n",
       "      <td>-84.524680</td>\n",
       "      <td>39.102090</td>\n",
       "      <td>-84.523960</td>\n",
       "      <td>0.055</td>\n",
       "      <td>At I-71/US-50/Exit 1 - Accident.</td>\n",
       "      <td>NaN</td>\n",
       "      <td>I-75 S</td>\n",
       "      <td>R</td>\n",
       "      <td>Cincinnati</td>\n",
       "      <td>Hamilton</td>\n",
       "      <td>OH</td>\n",
       "      <td>45203</td>\n",
       "      <td>US</td>\n",
       "      <td>US/Eastern</td>\n",
       "      <td>KLUK</td>\n",
       "      <td>2016-02-08 05:53:00</td>\n",
       "      <td>36.0</td>\n",
       "      <td>NaN</td>\n",
       "      <td>97.0</td>\n",
       "      <td>29.70</td>\n",
       "      <td>10.0</td>\n",
       "      <td>Calm</td>\n",
       "      <td>NaN</td>\n",
       "      <td>0.02</td>\n",
       "      <td>Overcast</td>\n",
       "      <td>False</td>\n",
       "      <td>False</td>\n",
       "      <td>False</td>\n",
       "      <td>False</td>\n",
       "      <td>True</td>\n",
       "      <td>False</td>\n",
       "      <td>False</td>\n",
       "      <td>False</td>\n",
       "      <td>False</td>\n",
       "      <td>False</td>\n",
       "      <td>False</td>\n",
       "      <td>False</td>\n",
       "      <td>False</td>\n",
       "      <td>Night</td>\n",
       "      <td>Night</td>\n",
       "      <td>Night</td>\n",
       "      <td>Day</td>\n",
       "    </tr>\n",
       "    <tr>\n",
       "      <th>3</th>\n",
       "      <td>A-4</td>\n",
       "      <td>2</td>\n",
       "      <td>2016-02-08 06:51:45</td>\n",
       "      <td>2016-02-08 12:51:45</td>\n",
       "      <td>41.062130</td>\n",
       "      <td>-81.537840</td>\n",
       "      <td>41.062170</td>\n",
       "      <td>-81.535470</td>\n",
       "      <td>0.123</td>\n",
       "      <td>At Dart Ave/Exit 21 - Accident.</td>\n",
       "      <td>NaN</td>\n",
       "      <td>I-77 N</td>\n",
       "      <td>R</td>\n",
       "      <td>Akron</td>\n",
       "      <td>Summit</td>\n",
       "      <td>OH</td>\n",
       "      <td>44311</td>\n",
       "      <td>US</td>\n",
       "      <td>US/Eastern</td>\n",
       "      <td>KAKR</td>\n",
       "      <td>2016-02-08 06:54:00</td>\n",
       "      <td>39.0</td>\n",
       "      <td>NaN</td>\n",
       "      <td>55.0</td>\n",
       "      <td>29.65</td>\n",
       "      <td>10.0</td>\n",
       "      <td>Calm</td>\n",
       "      <td>NaN</td>\n",
       "      <td>NaN</td>\n",
       "      <td>Overcast</td>\n",
       "      <td>False</td>\n",
       "      <td>False</td>\n",
       "      <td>False</td>\n",
       "      <td>False</td>\n",
       "      <td>False</td>\n",
       "      <td>False</td>\n",
       "      <td>False</td>\n",
       "      <td>False</td>\n",
       "      <td>False</td>\n",
       "      <td>False</td>\n",
       "      <td>False</td>\n",
       "      <td>False</td>\n",
       "      <td>False</td>\n",
       "      <td>Night</td>\n",
       "      <td>Night</td>\n",
       "      <td>Day</td>\n",
       "      <td>Day</td>\n",
       "    </tr>\n",
       "    <tr>\n",
       "      <th>4</th>\n",
       "      <td>A-5</td>\n",
       "      <td>3</td>\n",
       "      <td>2016-02-08 07:53:43</td>\n",
       "      <td>2016-02-08 13:53:43</td>\n",
       "      <td>39.172393</td>\n",
       "      <td>-84.492792</td>\n",
       "      <td>39.170476</td>\n",
       "      <td>-84.501798</td>\n",
       "      <td>0.500</td>\n",
       "      <td>At Mitchell Ave/Exit 6 - Accident.</td>\n",
       "      <td>NaN</td>\n",
       "      <td>I-75 S</td>\n",
       "      <td>R</td>\n",
       "      <td>Cincinnati</td>\n",
       "      <td>Hamilton</td>\n",
       "      <td>OH</td>\n",
       "      <td>45217</td>\n",
       "      <td>US</td>\n",
       "      <td>US/Eastern</td>\n",
       "      <td>KLUK</td>\n",
       "      <td>2016-02-08 07:53:00</td>\n",
       "      <td>37.0</td>\n",
       "      <td>29.8</td>\n",
       "      <td>93.0</td>\n",
       "      <td>29.69</td>\n",
       "      <td>10.0</td>\n",
       "      <td>WSW</td>\n",
       "      <td>10.4</td>\n",
       "      <td>0.01</td>\n",
       "      <td>Light Rain</td>\n",
       "      <td>False</td>\n",
       "      <td>False</td>\n",
       "      <td>False</td>\n",
       "      <td>False</td>\n",
       "      <td>False</td>\n",
       "      <td>False</td>\n",
       "      <td>False</td>\n",
       "      <td>False</td>\n",
       "      <td>False</td>\n",
       "      <td>False</td>\n",
       "      <td>False</td>\n",
       "      <td>False</td>\n",
       "      <td>False</td>\n",
       "      <td>Day</td>\n",
       "      <td>Day</td>\n",
       "      <td>Day</td>\n",
       "      <td>Day</td>\n",
       "    </tr>\n",
       "  </tbody>\n",
       "</table>\n",
       "</div>"
      ],
      "text/plain": [
       "    ID  Severity           Start_Time             End_Time  Start_Lat  \\\n",
       "0  A-1         3  2016-02-08 00:37:08  2016-02-08 06:37:08  40.108910   \n",
       "1  A-2         2  2016-02-08 05:56:20  2016-02-08 11:56:20  39.865420   \n",
       "2  A-3         2  2016-02-08 06:15:39  2016-02-08 12:15:39  39.102660   \n",
       "3  A-4         2  2016-02-08 06:51:45  2016-02-08 12:51:45  41.062130   \n",
       "4  A-5         3  2016-02-08 07:53:43  2016-02-08 13:53:43  39.172393   \n",
       "\n",
       "   Start_Lng    End_Lat    End_Lng  Distance(mi)  \\\n",
       "0 -83.092860  40.112060 -83.031870         3.230   \n",
       "1 -84.062800  39.865010 -84.048730         0.747   \n",
       "2 -84.524680  39.102090 -84.523960         0.055   \n",
       "3 -81.537840  41.062170 -81.535470         0.123   \n",
       "4 -84.492792  39.170476 -84.501798         0.500   \n",
       "\n",
       "                                         Description  Number       Street  \\\n",
       "0  Between Sawmill Rd/Exit 20 and OH-315/Olentang...     NaN  Outerbelt E   \n",
       "1                 At OH-4/OH-235/Exit 41 - Accident.     NaN       I-70 E   \n",
       "2                   At I-71/US-50/Exit 1 - Accident.     NaN       I-75 S   \n",
       "3                    At Dart Ave/Exit 21 - Accident.     NaN       I-77 N   \n",
       "4                 At Mitchell Ave/Exit 6 - Accident.     NaN       I-75 S   \n",
       "\n",
       "  Side        City      County State Zipcode Country    Timezone Airport_Code  \\\n",
       "0    R      Dublin    Franklin    OH   43017      US  US/Eastern         KOSU   \n",
       "1    R      Dayton  Montgomery    OH   45424      US  US/Eastern         KFFO   \n",
       "2    R  Cincinnati    Hamilton    OH   45203      US  US/Eastern         KLUK   \n",
       "3    R       Akron      Summit    OH   44311      US  US/Eastern         KAKR   \n",
       "4    R  Cincinnati    Hamilton    OH   45217      US  US/Eastern         KLUK   \n",
       "\n",
       "     Weather_Timestamp  Temperature(F)  Wind_Chill(F)  Humidity(%)  \\\n",
       "0  2016-02-08 00:53:00            42.1           36.1         58.0   \n",
       "1  2016-02-08 05:58:00            36.9            NaN         91.0   \n",
       "2  2016-02-08 05:53:00            36.0            NaN         97.0   \n",
       "3  2016-02-08 06:54:00            39.0            NaN         55.0   \n",
       "4  2016-02-08 07:53:00            37.0           29.8         93.0   \n",
       "\n",
       "   Pressure(in)  Visibility(mi) Wind_Direction  Wind_Speed(mph)  \\\n",
       "0         29.76            10.0             SW             10.4   \n",
       "1         29.68            10.0           Calm              NaN   \n",
       "2         29.70            10.0           Calm              NaN   \n",
       "3         29.65            10.0           Calm              NaN   \n",
       "4         29.69            10.0            WSW             10.4   \n",
       "\n",
       "   Precipitation(in) Weather_Condition  Amenity   Bump  Crossing  Give_Way  \\\n",
       "0               0.00        Light Rain    False  False     False     False   \n",
       "1               0.02        Light Rain    False  False     False     False   \n",
       "2               0.02          Overcast    False  False     False     False   \n",
       "3                NaN          Overcast    False  False     False     False   \n",
       "4               0.01        Light Rain    False  False     False     False   \n",
       "\n",
       "   Junction  No_Exit  Railway  Roundabout  Station   Stop  Traffic_Calming  \\\n",
       "0     False    False    False       False    False  False            False   \n",
       "1     False    False    False       False    False  False            False   \n",
       "2      True    False    False       False    False  False            False   \n",
       "3     False    False    False       False    False  False            False   \n",
       "4     False    False    False       False    False  False            False   \n",
       "\n",
       "   Traffic_Signal  Turning_Loop Sunrise_Sunset Civil_Twilight  \\\n",
       "0           False         False          Night          Night   \n",
       "1           False         False          Night          Night   \n",
       "2           False         False          Night          Night   \n",
       "3           False         False          Night          Night   \n",
       "4           False         False            Day            Day   \n",
       "\n",
       "  Nautical_Twilight Astronomical_Twilight  \n",
       "0             Night                 Night  \n",
       "1             Night                 Night  \n",
       "2             Night                   Day  \n",
       "3               Day                   Day  \n",
       "4               Day                   Day  "
      ]
     },
     "execution_count": 15,
     "metadata": {},
     "output_type": "execute_result"
    }
   ],
   "source": [
    "df.head(5)"
   ]
  },
  {
   "cell_type": "code",
   "execution_count": 4,
   "id": "56f04a46",
   "metadata": {},
   "outputs": [
    {
     "data": {
      "text/plain": [
       "Index(['ID', 'Severity', 'Start_Time', 'End_Time', 'Start_Lat', 'Start_Lng',\n",
       "       'End_Lat', 'End_Lng', 'Distance(mi)', 'Description', 'Number', 'Street',\n",
       "       'Side', 'City', 'County', 'State', 'Zipcode', 'Country', 'Timezone',\n",
       "       'Airport_Code', 'Weather_Timestamp', 'Temperature(F)', 'Wind_Chill(F)',\n",
       "       'Humidity(%)', 'Pressure(in)', 'Visibility(mi)', 'Wind_Direction',\n",
       "       'Wind_Speed(mph)', 'Precipitation(in)', 'Weather_Condition', 'Amenity',\n",
       "       'Bump', 'Crossing', 'Give_Way', 'Junction', 'No_Exit', 'Railway',\n",
       "       'Roundabout', 'Station', 'Stop', 'Traffic_Calming', 'Traffic_Signal',\n",
       "       'Turning_Loop', 'Sunrise_Sunset', 'Civil_Twilight', 'Nautical_Twilight',\n",
       "       'Astronomical_Twilight'],\n",
       "      dtype='object')"
      ]
     },
     "execution_count": 4,
     "metadata": {},
     "output_type": "execute_result"
    }
   ],
   "source": [
    "df.columns"
   ]
  },
  {
   "cell_type": "code",
   "execution_count": 5,
   "id": "a02c2f0a",
   "metadata": {},
   "outputs": [
    {
     "name": "stdout",
     "output_type": "stream",
     "text": [
      "<class 'pandas.core.frame.DataFrame'>\n",
      "RangeIndex: 2845342 entries, 0 to 2845341\n",
      "Data columns (total 47 columns):\n",
      " #   Column                 Dtype  \n",
      "---  ------                 -----  \n",
      " 0   ID                     object \n",
      " 1   Severity               int64  \n",
      " 2   Start_Time             object \n",
      " 3   End_Time               object \n",
      " 4   Start_Lat              float64\n",
      " 5   Start_Lng              float64\n",
      " 6   End_Lat                float64\n",
      " 7   End_Lng                float64\n",
      " 8   Distance(mi)           float64\n",
      " 9   Description            object \n",
      " 10  Number                 float64\n",
      " 11  Street                 object \n",
      " 12  Side                   object \n",
      " 13  City                   object \n",
      " 14  County                 object \n",
      " 15  State                  object \n",
      " 16  Zipcode                object \n",
      " 17  Country                object \n",
      " 18  Timezone               object \n",
      " 19  Airport_Code           object \n",
      " 20  Weather_Timestamp      object \n",
      " 21  Temperature(F)         float64\n",
      " 22  Wind_Chill(F)          float64\n",
      " 23  Humidity(%)            float64\n",
      " 24  Pressure(in)           float64\n",
      " 25  Visibility(mi)         float64\n",
      " 26  Wind_Direction         object \n",
      " 27  Wind_Speed(mph)        float64\n",
      " 28  Precipitation(in)      float64\n",
      " 29  Weather_Condition      object \n",
      " 30  Amenity                bool   \n",
      " 31  Bump                   bool   \n",
      " 32  Crossing               bool   \n",
      " 33  Give_Way               bool   \n",
      " 34  Junction               bool   \n",
      " 35  No_Exit                bool   \n",
      " 36  Railway                bool   \n",
      " 37  Roundabout             bool   \n",
      " 38  Station                bool   \n",
      " 39  Stop                   bool   \n",
      " 40  Traffic_Calming        bool   \n",
      " 41  Traffic_Signal         bool   \n",
      " 42  Turning_Loop           bool   \n",
      " 43  Sunrise_Sunset         object \n",
      " 44  Civil_Twilight         object \n",
      " 45  Nautical_Twilight      object \n",
      " 46  Astronomical_Twilight  object \n",
      "dtypes: bool(13), float64(13), int64(1), object(20)\n",
      "memory usage: 773.4+ MB\n"
     ]
    }
   ],
   "source": [
    "df.info()"
   ]
  },
  {
   "cell_type": "code",
   "execution_count": 17,
   "id": "66e13267",
   "metadata": {},
   "outputs": [
    {
     "name": "stdout",
     "output_type": "stream",
     "text": [
      "(2845342, 47)\n"
     ]
    }
   ],
   "source": [
    "print(df.shape)"
   ]
  },
  {
   "cell_type": "code",
   "execution_count": 22,
   "id": "d2f05750",
   "metadata": {},
   "outputs": [
    {
     "data": {
      "text/plain": [
       "ID                             0\n",
       "Severity                       0\n",
       "Start_Time                     0\n",
       "End_Time                       0\n",
       "Start_Lat                      0\n",
       "Start_Lng                      0\n",
       "End_Lat                        0\n",
       "End_Lng                        0\n",
       "Distance(mi)                   0\n",
       "Description                    0\n",
       "Number                   1743911\n",
       "Street                         2\n",
       "Side                           0\n",
       "City                         137\n",
       "County                         0\n",
       "State                          0\n",
       "Zipcode                     1319\n",
       "Country                        0\n",
       "Timezone                    3659\n",
       "Airport_Code                9549\n",
       "Weather_Timestamp          50736\n",
       "Temperature(F)             69274\n",
       "Wind_Chill(F)             469643\n",
       "Humidity(%)                73092\n",
       "Pressure(in)               59200\n",
       "Visibility(mi)             70546\n",
       "Wind_Direction             73775\n",
       "Wind_Speed(mph)           157944\n",
       "Precipitation(in)         549458\n",
       "Weather_Condition          70636\n",
       "Amenity                        0\n",
       "Bump                           0\n",
       "Crossing                       0\n",
       "Give_Way                       0\n",
       "Junction                       0\n",
       "No_Exit                        0\n",
       "Railway                        0\n",
       "Roundabout                     0\n",
       "Station                        0\n",
       "Stop                           0\n",
       "Traffic_Calming                0\n",
       "Traffic_Signal                 0\n",
       "Turning_Loop                   0\n",
       "Sunrise_Sunset              2867\n",
       "Civil_Twilight              2867\n",
       "Nautical_Twilight           2867\n",
       "Astronomical_Twilight       2867\n",
       "dtype: int64"
      ]
     },
     "execution_count": 22,
     "metadata": {},
     "output_type": "execute_result"
    }
   ],
   "source": [
    "df.isna().sum()"
   ]
  },
  {
   "cell_type": "code",
   "execution_count": 5,
   "id": "6abd224e",
   "metadata": {},
   "outputs": [
    {
     "data": {
      "text/plain": [
       "Number                   6.129003e-01\n",
       "Precipitation(in)        1.931079e-01\n",
       "Wind_Chill(F)            1.650568e-01\n",
       "Wind_Speed(mph)          5.550967e-02\n",
       "Wind_Direction           2.592834e-02\n",
       "Humidity(%)              2.568830e-02\n",
       "Weather_Condition        2.482514e-02\n",
       "Visibility(mi)           2.479350e-02\n",
       "Temperature(F)           2.434646e-02\n",
       "Pressure(in)             2.080593e-02\n",
       "Weather_Timestamp        1.783125e-02\n",
       "Airport_Code             3.356011e-03\n",
       "Timezone                 1.285961e-03\n",
       "Nautical_Twilight        1.007612e-03\n",
       "Civil_Twilight           1.007612e-03\n",
       "Sunrise_Sunset           1.007612e-03\n",
       "Astronomical_Twilight    1.007612e-03\n",
       "Zipcode                  4.635647e-04\n",
       "City                     4.814887e-05\n",
       "Street                   7.029032e-07\n",
       "dtype: float64"
      ]
     },
     "execution_count": 5,
     "metadata": {},
     "output_type": "execute_result"
    }
   ],
   "source": [
    "#percentage of missing values\n",
    "missing_percentages =df.isna().sum().sort_values(ascending=False)/len(df)\n",
    "missing_percentages[missing_percentages!=0]"
   ]
  },
  {
   "cell_type": "code",
   "execution_count": 6,
   "id": "8df1ccf0",
   "metadata": {},
   "outputs": [
    {
     "data": {
      "text/plain": [
       "<AxesSubplot:>"
      ]
     },
     "execution_count": 6,
     "metadata": {},
     "output_type": "execute_result"
    },
    {
     "data": {
      "image/png": "[encoded data removed]",
      "text/plain": [
       "<Figure size 432x288 with 1 Axes>"
      ]
     },
     "metadata": {
      "needs_background": "light"
     },
     "output_type": "display_data"
    }
   ],
   "source": [
    "missing_percentages[missing_percentages!=0].plot(kind='barh')"
   ]
  },
  {
   "cell_type": "code",
   "execution_count": 23,
   "id": "bd9ace56",
   "metadata": {},
   "outputs": [],
   "source": [
    "#remove columns that we don't want to user since that column is missed for more percentage\n",
    "\n",
    "\n"
   ]
  },
  {
   "cell_type": "markdown",
   "id": "945ec912",
   "metadata": {},
   "source": [
    "# Exploratory Analysis and Visualization"
   ]
  },
  {
   "cell_type": "code",
   "execution_count": null,
   "id": "4d405b67",
   "metadata": {},
   "outputs": [],
   "source": [
    "#select some of the columns and plot the graph to analyse the insights"
   ]
  },
  {
   "cell_type": "code",
   "execution_count": 7,
   "id": "497c6ec3",
   "metadata": {},
   "outputs": [
    {
     "data": {
      "text/plain": [
       "Index(['ID', 'Severity', 'Start_Time', 'End_Time', 'Start_Lat', 'Start_Lng',\n",
       "       'End_Lat', 'End_Lng', 'Distance(mi)', 'Description', 'Number', 'Street',\n",
       "       'Side', 'City', 'County', 'State', 'Zipcode', 'Country', 'Timezone',\n",
       "       'Airport_Code', 'Weather_Timestamp', 'Temperature(F)', 'Wind_Chill(F)',\n",
       "       'Humidity(%)', 'Pressure(in)', 'Visibility(mi)', 'Wind_Direction',\n",
       "       'Wind_Speed(mph)', 'Precipitation(in)', 'Weather_Condition', 'Amenity',\n",
       "       'Bump', 'Crossing', 'Give_Way', 'Junction', 'No_Exit', 'Railway',\n",
       "       'Roundabout', 'Station', 'Stop', 'Traffic_Calming', 'Traffic_Signal',\n",
       "       'Turning_Loop', 'Sunrise_Sunset', 'Civil_Twilight', 'Nautical_Twilight',\n",
       "       'Astronomical_Twilight'],\n",
       "      dtype='object')"
      ]
     },
     "execution_count": 7,
     "metadata": {},
     "output_type": "execute_result"
    }
   ],
   "source": [
    "df.columns"
   ]
  },
  {
   "cell_type": "code",
   "execution_count": null,
   "id": "702f8dad",
   "metadata": {},
   "outputs": [],
   "source": [
    "#columns will analyse :\n",
    "#City, Start time, Start_Lng, Start_Lat, Temperature, Weathercondition"
   ]
  },
  {
   "cell_type": "code",
   "execution_count": 9,
   "id": "f093229c",
   "metadata": {},
   "outputs": [
    {
     "data": {
      "text/plain": [
       "array(['Dublin', 'Dayton', 'Cincinnati', ..., 'Clarksdale', 'Bridgeboro',\n",
       "       'American Fork-Pleasant Grove'], dtype=object)"
      ]
     },
     "execution_count": 9,
     "metadata": {},
     "output_type": "execute_result"
    }
   ],
   "source": [
    "cities=df.City.unique()\n",
    "cities"
   ]
  },
  {
   "cell_type": "code",
   "execution_count": 10,
   "id": "33ef6a42",
   "metadata": {},
   "outputs": [
    {
     "data": {
      "text/plain": [
       "array(['Dublin', 'Dayton', 'Cincinnati', 'Akron', 'Williamsburg',\n",
       "       'Cleveland', 'Lima', 'Westerville', 'Jamestown', 'Freeport',\n",
       "       'Columbus', 'Toledo', 'Roanoke', 'Ft Mitchell', 'Edinburgh',\n",
       "       'Fairborn', 'Shelbyville', 'Greensburg', 'Saint Paul',\n",
       "       'Parkersburg', 'Indianapolis', 'Dundee', 'Jeffersonville',\n",
       "       'Pittsburgh', 'Lewis Center', 'Dunkirk', 'Redkey', 'Milton',\n",
       "       'Willshire', 'Straughn', 'Cambridge Springs', 'Fremont',\n",
       "       'Louisville', 'South Charleston', 'Edinboro', 'Buckhannon',\n",
       "       'Lockbourne', 'Painesville', 'Washington', 'Dunbar', 'Angola',\n",
       "       'Edon', 'Medina', 'De Mossville', 'New Albany', 'Charleston',\n",
       "       'Fort Wayne', 'Burnsville', 'Bedford', 'Clarksville', 'Lakewood',\n",
       "       'Richfield', 'Sewickley', 'Independence', 'Westlake', 'Erlanger',\n",
       "       'Grove City', 'Monroe', 'West Middlesex', 'Gaston', 'Economy',\n",
       "       'Fairmount', 'Hagerstown', 'Walton', 'Crittenden', 'Coraopolis',\n",
       "       'Holland', 'Greenfield', 'Anderson', 'Englewood', 'Knightstown',\n",
       "       'Bentleyville', 'Memphis', 'Henryville', 'Kendallville', 'Avilla',\n",
       "       'Ohio City', 'Van Wert', 'Rocky River', 'Sturgis', 'West Chester',\n",
       "       'Orient', 'Madison', 'Deputy', 'Keystone', 'Mercer', 'Bryant',\n",
       "       'Pennville', 'Kimbolton', 'Thornville', 'Wexford', 'Fishers',\n",
       "       'Noblesville', 'Macedonia', 'Youngstown', 'Fairdale', 'Sutton',\n",
       "       'Mount Sterling', 'Northwood', 'Huntington'], dtype=object)"
      ]
     },
     "execution_count": 10,
     "metadata": {},
     "output_type": "execute_result"
    }
   ],
   "source": [
    "cities[:100]"
   ]
  },
  {
   "cell_type": "code",
   "execution_count": 12,
   "id": "cfa724e5",
   "metadata": {},
   "outputs": [
    {
     "data": {
      "text/plain": [
       "Miami                           106966\n",
       "Los Angeles                      68956\n",
       "Orlando                          54691\n",
       "Dallas                           41979\n",
       "Houston                          39448\n",
       "                                 ...  \n",
       "Ridgedale                            1\n",
       "Sekiu                                1\n",
       "Wooldridge                           1\n",
       "Bullock                              1\n",
       "American Fork-Pleasant Grove         1\n",
       "Name: City, Length: 11681, dtype: int64"
      ]
     },
     "execution_count": 12,
     "metadata": {},
     "output_type": "execute_result"
    }
   ],
   "source": [
    "cities_by_accident=df.City.value_counts()\n",
    "cities_by_accident"
   ]
  },
  {
   "cell_type": "code",
   "execution_count": 17,
   "id": "64849f8f",
   "metadata": {},
   "outputs": [
    {
     "data": {
      "text/plain": [
       "Miami          106966\n",
       "Los Angeles     68956\n",
       "Orlando         54691\n",
       "Dallas          41979\n",
       "Houston         39448\n",
       "Charlotte       33152\n",
       "Sacramento      32559\n",
       "San Diego       26627\n",
       "Raleigh         22840\n",
       "Minneapolis     22768\n",
       "Name: City, dtype: int64"
      ]
     },
     "execution_count": 17,
     "metadata": {},
     "output_type": "execute_result"
    }
   ],
   "source": [
    "cities_by_accident[:10]"
   ]
  },
  {
   "cell_type": "code",
   "execution_count": 34,
   "id": "2221d9df",
   "metadata": {},
   "outputs": [
    {
     "data": {
      "text/plain": [
       "False"
      ]
     },
     "execution_count": 34,
     "metadata": {},
     "output_type": "execute_result"
    }
   ],
   "source": [
    "#check if a value exist\n",
    "\n",
    "'New York' in df.City\n"
   ]
  },
  {
   "cell_type": "code",
   "execution_count": 13,
   "id": "eae78bb7",
   "metadata": {},
   "outputs": [
    {
     "data": {
      "text/plain": [
       "<AxesSubplot:>"
      ]
     },
     "execution_count": 13,
     "metadata": {},
     "output_type": "execute_result"
    },
    {
     "data": {
      "image/png": "[encoded data removed]",
      "text/plain": [
       "<Figure size 432x288 with 1 Axes>"
      ]
     },
     "metadata": {
      "needs_background": "light"
     },
     "output_type": "display_data"
    }
   ],
   "source": [
    "cities_by_accident[:20].plot(kind='barh')"
   ]
  },
  {
   "cell_type": "code",
   "execution_count": 14,
   "id": "0fa8efe0",
   "metadata": {},
   "outputs": [],
   "source": [
    "import seaborn as sns\n",
    "sns.set_style(\"darkgrid\")"
   ]
  },
  {
   "cell_type": "code",
   "execution_count": 41,
   "id": "af7094eb",
   "metadata": {},
   "outputs": [
    {
     "name": "stderr",
     "output_type": "stream",
     "text": [
      "C:\\Users\\kcjc608\\Anaconda3\\lib\\site-packages\\seaborn\\distributions.py:2619: FutureWarning: `distplot` is a deprecated function and will be removed in a future version. Please adapt your code to use either `displot` (a figure-level function with similar flexibility) or `histplot` (an axes-level function for histograms).\n",
      "  warnings.warn(msg, FutureWarning)\n"
     ]
    },
    {
     "data": {
      "text/plain": [
       "<AxesSubplot:xlabel='City', ylabel='Density'>"
      ]
     },
     "execution_count": 41,
     "metadata": {},
     "output_type": "execute_result"
    },
    {
     "data": {
      "image/png": "[encoded data removed]",
      "text/plain": [
       "<Figure size 432x288 with 1 Axes>"
      ]
     },
     "metadata": {},
     "output_type": "display_data"
    }
   ],
   "source": [
    "sns.distplot(cities_by_accident)"
   ]
  },
  {
   "cell_type": "code",
   "execution_count": 38,
   "id": "4ead6972",
   "metadata": {},
   "outputs": [
    {
     "data": {
      "text/plain": [
       "pandas.core.series.Series"
      ]
     },
     "execution_count": 38,
     "metadata": {},
     "output_type": "execute_result"
    }
   ],
   "source": [
    "type(cities_by_accident)"
   ]
  },
  {
   "cell_type": "code",
   "execution_count": 39,
   "id": "1ef19add",
   "metadata": {},
   "outputs": [
    {
     "data": {
      "text/plain": [
       "[106966,\n",
       " 68956,\n",
       " 54691,\n",
       " 41979,\n",
       " 39448,\n",
       " 33152,\n",
       " 32559,\n",
       " 26627,\n",
       " 22840,\n",
       " 22768,\n",
       " 20944,\n",
       " 20267,\n",
       " 18301,\n",
       " 18182,\n",
       " 17143,\n",
       " 16869,\n",
       " 16251,\n",
       " 15622,\n",
       " 14967,\n",
       " 14349,\n",
       " 13799,\n",
       " 13377,\n",
       " 13310,\n",
       " 13298,\n",
       " 12044,\n",
       " 11249,\n",
       " 11188,\n",
       " 10984,\n",
       " 10709,\n",
       " 10538,\n",
       " 10502,\n",
       " 10398,\n",
       " 10345,\n",
       " 10051,\n",
       " 9885,\n",
       " 9763,\n",
       " 9624,\n",
       " 9453,\n",
       " 9335,\n",
       " 9205,\n",
       " 9025,\n",
       " 8898,\n",
       " 8896,\n",
       " 8328,\n",
       " 7960,\n",
       " 7555,\n",
       " 7543,\n",
       " 7361,\n",
       " 7344,\n",
       " 7184,\n",
       " 7068,\n",
       " 7029,\n",
       " 7021,\n",
       " 6971,\n",
       " 6951,\n",
       " 6924,\n",
       " 6908,\n",
       " 6882,\n",
       " 6862,\n",
       " 6858,\n",
       " 6421,\n",
       " 6199,\n",
       " 6145,\n",
       " 6098,\n",
       " 5930,\n",
       " 5733,\n",
       " 5579,\n",
       " 5542,\n",
       " 5258,\n",
       " 5115,\n",
       " 5092,\n",
       " 4991,\n",
       " 4704,\n",
       " 4695,\n",
       " 4694,\n",
       " 4645,\n",
       " 4585,\n",
       " 4577,\n",
       " 4543,\n",
       " 4513,\n",
       " 4510,\n",
       " 4400,\n",
       " 4299,\n",
       " 4260,\n",
       " 4179,\n",
       " 4166,\n",
       " 4149,\n",
       " 4149,\n",
       " 4138,\n",
       " 4114,\n",
       " 4075,\n",
       " 4050,\n",
       " 4041,\n",
       " 4022,\n",
       " 3979,\n",
       " 3950,\n",
       " 3925,\n",
       " 3924,\n",
       " 3898,\n",
       " 3824,\n",
       " 3726,\n",
       " 3683,\n",
       " 3634,\n",
       " 3629,\n",
       " 3611,\n",
       " 3600,\n",
       " 3562,\n",
       " 3555,\n",
       " 3542,\n",
       " 3540,\n",
       " 3537,\n",
       " 3526,\n",
       " 3514,\n",
       " 3502,\n",
       " 3476,\n",
       " 3471,\n",
       " 3466,\n",
       " 3429,\n",
       " 3408,\n",
       " 3382,\n",
       " 3362,\n",
       " 3327,\n",
       " 3302,\n",
       " 3278,\n",
       " 3268,\n",
       " 3249,\n",
       " 3210,\n",
       " 3207,\n",
       " 3200,\n",
       " 3191,\n",
       " 3185,\n",
       " 3179,\n",
       " 3177,\n",
       " 3160,\n",
       " 3128,\n",
       " 3071,\n",
       " 3050,\n",
       " 3050,\n",
       " 3037,\n",
       " 3013,\n",
       " 2999,\n",
       " 2994,\n",
       " 2988,\n",
       " 2977,\n",
       " 2950,\n",
       " 2950,\n",
       " 2904,\n",
       " 2888,\n",
       " 2876,\n",
       " 2855,\n",
       " 2825,\n",
       " 2806,\n",
       " 2790,\n",
       " 2787,\n",
       " 2774,\n",
       " 2739,\n",
       " 2734,\n",
       " 2694,\n",
       " 2681,\n",
       " 2653,\n",
       " 2623,\n",
       " 2613,\n",
       " 2610,\n",
       " 2600,\n",
       " 2574,\n",
       " 2572,\n",
       " 2571,\n",
       " 2567,\n",
       " 2545,\n",
       " 2536,\n",
       " 2526,\n",
       " 2496,\n",
       " 2492,\n",
       " 2490,\n",
       " 2481,\n",
       " 2469,\n",
       " 2458,\n",
       " 2447,\n",
       " 2413,\n",
       " 2406,\n",
       " 2401,\n",
       " 2373,\n",
       " 2362,\n",
       " 2344,\n",
       " 2341,\n",
       " 2337,\n",
       " 2331,\n",
       " 2319,\n",
       " 2315,\n",
       " 2300,\n",
       " 2284,\n",
       " 2272,\n",
       " 2264,\n",
       " 2254,\n",
       " 2212,\n",
       " 2212,\n",
       " 2201,\n",
       " 2198,\n",
       " 2191,\n",
       " 2191,\n",
       " 2185,\n",
       " 2179,\n",
       " 2143,\n",
       " 2096,\n",
       " 2085,\n",
       " 2079,\n",
       " 2077,\n",
       " 2058,\n",
       " 2054,\n",
       " 2053,\n",
       " 2052,\n",
       " 2050,\n",
       " 2045,\n",
       " 2041,\n",
       " 2035,\n",
       " 2031,\n",
       " 2030,\n",
       " 2028,\n",
       " 1976,\n",
       " 1973,\n",
       " 1971,\n",
       " 1966,\n",
       " 1965,\n",
       " 1962,\n",
       " 1959,\n",
       " 1959,\n",
       " 1950,\n",
       " 1948,\n",
       " 1937,\n",
       " 1935,\n",
       " 1924,\n",
       " 1923,\n",
       " 1920,\n",
       " 1919,\n",
       " 1915,\n",
       " 1914,\n",
       " 1893,\n",
       " 1881,\n",
       " 1868,\n",
       " 1847,\n",
       " 1845,\n",
       " 1843,\n",
       " 1842,\n",
       " 1841,\n",
       " 1828,\n",
       " 1822,\n",
       " 1821,\n",
       " 1820,\n",
       " 1817,\n",
       " 1817,\n",
       " 1812,\n",
       " 1808,\n",
       " 1806,\n",
       " 1803,\n",
       " 1797,\n",
       " 1793,\n",
       " 1790,\n",
       " 1771,\n",
       " 1768,\n",
       " 1760,\n",
       " 1759,\n",
       " 1755,\n",
       " 1754,\n",
       " 1748,\n",
       " 1747,\n",
       " 1744,\n",
       " 1744,\n",
       " 1743,\n",
       " 1734,\n",
       " 1733,\n",
       " 1712,\n",
       " 1710,\n",
       " 1705,\n",
       " 1698,\n",
       " 1698,\n",
       " 1693,\n",
       " 1689,\n",
       " 1684,\n",
       " 1680,\n",
       " 1671,\n",
       " 1669,\n",
       " 1669,\n",
       " 1663,\n",
       " 1625,\n",
       " 1615,\n",
       " 1613,\n",
       " 1604,\n",
       " 1603,\n",
       " 1593,\n",
       " 1570,\n",
       " 1568,\n",
       " 1564,\n",
       " 1563,\n",
       " 1561,\n",
       " 1561,\n",
       " 1557,\n",
       " 1554,\n",
       " 1541,\n",
       " 1541,\n",
       " 1532,\n",
       " 1527,\n",
       " 1514,\n",
       " 1511,\n",
       " 1507,\n",
       " 1505,\n",
       " 1501,\n",
       " 1497,\n",
       " 1497,\n",
       " 1495,\n",
       " 1482,\n",
       " 1478,\n",
       " 1475,\n",
       " 1473,\n",
       " 1469,\n",
       " 1463,\n",
       " 1453,\n",
       " 1451,\n",
       " 1451,\n",
       " 1446,\n",
       " 1444,\n",
       " 1441,\n",
       " 1433,\n",
       " 1429,\n",
       " 1429,\n",
       " 1415,\n",
       " 1415,\n",
       " 1414,\n",
       " 1412,\n",
       " 1411,\n",
       " 1408,\n",
       " 1403,\n",
       " 1402,\n",
       " 1401,\n",
       " 1400,\n",
       " 1398,\n",
       " 1398,\n",
       " 1396,\n",
       " 1395,\n",
       " 1380,\n",
       " 1380,\n",
       " 1376,\n",
       " 1374,\n",
       " 1372,\n",
       " 1370,\n",
       " 1369,\n",
       " 1367,\n",
       " 1367,\n",
       " 1359,\n",
       " 1351,\n",
       " 1351,\n",
       " 1347,\n",
       " 1345,\n",
       " 1344,\n",
       " 1336,\n",
       " 1335,\n",
       " 1333,\n",
       " 1332,\n",
       " 1331,\n",
       " 1330,\n",
       " 1328,\n",
       " 1326,\n",
       " 1323,\n",
       " 1321,\n",
       " 1316,\n",
       " 1314,\n",
       " 1307,\n",
       " 1306,\n",
       " 1305,\n",
       " 1305,\n",
       " 1302,\n",
       " 1300,\n",
       " 1300,\n",
       " 1297,\n",
       " 1297,\n",
       " 1287,\n",
       " 1283,\n",
       " 1281,\n",
       " 1280,\n",
       " 1279,\n",
       " 1277,\n",
       " 1272,\n",
       " 1267,\n",
       " 1263,\n",
       " 1262,\n",
       " 1260,\n",
       " 1259,\n",
       " 1259,\n",
       " 1258,\n",
       " 1258,\n",
       " 1257,\n",
       " 1257,\n",
       " 1254,\n",
       " 1253,\n",
       " 1252,\n",
       " 1250,\n",
       " 1244,\n",
       " 1243,\n",
       " 1243,\n",
       " 1238,\n",
       " 1236,\n",
       " 1235,\n",
       " 1233,\n",
       " 1233,\n",
       " 1229,\n",
       " 1222,\n",
       " 1219,\n",
       " 1212,\n",
       " 1209,\n",
       " 1207,\n",
       " 1202,\n",
       " 1200,\n",
       " 1197,\n",
       " 1197,\n",
       " 1195,\n",
       " 1192,\n",
       " 1191,\n",
       " 1183,\n",
       " 1180,\n",
       " 1178,\n",
       " 1178,\n",
       " 1174,\n",
       " 1167,\n",
       " 1164,\n",
       " 1160,\n",
       " 1158,\n",
       " 1153,\n",
       " 1153,\n",
       " 1152,\n",
       " 1150,\n",
       " 1148,\n",
       " 1145,\n",
       " 1145,\n",
       " 1144,\n",
       " 1142,\n",
       " 1137,\n",
       " 1136,\n",
       " 1133,\n",
       " 1129,\n",
       " 1128,\n",
       " 1124,\n",
       " 1120,\n",
       " 1115,\n",
       " 1112,\n",
       " 1105,\n",
       " 1104,\n",
       " 1101,\n",
       " 1094,\n",
       " 1093,\n",
       " 1093,\n",
       " 1089,\n",
       " 1085,\n",
       " 1081,\n",
       " 1081,\n",
       " 1081,\n",
       " 1077,\n",
       " 1076,\n",
       " 1076,\n",
       " 1074,\n",
       " 1072,\n",
       " 1072,\n",
       " 1072,\n",
       " 1070,\n",
       " 1068,\n",
       " 1067,\n",
       " 1061,\n",
       " 1060,\n",
       " 1059,\n",
       " 1059,\n",
       " 1057,\n",
       " 1056,\n",
       " 1054,\n",
       " 1053,\n",
       " 1052,\n",
       " 1042,\n",
       " 1041,\n",
       " 1039,\n",
       " 1039,\n",
       " 1038,\n",
       " 1036,\n",
       " 1034,\n",
       " 1032,\n",
       " 1028,\n",
       " 1025,\n",
       " 1020,\n",
       " 1019,\n",
       " 1013,\n",
       " 1012,\n",
       " 1009,\n",
       " 1009,\n",
       " 1009,\n",
       " 1005,\n",
       " 1001,\n",
       " 1001,\n",
       " 1001,\n",
       " 1000,\n",
       " 1000,\n",
       " 997,\n",
       " 997,\n",
       " 992,\n",
       " 988,\n",
       " 985,\n",
       " 985,\n",
       " 984,\n",
       " 984,\n",
       " 983,\n",
       " 979,\n",
       " 977,\n",
       " 976,\n",
       " 973,\n",
       " 970,\n",
       " 970,\n",
       " 970,\n",
       " 969,\n",
       " 964,\n",
       " 961,\n",
       " 961,\n",
       " 960,\n",
       " 959,\n",
       " 958,\n",
       " 954,\n",
       " 951,\n",
       " 950,\n",
       " 946,\n",
       " 946,\n",
       " 940,\n",
       " 940,\n",
       " 938,\n",
       " 936,\n",
       " 936,\n",
       " 932,\n",
       " 932,\n",
       " 930,\n",
       " 930,\n",
       " 924,\n",
       " 924,\n",
       " 922,\n",
       " 922,\n",
       " 921,\n",
       " 921,\n",
       " 919,\n",
       " 918,\n",
       " 918,\n",
       " 917,\n",
       " 917,\n",
       " 914,\n",
       " 914,\n",
       " 914,\n",
       " 913,\n",
       " 913,\n",
       " 912,\n",
       " 908,\n",
       " 907,\n",
       " 907,\n",
       " 906,\n",
       " 901,\n",
       " 900,\n",
       " 897,\n",
       " 893,\n",
       " 892,\n",
       " 891,\n",
       " 891,\n",
       " 890,\n",
       " 889,\n",
       " 887,\n",
       " 885,\n",
       " 883,\n",
       " 883,\n",
       " 880,\n",
       " 879,\n",
       " 878,\n",
       " 877,\n",
       " 874,\n",
       " 874,\n",
       " 874,\n",
       " 871,\n",
       " 870,\n",
       " 869,\n",
       " 867,\n",
       " 867,\n",
       " 865,\n",
       " 863,\n",
       " 861,\n",
       " 860,\n",
       " 860,\n",
       " 858,\n",
       " 858,\n",
       " 856,\n",
       " 848,\n",
       " 847,\n",
       " 845,\n",
       " 844,\n",
       " 844,\n",
       " 840,\n",
       " 838,\n",
       " 838,\n",
       " 836,\n",
       " 834,\n",
       " 831,\n",
       " 827,\n",
       " 826,\n",
       " 825,\n",
       " 824,\n",
       " 820,\n",
       " 819,\n",
       " 819,\n",
       " 818,\n",
       " 818,\n",
       " 815,\n",
       " 814,\n",
       " 813,\n",
       " 810,\n",
       " 809,\n",
       " 809,\n",
       " 806,\n",
       " 804,\n",
       " 803,\n",
       " 802,\n",
       " 802,\n",
       " 799,\n",
       " 798,\n",
       " 797,\n",
       " 797,\n",
       " 795,\n",
       " 792,\n",
       " 788,\n",
       " 787,\n",
       " 786,\n",
       " 784,\n",
       " 784,\n",
       " 782,\n",
       " 781,\n",
       " 779,\n",
       " 778,\n",
       " 777,\n",
       " 776,\n",
       " 776,\n",
       " 776,\n",
       " 776,\n",
       " 775,\n",
       " 775,\n",
       " 774,\n",
       " 772,\n",
       " 772,\n",
       " 771,\n",
       " 770,\n",
       " 770,\n",
       " 769,\n",
       " 768,\n",
       " 768,\n",
       " 766,\n",
       " 765,\n",
       " 764,\n",
       " 763,\n",
       " 761,\n",
       " 761,\n",
       " 760,\n",
       " 760,\n",
       " 758,\n",
       " 757,\n",
       " 756,\n",
       " 755,\n",
       " 754,\n",
       " 753,\n",
       " 751,\n",
       " 751,\n",
       " 751,\n",
       " 749,\n",
       " 749,\n",
       " 748,\n",
       " 747,\n",
       " 746,\n",
       " 746,\n",
       " 744,\n",
       " 742,\n",
       " 741,\n",
       " 741,\n",
       " 741,\n",
       " 741,\n",
       " 741,\n",
       " 737,\n",
       " 736,\n",
       " 736,\n",
       " 735,\n",
       " 732,\n",
       " 732,\n",
       " 731,\n",
       " 731,\n",
       " 730,\n",
       " 729,\n",
       " 728,\n",
       " 725,\n",
       " 725,\n",
       " 723,\n",
       " 721,\n",
       " 721,\n",
       " 721,\n",
       " 720,\n",
       " 719,\n",
       " 719,\n",
       " 719,\n",
       " 717,\n",
       " 717,\n",
       " 717,\n",
       " 716,\n",
       " 714,\n",
       " 714,\n",
       " 714,\n",
       " 714,\n",
       " 713,\n",
       " 712,\n",
       " 712,\n",
       " 711,\n",
       " 711,\n",
       " 709,\n",
       " 708,\n",
       " 708,\n",
       " 706,\n",
       " 706,\n",
       " 706,\n",
       " 702,\n",
       " 699,\n",
       " 699,\n",
       " 698,\n",
       " 698,\n",
       " 697,\n",
       " 697,\n",
       " 697,\n",
       " 696,\n",
       " 695,\n",
       " 694,\n",
       " 694,\n",
       " 694,\n",
       " 693,\n",
       " 691,\n",
       " 690,\n",
       " 689,\n",
       " 686,\n",
       " 685,\n",
       " 684,\n",
       " 683,\n",
       " 683,\n",
       " 682,\n",
       " 682,\n",
       " 681,\n",
       " 681,\n",
       " 679,\n",
       " 678,\n",
       " 677,\n",
       " 677,\n",
       " 676,\n",
       " 675,\n",
       " 674,\n",
       " 673,\n",
       " 671,\n",
       " 671,\n",
       " 670,\n",
       " 668,\n",
       " 667,\n",
       " 666,\n",
       " 666,\n",
       " 665,\n",
       " 665,\n",
       " 664,\n",
       " 664,\n",
       " 663,\n",
       " 663,\n",
       " 663,\n",
       " 662,\n",
       " 662,\n",
       " 660,\n",
       " 659,\n",
       " 659,\n",
       " 658,\n",
       " 657,\n",
       " 656,\n",
       " 656,\n",
       " 656,\n",
       " 654,\n",
       " 653,\n",
       " 652,\n",
       " 651,\n",
       " 650,\n",
       " 649,\n",
       " 647,\n",
       " 647,\n",
       " 645,\n",
       " 643,\n",
       " 643,\n",
       " 642,\n",
       " 642,\n",
       " 642,\n",
       " 639,\n",
       " 639,\n",
       " 637,\n",
       " 637,\n",
       " 636,\n",
       " 636,\n",
       " 636,\n",
       " 635,\n",
       " 635,\n",
       " 631,\n",
       " 630,\n",
       " 629,\n",
       " 627,\n",
       " 626,\n",
       " 626,\n",
       " 625,\n",
       " 623,\n",
       " 622,\n",
       " 619,\n",
       " 617,\n",
       " 616,\n",
       " 616,\n",
       " 615,\n",
       " 612,\n",
       " 611,\n",
       " 610,\n",
       " 609,\n",
       " 608,\n",
       " 607,\n",
       " 607,\n",
       " 606,\n",
       " 606,\n",
       " 603,\n",
       " 603,\n",
       " 602,\n",
       " 598,\n",
       " 596,\n",
       " 595,\n",
       " 595,\n",
       " 594,\n",
       " 594,\n",
       " 593,\n",
       " 593,\n",
       " 592,\n",
       " 592,\n",
       " 591,\n",
       " 591,\n",
       " 590,\n",
       " 589,\n",
       " 588,\n",
       " 587,\n",
       " 586,\n",
       " 584,\n",
       " 579,\n",
       " 579,\n",
       " 578,\n",
       " 578,\n",
       " 578,\n",
       " 577,\n",
       " 576,\n",
       " 575,\n",
       " 574,\n",
       " 574,\n",
       " 573,\n",
       " 573,\n",
       " 573,\n",
       " 573,\n",
       " 573,\n",
       " 568,\n",
       " 568,\n",
       " 568,\n",
       " 568,\n",
       " 568,\n",
       " 567,\n",
       " 567,\n",
       " 567,\n",
       " 567,\n",
       " 565,\n",
       " 562,\n",
       " 562,\n",
       " 561,\n",
       " 561,\n",
       " 560,\n",
       " 559,\n",
       " 558,\n",
       " 558,\n",
       " 558,\n",
       " 557,\n",
       " 557,\n",
       " 556,\n",
       " 556,\n",
       " 556,\n",
       " 555,\n",
       " 554,\n",
       " 553,\n",
       " 551,\n",
       " 550,\n",
       " 549,\n",
       " 548,\n",
       " 548,\n",
       " 547,\n",
       " 547,\n",
       " 547,\n",
       " 546,\n",
       " 546,\n",
       " 543,\n",
       " 543,\n",
       " 542,\n",
       " 542,\n",
       " 542,\n",
       " 542,\n",
       " 541,\n",
       " 541,\n",
       " 541,\n",
       " 541,\n",
       " 540,\n",
       " 540,\n",
       " 540,\n",
       " 537,\n",
       " 537,\n",
       " 537,\n",
       " 536,\n",
       " 536,\n",
       " 536,\n",
       " 535,\n",
       " 535,\n",
       " 535,\n",
       " 535,\n",
       " 534,\n",
       " 534,\n",
       " 534,\n",
       " 532,\n",
       " 532,\n",
       " 532,\n",
       " 531,\n",
       " 530,\n",
       " 528,\n",
       " 527,\n",
       " 527,\n",
       " 527,\n",
       " 527,\n",
       " 524,\n",
       " 521,\n",
       " 520,\n",
       " 519,\n",
       " 519,\n",
       " 517,\n",
       " 517,\n",
       " 515,\n",
       " 515,\n",
       " 514,\n",
       " 514,\n",
       " 512,\n",
       " 512,\n",
       " 511,\n",
       " 510,\n",
       " 510,\n",
       " 510,\n",
       " 509,\n",
       " 509,\n",
       " 507,\n",
       " 507,\n",
       " 506,\n",
       " 506,\n",
       " 506,\n",
       " 505,\n",
       " 505,\n",
       " 505,\n",
       " 502,\n",
       " 500,\n",
       " 500,\n",
       " 499,\n",
       " 499,\n",
       " 498,\n",
       " 498,\n",
       " 496,\n",
       " 496,\n",
       " 496,\n",
       " 496,\n",
       " 496,\n",
       " 494,\n",
       " 494,\n",
       " 494,\n",
       " 494,\n",
       " 493,\n",
       " 493,\n",
       " 493,\n",
       " 493,\n",
       " 492,\n",
       " 492,\n",
       " 492,\n",
       " 492,\n",
       " 492,\n",
       " 492,\n",
       " 491,\n",
       " 490,\n",
       " 489,\n",
       " 489,\n",
       " 488,\n",
       " 487,\n",
       " 486,\n",
       " 486,\n",
       " 485,\n",
       " 484,\n",
       " 484,\n",
       " 483,\n",
       " 481,\n",
       " 480,\n",
       " 480,\n",
       " ...]"
      ]
     },
     "execution_count": 39,
     "metadata": {},
     "output_type": "execute_result"
    }
   ],
   "source": [
    "list(cities_by_accident)"
   ]
  },
  {
   "cell_type": "code",
   "execution_count": 15,
   "id": "bb686277",
   "metadata": {},
   "outputs": [],
   "source": [
    "high_accident_cities=cities_by_accident[cities_by_accident>=1000]\n",
    "low_accident_cities=cities_by_accident[cities_by_accident<1000]"
   ]
  },
  {
   "cell_type": "code",
   "execution_count": 17,
   "id": "17580475",
   "metadata": {},
   "outputs": [
    {
     "data": {
      "text/plain": [
       "496"
      ]
     },
     "execution_count": 17,
     "metadata": {},
     "output_type": "execute_result"
    }
   ],
   "source": [
    "len(high_accident_cities)"
   ]
  },
  {
   "cell_type": "code",
   "execution_count": 44,
   "id": "c1f81b70",
   "metadata": {},
   "outputs": [
    {
     "data": {
      "text/plain": [
       "11185"
      ]
     },
     "execution_count": 44,
     "metadata": {},
     "output_type": "execute_result"
    }
   ],
   "source": [
    "len(low_accident_cities)"
   ]
  },
  {
   "cell_type": "code",
   "execution_count": 47,
   "id": "a65da10c",
   "metadata": {},
   "outputs": [
    {
     "data": {
      "text/plain": [
       "0.00017431999387068408"
      ]
     },
     "execution_count": 47,
     "metadata": {},
     "output_type": "execute_result"
    }
   ],
   "source": [
    "len(high_accident_cities)/len(df.City)"
   ]
  },
  {
   "cell_type": "code",
   "execution_count": 48,
   "id": "1a203958",
   "metadata": {},
   "outputs": [
    {
     "data": {
      "text/plain": [
       "0.01743199938706841"
      ]
     },
     "execution_count": 48,
     "metadata": {},
     "output_type": "execute_result"
    }
   ],
   "source": [
    "percent=0.00017431999387068408*100\n",
    "percent"
   ]
  },
  {
   "cell_type": "code",
   "execution_count": 52,
   "id": "220cbdd2",
   "metadata": {},
   "outputs": [
    {
     "data": {
      "text/plain": [
       "<AxesSubplot:xlabel='City', ylabel='Count'>"
      ]
     },
     "execution_count": 52,
     "metadata": {},
     "output_type": "execute_result"
    },
    {
     "data": {
      "image/png": "[encoded data removed]",
      "text/plain": [
       "<Figure size 432x288 with 1 Axes>"
      ]
     },
     "metadata": {},
     "output_type": "display_data"
    }
   ],
   "source": [
    "sns.histplot(high_accident_cities,log_scale=True)"
   ]
  },
  {
   "cell_type": "code",
   "execution_count": 50,
   "id": "c4b19efd",
   "metadata": {},
   "outputs": [
    {
     "name": "stderr",
     "output_type": "stream",
     "text": [
      "C:\\Users\\kcjc608\\Anaconda3\\lib\\site-packages\\seaborn\\distributions.py:2619: FutureWarning: `distplot` is a deprecated function and will be removed in a future version. Please adapt your code to use either `displot` (a figure-level function with similar flexibility) or `histplot` (an axes-level function for histograms).\n",
      "  warnings.warn(msg, FutureWarning)\n"
     ]
    },
    {
     "data": {
      "text/plain": [
       "<AxesSubplot:xlabel='City', ylabel='Density'>"
      ]
     },
     "execution_count": 50,
     "metadata": {},
     "output_type": "execute_result"
    },
    {
     "data": {
      "image/png": "[encoded data removed]",
      "text/plain": [
       "<Figure size 432x288 with 1 Axes>"
      ]
     },
     "metadata": {},
     "output_type": "display_data"
    }
   ],
   "source": [
    "sns.distplot(low_accident_cities)"
   ]
  },
  {
   "cell_type": "code",
   "execution_count": 55,
   "id": "abdc2e16",
   "metadata": {},
   "outputs": [
    {
     "data": {
      "text/plain": [
       "Carney                          1\n",
       "Waverly Hall                    1\n",
       "Center Sandwich                 1\n",
       "Glen Flora                      1\n",
       "Sulphur Springs                 1\n",
       "                               ..\n",
       "Ridgedale                       1\n",
       "Sekiu                           1\n",
       "Wooldridge                      1\n",
       "Bullock                         1\n",
       "American Fork-Pleasant Grove    1\n",
       "Name: City, Length: 1110, dtype: int64"
      ]
     },
     "execution_count": 55,
     "metadata": {},
     "output_type": "execute_result"
    }
   ],
   "source": [
    "cities_by_accident[cities_by_accident==1]"
   ]
  },
  {
   "cell_type": "markdown",
   "id": "e302044c",
   "metadata": {},
   "source": [
    "### Start time"
   ]
  },
  {
   "cell_type": "code",
   "execution_count": 56,
   "id": "fba81576",
   "metadata": {},
   "outputs": [
    {
     "data": {
      "text/plain": [
       "0          2016-02-08 00:37:08\n",
       "1          2016-02-08 05:56:20\n",
       "2          2016-02-08 06:15:39\n",
       "3          2016-02-08 06:51:45\n",
       "4          2016-02-08 07:53:43\n",
       "                  ...         \n",
       "2845337    2019-08-23 18:03:25\n",
       "2845338    2019-08-23 19:11:30\n",
       "2845339    2019-08-23 19:00:21\n",
       "2845340    2019-08-23 19:00:21\n",
       "2845341    2019-08-23 18:52:06\n",
       "Name: Start_Time, Length: 2845342, dtype: object"
      ]
     },
     "execution_count": 56,
     "metadata": {},
     "output_type": "execute_result"
    }
   ],
   "source": [
    "df.Start_Time"
   ]
  },
  {
   "cell_type": "code",
   "execution_count": 18,
   "id": "5dc40ba8",
   "metadata": {},
   "outputs": [
    {
     "data": {
      "text/plain": [
       "0         2016-02-08 00:37:08\n",
       "1         2016-02-08 05:56:20\n",
       "2         2016-02-08 06:15:39\n",
       "3         2016-02-08 06:51:45\n",
       "4         2016-02-08 07:53:43\n",
       "                  ...        \n",
       "2845337   2019-08-23 18:03:25\n",
       "2845338   2019-08-23 19:11:30\n",
       "2845339   2019-08-23 19:00:21\n",
       "2845340   2019-08-23 19:00:21\n",
       "2845341   2019-08-23 18:52:06\n",
       "Name: Start_Time, Length: 2845342, dtype: datetime64[ns]"
      ]
     },
     "execution_count": 18,
     "metadata": {},
     "output_type": "execute_result"
    }
   ],
   "source": [
    "pd.to_datetime(df.Start_Time)"
   ]
  },
  {
   "cell_type": "code",
   "execution_count": 19,
   "id": "7939caaf",
   "metadata": {},
   "outputs": [],
   "source": [
    "df.Start_Time=pd.to_datetime(df.Start_Time)\n"
   ]
  },
  {
   "cell_type": "code",
   "execution_count": 20,
   "id": "30a6477e",
   "metadata": {},
   "outputs": [
    {
     "data": {
      "text/plain": [
       "pandas.core.series.Series"
      ]
     },
     "execution_count": 20,
     "metadata": {},
     "output_type": "execute_result"
    }
   ],
   "source": [
    "type(df.Start_Time)"
   ]
  },
  {
   "cell_type": "code",
   "execution_count": 62,
   "id": "c3dbd217",
   "metadata": {},
   "outputs": [
    {
     "data": {
      "text/plain": [
       "Timestamp('2016-02-08 00:37:08')"
      ]
     },
     "execution_count": 62,
     "metadata": {},
     "output_type": "execute_result"
    }
   ],
   "source": [
    "df.Start_Time[0]"
   ]
  },
  {
   "cell_type": "code",
   "execution_count": 23,
   "id": "e11a3c3e",
   "metadata": {},
   "outputs": [
    {
     "data": {
      "text/plain": [
       "0"
      ]
     },
     "execution_count": 23,
     "metadata": {},
     "output_type": "execute_result"
    }
   ],
   "source": [
    "df.Start_Time[0].hour"
   ]
  },
  {
   "cell_type": "code",
   "execution_count": 22,
   "id": "91a0b283",
   "metadata": {},
   "outputs": [
    {
     "data": {
      "text/plain": [
       "0         2016-02-08 00:37:08\n",
       "1         2016-02-08 05:56:20\n",
       "2         2016-02-08 06:15:39\n",
       "3         2016-02-08 06:51:45\n",
       "4         2016-02-08 07:53:43\n",
       "                  ...        \n",
       "2845337   2019-08-23 18:03:25\n",
       "2845338   2019-08-23 19:11:30\n",
       "2845339   2019-08-23 19:00:21\n",
       "2845340   2019-08-23 19:00:21\n",
       "2845341   2019-08-23 18:52:06\n",
       "Name: Start_Time, Length: 2845342, dtype: datetime64[ns]"
      ]
     },
     "execution_count": 22,
     "metadata": {},
     "output_type": "execute_result"
    }
   ],
   "source": [
    "df.Start_Time"
   ]
  },
  {
   "cell_type": "code",
   "execution_count": 67,
   "id": "53eb38b5",
   "metadata": {},
   "outputs": [
    {
     "ename": "AttributeError",
     "evalue": "'Series' object has no attribute 'hour'",
     "output_type": "error",
     "traceback": [
      "\u001b[1;31m---------------------------------------------------------------------------\u001b[0m",
      "\u001b[1;31mAttributeError\u001b[0m                            Traceback (most recent call last)",
      "\u001b[1;32m~\\AppData\\Local\\Temp/ipykernel_3608/1623693153.py\u001b[0m in \u001b[0;36m<module>\u001b[1;34m\u001b[0m\n\u001b[1;32m----> 1\u001b[1;33m \u001b[0mdf\u001b[0m\u001b[1;33m.\u001b[0m\u001b[0mStart_Time\u001b[0m\u001b[1;33m.\u001b[0m\u001b[0mhour\u001b[0m\u001b[1;33m\u001b[0m\u001b[1;33m\u001b[0m\u001b[0m\n\u001b[0m",
      "\u001b[1;32m~\\Anaconda3\\lib\\site-packages\\pandas\\core\\generic.py\u001b[0m in \u001b[0;36m__getattr__\u001b[1;34m(self, name)\u001b[0m\n\u001b[0;32m   5485\u001b[0m         ):\n\u001b[0;32m   5486\u001b[0m             \u001b[1;32mreturn\u001b[0m \u001b[0mself\u001b[0m\u001b[1;33m[\u001b[0m\u001b[0mname\u001b[0m\u001b[1;33m]\u001b[0m\u001b[1;33m\u001b[0m\u001b[1;33m\u001b[0m\u001b[0m\n\u001b[1;32m-> 5487\u001b[1;33m         \u001b[1;32mreturn\u001b[0m \u001b[0mobject\u001b[0m\u001b[1;33m.\u001b[0m\u001b[0m__getattribute__\u001b[0m\u001b[1;33m(\u001b[0m\u001b[0mself\u001b[0m\u001b[1;33m,\u001b[0m \u001b[0mname\u001b[0m\u001b[1;33m)\u001b[0m\u001b[1;33m\u001b[0m\u001b[1;33m\u001b[0m\u001b[0m\n\u001b[0m\u001b[0;32m   5488\u001b[0m \u001b[1;33m\u001b[0m\u001b[0m\n\u001b[0;32m   5489\u001b[0m     \u001b[1;32mdef\u001b[0m \u001b[0m__setattr__\u001b[0m\u001b[1;33m(\u001b[0m\u001b[0mself\u001b[0m\u001b[1;33m,\u001b[0m \u001b[0mname\u001b[0m\u001b[1;33m:\u001b[0m \u001b[0mstr\u001b[0m\u001b[1;33m,\u001b[0m \u001b[0mvalue\u001b[0m\u001b[1;33m)\u001b[0m \u001b[1;33m->\u001b[0m \u001b[1;32mNone\u001b[0m\u001b[1;33m:\u001b[0m\u001b[1;33m\u001b[0m\u001b[1;33m\u001b[0m\u001b[0m\n",
      "\u001b[1;31mAttributeError\u001b[0m: 'Series' object has no attribute 'hour'"
     ]
    }
   ],
   "source": [
    "df.Start_Time.hour"
   ]
  },
  {
   "cell_type": "code",
   "execution_count": 24,
   "id": "6955e765",
   "metadata": {},
   "outputs": [
    {
     "name": "stderr",
     "output_type": "stream",
     "text": [
      "C:\\Users\\kcjc608\\Anaconda3\\lib\\site-packages\\seaborn\\distributions.py:2619: FutureWarning: `distplot` is a deprecated function and will be removed in a future version. Please adapt your code to use either `displot` (a figure-level function with similar flexibility) or `histplot` (an axes-level function for histograms).\n",
      "  warnings.warn(msg, FutureWarning)\n"
     ]
    },
    {
     "data": {
      "text/plain": [
       "<AxesSubplot:xlabel='Start_Time', ylabel='Density'>"
      ]
     },
     "execution_count": 24,
     "metadata": {},
     "output_type": "execute_result"
    },
    {
     "data": {
      "image/png": "[encoded data removed]",
      "text/plain": [
       "<Figure size 432x288 with 1 Axes>"
      ]
     },
     "metadata": {},
     "output_type": "display_data"
    }
   ],
   "source": [
    "sns.distplot(df.Start_Time.dt.hour,bins=24)"
   ]
  },
  {
   "cell_type": "code",
   "execution_count": null,
   "id": "99bfde28",
   "metadata": {},
   "outputs": [],
   "source": [
    " #high percentage of accidents occur between 6 to 10 am.  (probably people in hurryr to get to work)\n",
    "#next highest percentage is 3 to 6 pm evening. "
   ]
  },
  {
   "cell_type": "code",
   "execution_count": 77,
   "id": "fac9d038",
   "metadata": {},
   "outputs": [
    {
     "data": {
      "text/plain": [
       "<AxesSubplot:xlabel='Start_Time', ylabel='Count'>"
      ]
     },
     "execution_count": 77,
     "metadata": {},
     "output_type": "execute_result"
    },
    {
     "data": {
      "image/png": "[encoded data removed]",
      "text/plain": [
       "<Figure size 432x288 with 1 Axes>"
      ]
     },
     "metadata": {},
     "output_type": "display_data"
    }
   ],
   "source": [
    "sns.histplot(df.Start_Time.dt.dayofweek,bins=7)"
   ]
  },
  {
   "cell_type": "code",
   "execution_count": 78,
   "id": "5414ad4e",
   "metadata": {},
   "outputs": [
    {
     "data": {
      "text/plain": [
       "154       2016-02-14 03:58:33\n",
       "155       2016-02-14 05:26:58\n",
       "156       2016-02-14 16:30:40\n",
       "157       2016-02-14 16:38:40\n",
       "158       2016-02-14 17:40:17\n",
       "                  ...        \n",
       "2843129   2019-08-18 22:48:14\n",
       "2843130   2019-08-18 23:24:10\n",
       "2843243   2019-08-18 22:56:56\n",
       "2843244   2019-08-18 22:56:56\n",
       "2843282   2019-08-18 22:54:41\n",
       "Name: Start_Time, Length: 259274, dtype: datetime64[ns]"
      ]
     },
     "execution_count": 78,
     "metadata": {},
     "output_type": "execute_result"
    }
   ],
   "source": [
    "sundays_start_time=df.Start_Time[df.Start_Time.dt.dayofweek==6]\n",
    "sundays_start_time"
   ]
  },
  {
   "cell_type": "code",
   "execution_count": 80,
   "id": "f60629b2",
   "metadata": {},
   "outputs": [
    {
     "data": {
      "text/plain": [
       "<AxesSubplot:xlabel='Start_Time', ylabel='Count'>"
      ]
     },
     "execution_count": 80,
     "metadata": {},
     "output_type": "execute_result"
    },
    {
     "data": {
      "image/png": "[encoded data removed]",
      "text/plain": [
       "<Figure size 432x288 with 1 Axes>"
      ]
     },
     "metadata": {},
     "output_type": "display_data"
    }
   ],
   "source": [
    "sns.histplot(sundays_start_time.dt.hour,bins=24)"
   ]
  },
  {
   "cell_type": "code",
   "execution_count": 81,
   "id": "b6289249",
   "metadata": {},
   "outputs": [
    {
     "data": {
      "text/plain": [
       "0         2016-02-08 00:37:08\n",
       "1         2016-02-08 05:56:20\n",
       "2         2016-02-08 06:15:39\n",
       "3         2016-02-08 06:51:45\n",
       "4         2016-02-08 07:53:43\n",
       "                  ...        \n",
       "2843321   2019-08-19 20:43:02\n",
       "2843322   2019-08-19 20:41:30\n",
       "2843675   2019-08-19 22:18:31\n",
       "2843676   2019-08-19 22:21:28\n",
       "2843677   2019-08-19 22:31:15\n",
       "Name: Start_Time, Length: 419821, dtype: datetime64[ns]"
      ]
     },
     "execution_count": 81,
     "metadata": {},
     "output_type": "execute_result"
    }
   ],
   "source": [
    "mondays_start_time=df.Start_Time[df.Start_Time.dt.dayofweek==0]\n",
    "mondays_start_time"
   ]
  },
  {
   "cell_type": "code",
   "execution_count": 82,
   "id": "bb0b6a53",
   "metadata": {},
   "outputs": [
    {
     "data": {
      "text/plain": [
       "<AxesSubplot:xlabel='Start_Time', ylabel='Count'>"
      ]
     },
     "execution_count": 82,
     "metadata": {},
     "output_type": "execute_result"
    },
    {
     "data": {
      "image/png": "[encoded data removed]",
      "text/plain": [
       "<Figure size 432x288 with 1 Axes>"
      ]
     },
     "metadata": {},
     "output_type": "display_data"
    }
   ],
   "source": [
    "sns.histplot(mondays_start_time.dt.hour,bins=24)"
   ]
  },
  {
   "cell_type": "code",
   "execution_count": 92,
   "id": "a67c98b8",
   "metadata": {},
   "outputs": [
    {
     "data": {
      "text/plain": [
       "<AxesSubplot:xlabel='Start_Time', ylabel='Count'>"
      ]
     },
     "execution_count": 92,
     "metadata": {},
     "output_type": "execute_result"
    },
    {
     "data": {
      "image/png": "[encoded data removed]",
      "text/plain": [
       "<Figure size 432x288 with 1 Axes>"
      ]
     },
     "metadata": {},
     "output_type": "display_data"
    }
   ],
   "source": [
    "df_2019=df[df.Start_Time.dt.year==2016]\n",
    "sns.histplot(df_2019.Start_Time.dt.month,bins=12)"
   ]
  },
  {
   "cell_type": "code",
   "execution_count": 95,
   "id": "9475248a",
   "metadata": {},
   "outputs": [
    {
     "data": {
      "text/plain": [
       "Index(['ID', 'Severity', 'Start_Time', 'End_Time', 'Start_Lat', 'Start_Lng',\n",
       "       'End_Lat', 'End_Lng', 'Distance(mi)', 'Description', 'Number', 'Street',\n",
       "       'Side', 'City', 'County', 'State', 'Zipcode', 'Country', 'Timezone',\n",
       "       'Airport_Code', 'Weather_Timestamp', 'Temperature(F)', 'Wind_Chill(F)',\n",
       "       'Humidity(%)', 'Pressure(in)', 'Visibility(mi)', 'Wind_Direction',\n",
       "       'Wind_Speed(mph)', 'Precipitation(in)', 'Weather_Condition', 'Amenity',\n",
       "       'Bump', 'Crossing', 'Give_Way', 'Junction', 'No_Exit', 'Railway',\n",
       "       'Roundabout', 'Station', 'Stop', 'Traffic_Calming', 'Traffic_Signal',\n",
       "       'Turning_Loop', 'Sunrise_Sunset', 'Civil_Twilight', 'Nautical_Twilight',\n",
       "       'Astronomical_Twilight'],\n",
       "      dtype='object')"
      ]
     },
     "execution_count": 95,
     "metadata": {},
     "output_type": "execute_result"
    }
   ],
   "source": [
    "df.columns"
   ]
  },
  {
   "cell_type": "markdown",
   "id": "f67e69f5",
   "metadata": {},
   "source": [
    "# Latitude and Longitude"
   ]
  },
  {
   "cell_type": "code",
   "execution_count": 97,
   "id": "4eba87ae",
   "metadata": {},
   "outputs": [
    {
     "data": {
      "text/plain": [
       "0          40.108910\n",
       "1          39.865420\n",
       "2          39.102660\n",
       "3          41.062130\n",
       "4          39.172393\n",
       "             ...    \n",
       "2845337    34.002480\n",
       "2845338    32.766960\n",
       "2845339    33.775450\n",
       "2845340    33.992460\n",
       "2845341    34.133930\n",
       "Name: Start_Lat, Length: 2845342, dtype: float64"
      ]
     },
     "execution_count": 97,
     "metadata": {},
     "output_type": "execute_result"
    }
   ],
   "source": [
    "df.Start_Lat"
   ]
  },
  {
   "cell_type": "code",
   "execution_count": 98,
   "id": "8abcdc9c",
   "metadata": {},
   "outputs": [
    {
     "data": {
      "text/plain": [
       "0          -83.092860\n",
       "1          -84.062800\n",
       "2          -84.524680\n",
       "3          -81.537840\n",
       "4          -84.492792\n",
       "              ...    \n",
       "2845337   -117.379360\n",
       "2845338   -117.148060\n",
       "2845339   -117.847790\n",
       "2845340   -118.403020\n",
       "2845341   -117.230920\n",
       "Name: Start_Lng, Length: 2845342, dtype: float64"
      ]
     },
     "execution_count": 98,
     "metadata": {},
     "output_type": "execute_result"
    }
   ],
   "source": [
    "df.Start_Lng"
   ]
  },
  {
   "cell_type": "code",
   "execution_count": 99,
   "id": "ac8d981d",
   "metadata": {},
   "outputs": [
    {
     "data": {
      "text/plain": [
       "<AxesSubplot:xlabel='Start_Lng', ylabel='Start_Lat'>"
      ]
     },
     "execution_count": 99,
     "metadata": {},
     "output_type": "execute_result"
    },
    {
     "data": {
      "image/png": "[encoded data removed]",
      "text/plain": [
       "<Figure size 432x288 with 1 Axes>"
      ]
     },
     "metadata": {},
     "output_type": "display_data"
    }
   ],
   "source": [
    "sns.scatterplot(x=df.Start_Lng,y=df.Start_Lat)"
   ]
  },
  {
   "cell_type": "code",
   "execution_count": 18,
   "id": "de4bf646",
   "metadata": {},
   "outputs": [],
   "source": [
    "#create 10 percentage sample data out of df\n",
    "sample_df=df.sample(int(0.1*len(df)))"
   ]
  },
  {
   "cell_type": "code",
   "execution_count": 21,
   "id": "52b09030",
   "metadata": {},
   "outputs": [
    {
     "data": {
      "text/plain": [
       "<AxesSubplot:xlabel='Start_Lng', ylabel='Start_Lat'>"
      ]
     },
     "execution_count": 21,
     "metadata": {},
     "output_type": "execute_result"
    },
    {
     "data": {
      "image/png": "[encoded data removed]",
      "text/plain": [
       "<Figure size 432x288 with 1 Axes>"
      ]
     },
     "metadata": {},
     "output_type": "display_data"
    }
   ],
   "source": [
    "sns.scatterplot(x=sample_df.Start_Lng,y=sample_df.Start_Lat, size=0.001)"
   ]
  },
  {
   "cell_type": "code",
   "execution_count": 23,
   "id": "540e86eb",
   "metadata": {},
   "outputs": [
    {
     "ename": "ModuleNotFoundError",
     "evalue": "No module named 'folium'",
     "output_type": "error",
     "traceback": [
      "\u001b[1;31m---------------------------------------------------------------------------\u001b[0m",
      "\u001b[1;31mModuleNotFoundError\u001b[0m                       Traceback (most recent call last)",
      "\u001b[1;32m~\\AppData\\Local\\Temp/ipykernel_4936/4017947959.py\u001b[0m in \u001b[0;36m<module>\u001b[1;34m\u001b[0m\n\u001b[1;32m----> 1\u001b[1;33m \u001b[1;32mimport\u001b[0m \u001b[0mfolium\u001b[0m\u001b[1;33m\u001b[0m\u001b[1;33m\u001b[0m\u001b[0m\n\u001b[0m",
      "\u001b[1;31mModuleNotFoundError\u001b[0m: No module named 'folium'"
     ]
    }
   ],
   "source": [
    "import folium"
   ]
  },
  {
   "cell_type": "code",
   "execution_count": 25,
   "id": "0004f5ca",
   "metadata": {},
   "outputs": [
    {
     "name": "stdout",
     "output_type": "stream",
     "text": [
      "Collecting foliumNote: you may need to restart the kernel to use updated packages.\n",
      "  Downloading folium-0.12.1.post1-py2.py3-none-any.whl (95 kB)\n",
      "Collecting branca>=0.3.0\n",
      "  Downloading branca-0.4.2-py3-none-any.whl (24 kB)\n",
      "Requirement already satisfied: numpy in c:\\users\\kcjc608\\anaconda3\\lib\\site-packages (from folium) (1.20.3)\n",
      "Requirement already satisfied: jinja2>=2.9 in c:\\users\\kcjc608\\anaconda3\\lib\\site-packages (from folium) (2.11.3)\n",
      "Requirement already satisfied: requests in c:\\users\\kcjc608\\anaconda3\\lib\\site-packages (from folium) (2.27.1)\n",
      "Requirement already satisfied: MarkupSafe>=0.23 in c:\\users\\kcjc608\\anaconda3\\lib\\site-packages (from jinja2>=2.9->folium) (1.1.1)\n",
      "Requirement already satisfied: urllib3<1.27,>=1.21.1 in c:\\users\\kcjc608\\anaconda3\\lib\\site-packages (from requests->folium) (1.26.7)\n",
      "Requirement already satisfied: idna<4,>=2.5 in c:\\users\\kcjc608\\anaconda3\\lib\\site-packages (from requests->folium) (3.2)\n",
      "Requirement already satisfied: certifi>=2017.4.17 in c:\\users\\kcjc608\\anaconda3\\lib\\site-packages (from requests->folium) (2021.10.8)\n",
      "Requirement already satisfied: charset-normalizer~=2.0.0 in c:\\users\\kcjc608\\anaconda3\\lib\\site-packages (from requests->folium) (2.0.4)\n",
      "Installing collected packages: branca, folium\n",
      "Successfully installed branca-0.4.2 folium-0.12.1.post1\n",
      "\n"
     ]
    }
   ],
   "source": [
    "pip install folium"
   ]
  },
  {
   "cell_type": "code",
   "execution_count": 29,
   "id": "2d36ba95",
   "metadata": {},
   "outputs": [],
   "source": [
    "import folium\n",
    "from folium.plugins import HeatMap"
   ]
  },
  {
   "cell_type": "code",
   "execution_count": 34,
   "id": "bb45cc0b",
   "metadata": {},
   "outputs": [],
   "source": [
    "sample_df=df.sample(int(0.001*len(df)))\n",
    "lat_lon_pairs=list(zip(list(sample_df.Start_Lat),list(sample_df.Start_Lng)))"
   ]
  },
  {
   "cell_type": "code",
   "execution_count": 37,
   "id": "54ba00ab",
   "metadata": {},
   "outputs": [
    {
     "data": {
      "text/html": [
       "<div style=\"width:100%;\"><div style=\"position:relative;width:100%;height:0;padding-bottom:60%;\"><span style=\"color:#565656\">Make this Notebook Trusted to load map: File -> Trust Notebook</span><iframe src=\"about:blank\" style=\"position:absolute;width:100%;height:100%;left:0;top:0;border:none !important;\" data-html=%3C%21DOCTYPE%20html%3E%0A%3Chead%3E%20%20%20%20%0A%20%20%20%20%3Cmeta%20http-equiv%3D%22content-type%22%20content%3D%22text/html%3B%20charset%3DUTF-8%22%20/%3E%0A%20%20%20%20%0A%20%20%20%20%20%20%20%20%3Cscript%3E%0A%20%20%20%20%20%20%20%20%20%20%20%20L_NO_TOUCH%20%3D%20false%3B%0A%20%20%20%20%20%20%20%20%20%20%20%20L_DISABLE_3D%20%3D%20false%3B%0A%20%20%20%20%20%20%20%20%3C/script%3E%0A%20%20%20%20%0A%20%20%20%20%3Cstyle%3Ehtml%2C%20body%20%7Bwidth%3A%20100%25%3Bheight%3A%20100%25%3Bmargin%3A%200%3Bpadding%3A%200%3B%7D%3C/style%3E%0A%20%20%20%20%3Cstyle%3E%23map%20%7Bposition%3Aabsolute%3Btop%3A0%3Bbottom%3A0%3Bright%3A0%3Bleft%3A0%3B%7D%3C/style%3E%0A%20%20%20%20%3Cscript%20src%3D%22https%3A//cdn.jsdelivr.net/npm/leaflet%401.6.0/dist/leaflet.js%22%3E%3C/script%3E%0A%20%20%20%20%3Cscript%20src%3D%22https%3A//code.jquery.com/jquery-1.12.4.min.js%22%3E%3C/script%3E%0A%20%20%20%20%3Cscript%20src%3D%22https%3A//maxcdn.bootstrapcdn.com/bootstrap/3.2.0/js/bootstrap.min.js%22%3E%3C/script%3E%0A%20%20%20%20%3Cscript%20src%3D%22https%3A//cdnjs.cloudflare.com/ajax/libs/Leaflet.awesome-markers/2.0.2/leaflet.awesome-markers.js%22%3E%3C/script%3E%0A%20%20%20%20%3Clink%20rel%3D%22stylesheet%22%20href%3D%22https%3A//cdn.jsdelivr.net/npm/leaflet%401.6.0/dist/leaflet.css%22/%3E%0A%20%20%20%20%3Clink%20rel%3D%22stylesheet%22%20href%3D%22https%3A//maxcdn.bootstrapcdn.com/bootstrap/3.2.0/css/bootstrap.min.css%22/%3E%0A%20%20%20%20%3Clink%20rel%3D%22stylesheet%22%20href%3D%22https%3A//maxcdn.bootstrapcdn.com/bootstrap/3.2.0/css/bootstrap-theme.min.css%22/%3E%0A%20%20%20%20%3Clink%20rel%3D%22stylesheet%22%20href%3D%22https%3A//maxcdn.bootstrapcdn.com/font-awesome/4.6.3/css/font-awesome.min.css%22/%3E%0A%20%20%20%20%3Clink%20rel%3D%22stylesheet%22%20href%3D%22https%3A//cdnjs.cloudflare.com/ajax/libs/Leaflet.awesome-markers/2.0.2/leaflet.awesome-markers.css%22/%3E%0A%20%20%20%20%3Clink%20rel%3D%22stylesheet%22%20href%3D%22https%3A//cdn.jsdelivr.net/gh/python-visualization/folium/folium/templates/leaflet.awesome.rotate.min.css%22/%3E%0A%20%20%20%20%0A%20%20%20%20%20%20%20%20%20%20%20%20%3Cmeta%20name%3D%22viewport%22%20content%3D%22width%3Ddevice-width%2C%0A%20%20%20%20%20%20%20%20%20%20%20%20%20%20%20%20initial-scale%3D1.0%2C%20maximum-scale%3D1.0%2C%20user-scalable%3Dno%22%20/%3E%0A%20%20%20%20%20%20%20%20%20%20%20%20%3Cstyle%3E%0A%20%20%20%20%20%20%20%20%20%20%20%20%20%20%20%20%23map_c5b75aa861344fe4b64ee9ad916646bc%20%7B%0A%20%20%20%20%20%20%20%20%20%20%20%20%20%20%20%20%20%20%20%20position%3A%20relative%3B%0A%20%20%20%20%20%20%20%20%20%20%20%20%20%20%20%20%20%20%20%20width%3A%20100.0%25%3B%0A%20%20%20%20%20%20%20%20%20%20%20%20%20%20%20%20%20%20%20%20height%3A%20100.0%25%3B%0A%20%20%20%20%20%20%20%20%20%20%20%20%20%20%20%20%20%20%20%20left%3A%200.0%25%3B%0A%20%20%20%20%20%20%20%20%20%20%20%20%20%20%20%20%20%20%20%20top%3A%200.0%25%3B%0A%20%20%20%20%20%20%20%20%20%20%20%20%20%20%20%20%7D%0A%20%20%20%20%20%20%20%20%20%20%20%20%3C/style%3E%0A%20%20%20%20%20%20%20%20%0A%20%20%20%20%3Cscript%20src%3D%22https%3A//cdn.jsdelivr.net/gh/python-visualization/folium%40master/folium/templates/leaflet_heat.min.js%22%3E%3C/script%3E%0A%3C/head%3E%0A%3Cbody%3E%20%20%20%20%0A%20%20%20%20%0A%20%20%20%20%20%20%20%20%20%20%20%20%3Cdiv%20class%3D%22folium-map%22%20id%3D%22map_c5b75aa861344fe4b64ee9ad916646bc%22%20%3E%3C/div%3E%0A%20%20%20%20%20%20%20%20%0A%3C/body%3E%0A%3Cscript%3E%20%20%20%20%0A%20%20%20%20%0A%20%20%20%20%20%20%20%20%20%20%20%20var%20map_c5b75aa861344fe4b64ee9ad916646bc%20%3D%20L.map%28%0A%20%20%20%20%20%20%20%20%20%20%20%20%20%20%20%20%22map_c5b75aa861344fe4b64ee9ad916646bc%22%2C%0A%20%20%20%20%20%20%20%20%20%20%20%20%20%20%20%20%7B%0A%20%20%20%20%20%20%20%20%20%20%20%20%20%20%20%20%20%20%20%20center%3A%20%5B0%2C%200%5D%2C%0A%20%20%20%20%20%20%20%20%20%20%20%20%20%20%20%20%20%20%20%20crs%3A%20L.CRS.EPSG3857%2C%0A%20%20%20%20%20%20%20%20%20%20%20%20%20%20%20%20%20%20%20%20zoom%3A%201%2C%0A%20%20%20%20%20%20%20%20%20%20%20%20%20%20%20%20%20%20%20%20zoomControl%3A%20true%2C%0A%20%20%20%20%20%20%20%20%20%20%20%20%20%20%20%20%20%20%20%20preferCanvas%3A%20false%2C%0A%20%20%20%20%20%20%20%20%20%20%20%20%20%20%20%20%7D%0A%20%20%20%20%20%20%20%20%20%20%20%20%29%3B%0A%0A%20%20%20%20%20%20%20%20%20%20%20%20%0A%0A%20%20%20%20%20%20%20%20%0A%20%20%20%20%0A%20%20%20%20%20%20%20%20%20%20%20%20var%20tile_layer_a38d4f4632a8410e98067efc9be4afbe%20%3D%20L.tileLayer%28%0A%20%20%20%20%20%20%20%20%20%20%20%20%20%20%20%20%22https%3A//%7Bs%7D.tile.openstreetmap.org/%7Bz%7D/%7Bx%7D/%7By%7D.png%22%2C%0A%20%20%20%20%20%20%20%20%20%20%20%20%20%20%20%20%7B%22attribution%22%3A%20%22Data%20by%20%5Cu0026copy%3B%20%5Cu003ca%20href%3D%5C%22http%3A//openstreetmap.org%5C%22%5Cu003eOpenStreetMap%5Cu003c/a%5Cu003e%2C%20under%20%5Cu003ca%20href%3D%5C%22http%3A//www.openstreetmap.org/copyright%5C%22%5Cu003eODbL%5Cu003c/a%5Cu003e.%22%2C%20%22detectRetina%22%3A%20false%2C%20%22maxNativeZoom%22%3A%2018%2C%20%22maxZoom%22%3A%2018%2C%20%22minZoom%22%3A%200%2C%20%22noWrap%22%3A%20false%2C%20%22opacity%22%3A%201%2C%20%22subdomains%22%3A%20%22abc%22%2C%20%22tms%22%3A%20false%7D%0A%20%20%20%20%20%20%20%20%20%20%20%20%29.addTo%28map_c5b75aa861344fe4b64ee9ad916646bc%29%3B%0A%20%20%20%20%20%20%20%20%0A%20%20%20%20%0A%20%20%20%20%20%20%20%20%20%20%20%20var%20heat_map_b78f38b90972479cb86db866cbb016d2%20%3D%20L.heatLayer%28%0A%20%20%20%20%20%20%20%20%20%20%20%20%20%20%20%20%5B%5B28.08728300000001%2C%20-82.451367%5D%2C%20%5B35.121926%2C%20-85.34416800000002%5D%2C%20%5B34.032619%2C%20-118.263361%5D%2C%20%5B43.24698%2C%20-70.93014000000002%5D%2C%20%5B27.890864%2C%20-80.593696%5D%2C%20%5B34.002223%2C%20-118.168924%5D%2C%20%5B34.145503000000005%2C%20-84.516858%5D%2C%20%5B38.057802%2C%20-121.21026%5D%2C%20%5B42.670007%2C%20-73.741275%5D%2C%20%5B37.876256%2C%20-122.046207%5D%2C%20%5B37.552456%2C%20-77.442991%5D%2C%20%5B25.926019%2C%20-80.245421%5D%2C%20%5B33.552890000000005%2C%20-112.27251%5D%2C%20%5B46.42878%2C%20-95.09898%5D%2C%20%5B40.764411%2C%20-111.917798%5D%2C%20%5B41.91964%2C%20-87.67369000000002%5D%2C%20%5B39.165219%2C%20-76.643532%5D%2C%20%5B34.23867%2C%20-118.41626%5D%2C%20%5B38.81279%2C%20-77.13091%5D%2C%20%5B25.685147%2C%20-80.42495%5D%2C%20%5B39.31216%2C%20-76.74450999999998%5D%2C%20%5B40.69661%2C%20-111.9389%5D%2C%20%5B26.724321000000003%2C%20-81.90609%5D%2C%20%5B35.12706%2C%20-90.02374%5D%2C%20%5B34.030566%2C%20-118.031918%5D%2C%20%5B33.892441%2C%20-118.293135%5D%2C%20%5B37.034658%2C%20-120.835913%5D%2C%20%5B37.981141%2C%20-78.222666%5D%2C%20%5B34.365011%2C%20-118.503466%5D%2C%20%5B42.46269%2C%20-123.31834%5D%2C%20%5B38.716131%2C%20-121.797963%5D%2C%20%5B25.75485%2C%20-80.38499%5D%2C%20%5B32.76794%2C%20-117.14472%5D%2C%20%5B32.775490000000005%2C%20-96.78767%5D%2C%20%5B40.71005%2C%20-111.88827%5D%2C%20%5B45.486826%2C%20-122.678826%5D%2C%20%5B38.36688%2C%20-122.33858%5D%2C%20%5B25.453783%2C%20-80.483408%5D%2C%20%5B33.807724%2C%20-84.39587%5D%2C%20%5B32.321727%2C%20-111.033819%5D%2C%20%5B41.112557%2C%20-82.02417%5D%2C%20%5B36.045719%2C%20-86.72079699999998%5D%2C%20%5B37.778464%2C%20-120.986962%5D%2C%20%5B29.70862%2C%20-95.26167%5D%2C%20%5B41.59759%2C%20-88.1632%5D%2C%20%5B32.892862%2C%20-117.21057%5D%2C%20%5B44.441414%2C%20-92.605278%5D%2C%20%5B28.536354%2C%20-81.531246%5D%2C%20%5B39.757371%2C%20-105.009998%5D%2C%20%5B45.180295%2C%20-93.112139%5D%2C%20%5B41.66102%2C%20-93.73646%5D%2C%20%5B34.21796%2C%20-119.05612%5D%2C%20%5B31.962457%2C%20-81.326776%5D%2C%20%5B33.86874%2C%20-117.706969%5D%2C%20%5B34.153244%2C%20-118.338046%5D%2C%20%5B32.687745%2C%20-97.06239%5D%2C%20%5B34.26034%2C%20-118.43873%5D%2C%20%5B30.324113%2C%20-81.52761%5D%2C%20%5B44.988221%2C%20-93.237039%5D%2C%20%5B28.143184%2C%20-80.68804499999997%5D%2C%20%5B33.223582%2C%20-80.017921%5D%2C%20%5B39.55215%2C%20-84.281261%5D%2C%20%5B33.940784%2C%20-117.268761%5D%2C%20%5B37.398909%2C%20-77.424355%5D%2C%20%5B27.298846%2C%20-82.52877%5D%2C%20%5B33.916419%2C%20-117.287204%5D%2C%20%5B36.043006%2C%20-86.65479%5D%2C%20%5B33.940107%2C%20-118.024231%5D%2C%20%5B43.9714%2C%20-92.46294%5D%2C%20%5B40.55458400000001%2C%20-74.313538%5D%2C%20%5B34.099221%2C%20-117.302027%5D%2C%20%5B34.210818%2C%20-118.346727%5D%2C%20%5B38.567855%2C%20-121.613515%5D%2C%20%5B37.303036%2C%20-93.614781%5D%2C%20%5B35.111839%2C%20-80.91020300000002%5D%2C%20%5B40.65991%2C%20-75.07026%5D%2C%20%5B30.288759%2C%20-82.85928299999998%5D%2C%20%5B36.905949%2C%20-121.35287%5D%2C%20%5B28.356868%2C%20-82.71276999999998%5D%2C%20%5B33.989711%2C%20-81.167052%5D%2C%20%5B40.223569%2C%20-75.205104%5D%2C%20%5B29.721744%2C%20-95.500975%5D%2C%20%5B33.94119%2C%20-118.09653%5D%2C%20%5B41.018496%2C%20-78.33688599999998%5D%2C%20%5B38.888827%2C%20-121.976798%5D%2C%20%5B33.229146%2C%20-117.39973700000002%5D%2C%20%5B26.206182%2C%20-80.132733%5D%2C%20%5B34.106894%2C%20-117.821599%5D%2C%20%5B30.47377%2C%20-90.79342%5D%2C%20%5B39.67837%2C%20-104.9594%5D%2C%20%5B25.890378%2C%20-80.184467%5D%2C%20%5B35.935371%2C%20-79.914479%5D%2C%20%5B40.994957%2C%20-92.198477%5D%2C%20%5B45.207026%2C%20-123.887629%5D%2C%20%5B40.499972%2C%20-74.383009%5D%2C%20%5B30.196791%2C%20-81.73955699999998%5D%2C%20%5B32.764978%2C%20-117.139076%5D%2C%20%5B40.63468%2C%20-111.896572%5D%2C%20%5B29.001323%2C%20-81.983248%5D%2C%20%5B42.488702%2C%20-83.11551899999998%5D%2C%20%5B35.222967%2C%20-80.640975%5D%2C%20%5B34.876987%2C%20-117.109997%5D%2C%20%5B36.080173%2C%20-86.726601%5D%2C%20%5B33.98915%2C%20-118.280163%5D%2C%20%5B38.560349%2C%20-120.974467%5D%2C%20%5B40.107725%2C%20-74.99656999999998%5D%2C%20%5B35.401469%2C%20-120.823567%5D%2C%20%5B32.808781%2C%20-80.006294%5D%2C%20%5B37.724593%2C%20-114.039083%5D%2C%20%5B42.74479%2C%20-73.64325%5D%2C%20%5B39.897768%2C%20-75.185202%5D%2C%20%5B25.927232%2C%20-80.15359699999998%5D%2C%20%5B34.042402%2C%20-118.346721%5D%2C%20%5B36.766079%2C%20-81.830624%5D%2C%20%5B34.170253%2C%20-118.304446%5D%2C%20%5B35.20915%2C%20-80.838657%5D%2C%20%5B28.546072%2C%20-81.41458%5D%2C%20%5B37.290676%2C%20-76.674066%5D%2C%20%5B40.240379%2C%20-75.303361%5D%2C%20%5B33.8903%2C%20-118.10469%5D%2C%20%5B48.883119%2C%20-111.901642%5D%2C%20%5B34.155120000000004%2C%20-118.27029%5D%2C%20%5B45.641294%2C%20-118.688167%5D%2C%20%5B33.166041%2C%20-117.205486%5D%2C%20%5B30.404543%2C%20-97.640566%5D%2C%20%5B43.012306%2C%20-88.231983%5D%2C%20%5B40.689725%2C%20-73.565845%5D%2C%20%5B38.45971%2C%20-77.408516%5D%2C%20%5B30.358274%2C%20-97.688092%5D%2C%20%5B33.935681%2C%20-118.048858%5D%2C%20%5B45.972131%2C%20-119.005233%5D%2C%20%5B33.462144%2C%20-112.023996%5D%2C%20%5B28.567182%2C%20-81.210801%5D%2C%20%5B38.922168%2C%20-77.43013%5D%2C%20%5B28.332935%2C%20-81.511737%5D%2C%20%5B40.94725%2C%20-72.90838000000002%5D%2C%20%5B32.83241%2C%20-117.11884%5D%2C%20%5B33.440741%2C%20-84.699472%5D%2C%20%5B39.9347%2C%20-82.86148%5D%2C%20%5B27.198264%2C%20-81.859363%5D%2C%20%5B37.761615%2C%20-121.444444%5D%2C%20%5B42.07689%2C%20-122.60206%5D%2C%20%5B33.480378%2C%20-112.038057%5D%2C%20%5B34.0304%2C%20-117.6234%5D%2C%20%5B36.994711%2C%20-80.789197%5D%2C%20%5B41.10643%2C%20-73.415526%5D%2C%20%5B30.098877%2C%20-81.85744%5D%2C%20%5B41.30266%2C%20-74.132813%5D%2C%20%5B33.693220000000004%2C%20-84.40374%5D%2C%20%5B44.85884%2C%20-93.350089%5D%2C%20%5B40.657793%2C%20-111.901556%5D%2C%20%5B41.726916%2C%20-72.77205%5D%2C%20%5B40.78364000000001%2C%20-73.54290999999998%5D%2C%20%5B44.00207%2C%20-124.01435%5D%2C%20%5B36.638587%2C%20-119.697349%5D%2C%20%5B39.37484%2C%20-76.750938%5D%2C%20%5B40.58815300000001%2C%20-111.872054%5D%2C%20%5B25.706561%2C%20-80.285439%5D%2C%20%5B42.930911%2C%20-74.290977%5D%2C%20%5B43.877694%2C%20-123.01319%5D%2C%20%5B30.420818%2C%20-91.051475%5D%2C%20%5B28.268928%2C%20-81.426618%5D%2C%20%5B30.247812%2C%20-85.556727%5D%2C%20%5B44.127128000000006%2C%20-124.123602%5D%2C%20%5B42.269845%2C%20-88.07445200000002%5D%2C%20%5B33.590176%2C%20-117.503341%5D%2C%20%5B40.66575%2C%20-73.74944%5D%2C%20%5B39.26035%2C%20-76.70279000000002%5D%2C%20%5B40.045654%2C%20-80.634231%5D%2C%20%5B39.26086%2C%20-77.46458%5D%2C%20%5B41.42597%2C%20-81.51778%5D%2C%20%5B37.868484%2C%20-122.26793700000002%5D%2C%20%5B26.44491%2C%20-80.08974%5D%2C%20%5B33.945587%2C%20-117.555093%5D%2C%20%5B30.28857600000001%2C%20-81.98401700000002%5D%2C%20%5B42.893296%2C%20-118.895705%5D%2C%20%5B44.931271%2C%20-123.112337%5D%2C%20%5B34.504463%2C%20-118.25234%5D%2C%20%5B41.789608%2C%20-87.9082%5D%2C%20%5B47.57844%2C%20-122.21166%5D%2C%20%5B45.194372%2C%20-121.690326%5D%2C%20%5B37.90156%2C%20-87.122699%5D%2C%20%5B28.09186%2C%20-81.72966%5D%2C%20%5B29.50436%2C%20-98.39891%5D%2C%20%5B47.40771%2C%20-122.22025%5D%2C%20%5B25.828331%2C%20-80.206171%5D%2C%20%5B33.810911%2C%20-118.290395%5D%2C%20%5B38.372083%2C%20-122.71433600000002%5D%2C%20%5B45.020525%2C%20-93.348757%5D%2C%20%5B36.14575%2C%20-86.77750999999998%5D%2C%20%5B38.054982%2C%20-121.311824%5D%2C%20%5B34.526058%2C%20-82.631819%5D%2C%20%5B38.85221%2C%20-76.955935%5D%2C%20%5B34.57414%2C%20-82.68845%5D%2C%20%5B37.686687%2C%20-122.121043%5D%2C%20%5B25.824941%2C%20-80.208156%5D%2C%20%5B33.62783%2C%20-84.48899%5D%2C%20%5B32.813502%2C%20-96.790823%5D%2C%20%5B28.064146%2C%20-82.5042%5D%2C%20%5B36.05755%2C%20-80.21226%5D%2C%20%5B30.320909000000004%2C%20-81.700556%5D%2C%20%5B30.520437%2C%20-97.688831%5D%2C%20%5B35.20978%2C%20-80.85981%5D%2C%20%5B38.64839%2C%20-90.1241%5D%2C%20%5B33.874884%2C%20-117.545206%5D%2C%20%5B39.171207%2C%20-121.734943%5D%2C%20%5B38.878495%2C%20-121.121843%5D%2C%20%5B26.318789%2C%20-80.116392%5D%2C%20%5B29.584189%2C%20-98.346837%5D%2C%20%5B40.1746%2C%20-75.10616%5D%2C%20%5B36.75962%2C%20-76.272636%5D%2C%20%5B25.594202%2C%20-80.356126%5D%2C%20%5B36.313333%2C%20-86.830446%5D%2C%20%5B36.038606%2C%20-86.78614499999998%5D%2C%20%5B33.974722%2C%20-118.230229%5D%2C%20%5B29.7746%2C%20-95.13944%5D%2C%20%5B32.759025%2C%20-117.202231%5D%2C%20%5B37.323767%2C%20-121.892016%5D%2C%20%5B34.971733%2C%20-81.940587%5D%2C%20%5B37.878185%2C%20-122.307172%5D%2C%20%5B43.74484%2C%20-118.492981%5D%2C%20%5B45.38905%2C%20-122.437579%5D%2C%20%5B36.621516%2C%20-82.189121%5D%2C%20%5B34.12104%2C%20-117.8832%5D%2C%20%5B39.23103%2C%20-76.64986%5D%2C%20%5B41.288713%2C%20-72.816792%5D%2C%20%5B36.183891%2C%20-86.363761%5D%2C%20%5B40.61933%2C%20-111.78949%5D%2C%20%5B28.450365%2C%20-81.399457%5D%2C%20%5B33.70207%2C%20-117.94982%5D%2C%20%5B38.450465%2C%20-123.122455%5D%2C%20%5B28.318965%2C%20-81.403589%5D%2C%20%5B46.659152%2C%20-92.254447%5D%2C%20%5B28.51903%2C%20-82.23732%5D%2C%20%5B32.84893%2C%20-96.81357%5D%2C%20%5B37.361276%2C%20-121.877349%5D%2C%20%5B37.94044%2C%20-122.32461%5D%2C%20%5B25.926019%2C%20-80.245421%5D%2C%20%5B37.988887%2C%20-120.281769%5D%2C%20%5B40.07092%2C%20-74.85504%5D%2C%20%5B33.984781%2C%20-118.133767%5D%2C%20%5B41.07014%2C%20-73.485851%5D%2C%20%5B44.96548%2C%20-93.287777%5D%2C%20%5B42.522615%2C%20-83.693128%5D%2C%20%5B27.937661%2C%20-82.28897099999998%5D%2C%20%5B44.097826%2C%20-123.14478%5D%2C%20%5B39.081763%2C%20-94.680659%5D%2C%20%5B45.40989%2C%20-122.50791%5D%2C%20%5B33.615214%2C%20-83.852021%5D%2C%20%5B38.96341%2C%20-76.21434%5D%2C%20%5B32.81231%2C%20-96.75466%5D%2C%20%5B40.76444%2C%20-111.971491%5D%2C%20%5B35.46435%2C%20-97.70686%5D%2C%20%5B26.307632%2C%20-80.118572%5D%2C%20%5B39.959144%2C%20-75.579949%5D%2C%20%5B33.89678%2C%20-118.251999%5D%2C%20%5B33.182616%2C%20-117.300165%5D%2C%20%5B29.929235%2C%20-90.067688%5D%2C%20%5B30.639764000000003%2C%20-87.024114%5D%2C%20%5B47.649067%2C%20-122.633525%5D%2C%20%5B29.894431%2C%20-82.448991%5D%2C%20%5B38.917834%2C%20-76.928623%5D%2C%20%5B47.15908%2C%20-122.48378%5D%2C%20%5B33.586928%2C%20-111.891727%5D%2C%20%5B28.551056%2C%20-81.44750400000002%5D%2C%20%5B25.870829%2C%20-80.185618%5D%2C%20%5B35.898776%2C%20-78.558307%5D%2C%20%5B40.527992%2C%20-74.21804300000002%5D%2C%20%5B35.797876%2C%20-78.694124%5D%2C%20%5B40.011445%2C%20-74.849649%5D%2C%20%5B41.05778%2C%20-73.8329%5D%2C%20%5B33.858000000000004%2C%20-117.453404%5D%2C%20%5B32.832909%2C%20-117.14074%5D%2C%20%5B38.94205%2C%20-94.78071%5D%2C%20%5B42.913181%2C%20-83.820089%5D%2C%20%5B41.905641%2C%20-87.970636%5D%2C%20%5B30.416733%2C%20-91.143139%5D%2C%20%5B39.099435%2C%20-84.277105%5D%2C%20%5B37.396605%2C%20-121.874566%5D%2C%20%5B42.475343%2C%20-83.190145%5D%2C%20%5B37.689994%2C%20-122.088675%5D%2C%20%5B25.684847%2C%20-80.434156%5D%2C%20%5B38.46809%2C%20-121.415496%5D%2C%20%5B41.306677%2C%20-112.021508%5D%2C%20%5B38.209485%2C%20-122.14865%5D%2C%20%5B42.786175%2C%20-74.024597%5D%2C%20%5B34.003569%2C%20-117.830784%5D%2C%20%5B28.609973%2C%20-81.40798000000002%5D%2C%20%5B25.947289%2C%20-80.152018%5D%2C%20%5B35.14055%2C%20-80.93288000000003%5D%2C%20%5B45.359313%2C%20-85.087275%5D%2C%20%5B37.614456%2C%20-121.03157%5D%2C%20%5B34.154164%2C%20-118.273705%5D%2C%20%5B36.821698%2C%20-121.783898%5D%2C%20%5B39.76343%2C%20-75.54865%5D%2C%20%5B34.117973%2C%20-80.881008%5D%2C%20%5B25.925994%2C%20-80.15794100000002%5D%2C%20%5B30.047481%2C%20-95.253078%5D%2C%20%5B39.308127%2C%20-76.946943%5D%2C%20%5B33.42043%2C%20-84.68255%5D%2C%20%5B39.880455%2C%20-79.878174%5D%2C%20%5B38.971194%2C%20-94.718643%5D%2C%20%5B35.30779000000001%2C%20-80.84534000000002%5D%2C%20%5B35.42286%2C%20-97.59645%5D%2C%20%5B42.264%2C%20-71.04544%5D%2C%20%5B42.279633%2C%20-83.441249%5D%2C%20%5B34.032938%2C%20-118.435743%5D%2C%20%5B32.898687%2C%20-96.715024%5D%2C%20%5B34.835511%2C%20-91.474646%5D%2C%20%5B33.08798%2C%20-117.30068%5D%2C%20%5B28.634072%2C%20-81.469062%5D%2C%20%5B40.538766%2C%20-80.200649%5D%2C%20%5B38.785603%2C%20-77.178637%5D%2C%20%5B34.187746999999995%2C%20-118.322356%5D%2C%20%5B45.401942%2C%20-122.621121%5D%2C%20%5B33.414619%2C%20-111.934937%5D%2C%20%5B35.909188%2C%20-78.932121%5D%2C%20%5B38.28938%2C%20-77.54476600000002%5D%2C%20%5B33.942%2C%20-118.227639%5D%2C%20%5B33.586252%2C%20-86.697278%5D%2C%20%5B30.288501%2C%20-81.627312%5D%2C%20%5B38.01425%2C%20-122.194072%5D%2C%20%5B43.87502%2C%20-95.113093%5D%2C%20%5B33.902593%2C%20-118.198269%5D%2C%20%5B44.05589000000001%2C%20-93.2497%5D%2C%20%5B32.671784%2C%20-96.979955%5D%2C%20%5B39.29654%2C%20-76.833904%5D%2C%20%5B40.50778%2C%20-111.987587%5D%2C%20%5B43.14712%2C%20-77.59467%5D%2C%20%5B25.732547%2C%20-80.355745%5D%2C%20%5B41.582812%2C%20-103.618336%5D%2C%20%5B25.803296%2C%20-80.248211%5D%2C%20%5B33.98634000000001%2C%20-118.138773%5D%2C%20%5B29.73162%2C%20-95.323884%5D%2C%20%5B25.657368%2C%20-80.41592%5D%2C%20%5B42.685546%2C%20-84.54803000000003%5D%2C%20%5B48.081205%2C%20-117.630588%5D%2C%20%5B28.568395%2C%20-81.28500600000002%5D%2C%20%5B37.25046%2C%20-121.91199%5D%2C%20%5B44.263668%2C%20-92.650866%5D%2C%20%5B37.63236%2C%20-121.34284%5D%2C%20%5B39.35977000000001%2C%20-119.85337%5D%2C%20%5B40.01754%2C%20-75.66688%5D%2C%20%5B34.013489%2C%20-81.143742%5D%2C%20%5B32.909601%2C%20-96.889004%5D%2C%20%5B41.59267%2C%20-93.49883%5D%2C%20%5B35.042151000000004%2C%20-120.570253%5D%2C%20%5B30.151896%2C%20-90.874746%5D%2C%20%5B35.034924%2C%20-120.482395%5D%2C%20%5B38.257954%2C%20-77.51355699999998%5D%2C%20%5B39.140719%2C%20-94.565571%5D%2C%20%5B40.63582%2C%20-111.90506%5D%2C%20%5B39.223072%2C%20-121.049636%5D%2C%20%5B37.645369%2C%20-77.413774%5D%2C%20%5B45.44502%2C%20-122.736852%5D%2C%20%5B30.179409000000003%2C%20-97.778091%5D%2C%20%5B45.40747%2C%20-122.5696%5D%2C%20%5B25.807477%2C%20-80.28921899999997%5D%2C%20%5B34.837402000000004%2C%20-82.28988000000003%5D%2C%20%5B39.343019%2C%20-79.441845%5D%2C%20%5B42.79848%2C%20-73.73371%5D%2C%20%5B39.030275%2C%20-77.141912%5D%2C%20%5B35.86139%2C%20-78.680836%5D%2C%20%5B34.166988%2C%20-80.328147%5D%2C%20%5B34.066725%2C%20-117.213941%5D%2C%20%5B27.821013%2C%20-82.70151899999998%5D%2C%20%5B39.388523%2C%20-76.43866700000002%5D%2C%20%5B34.072448%2C%20-117.929581%5D%2C%20%5B37.676404%2C%20-122.120038%5D%2C%20%5B44.889734%2C%20-93.354822%5D%2C%20%5B25.92723%2C%20-80.21816%5D%2C%20%5B33.23603%2C%20-87.576702%5D%2C%20%5B34.956468%2C%20-82.009579%5D%2C%20%5B39.604491%2C%20-76.114993%5D%2C%20%5B32.658094%2C%20-96.887108%5D%2C%20%5B38.663797%2C%20-121.286827%5D%2C%20%5B37.7862%2C%20-122.39069%5D%2C%20%5B37.82415%2C%20-122.317352%5D%2C%20%5B34.055665999999995%2C%20-118.451885%5D%2C%20%5B28.51893%2C%20-82.57121%5D%2C%20%5B37.670545%2C%20-122.131267%5D%2C%20%5B30.503464%2C%20-87.216306%5D%2C%20%5B30.255977%2C%20-97.553068%5D%2C%20%5B47.53424%2C%20-122.31312%5D%2C%20%5B45.676215%2C%20-121.295466%5D%2C%20%5B33.804984000000005%2C%20-84.383149%5D%2C%20%5B30.254517%2C%20-97.865806%5D%2C%20%5B34.134811%2C%20-117.652856%5D%2C%20%5B40.096623%2C%20-75.297155%5D%2C%20%5B41.19225%2C%20-73.19478000000002%5D%2C%20%5B39.8729%2C%20-75.29528%5D%2C%20%5B35.30706%2C%20-80.85056999999998%5D%2C%20%5B42.15379%2C%20-88.02806%5D%2C%20%5B42.302995%2C%20-87.903531%5D%2C%20%5B43.21293%2C%20-123.35498%5D%2C%20%5B25.697149%2C%20-80.38215%5D%2C%20%5B32.33317%2C%20-90.131776%5D%2C%20%5B33.091839%2C%20-84.910615%5D%2C%20%5B34.052592%2C%20-118.226617%5D%2C%20%5B34.129725%2C%20-117.304211%5D%2C%20%5B34.02685%2C%20-118.429908%5D%2C%20%5B41.551686%2C%20-73.049968%5D%2C%20%5B36.225806%2C%20-119.672141%5D%2C%20%5B45.63623%2C%20-108.90467%5D%2C%20%5B34.06723%2C%20-117.53025%5D%2C%20%5B40.49785%2C%20-80.06015%5D%2C%20%5B32.74026%2C%20-117.094444%5D%2C%20%5B34.178692%2C%20-112.135251%5D%2C%20%5B28.511932%2C%20-82.20404%5D%2C%20%5B34.119718%2C%20-118.231212%5D%2C%20%5B29.132641%2C%20-81.123014%5D%2C%20%5B37.76345300000001%2C%20-77.460447%5D%2C%20%5B38.835414%2C%20-77.011874%5D%2C%20%5B42.2244%2C%20-83.66176%5D%2C%20%5B27.442282%2C%20-82.513784%5D%2C%20%5B26.31093%2C%20-80.16986999999997%5D%2C%20%5B35.107862%2C%20-80.97861%5D%2C%20%5B30.437723%2C%20-91.04551%5D%2C%20%5B33.372929%2C%20-117.234344%5D%2C%20%5B35.103770000000004%2C%20-80.77144%5D%2C%20%5B43.08943%2C%20-122.11798%5D%2C%20%5B34.48755%2C%20-118.13968%5D%2C%20%5B25.75184%2C%20-80.32008%5D%2C%20%5B37.634086%2C%20-120.969942%5D%2C%20%5B37.309795%2C%20-76.68777800000002%5D%2C%20%5B39.85986%2C%20-75.13750999999998%5D%2C%20%5B30.45982%2C%20-81.656345%5D%2C%20%5B45.86516%2C%20-118.39827%5D%2C%20%5B26.682216%2C%20-81.882228%5D%2C%20%5B38.510449%2C%20-121.780453%5D%2C%20%5B32.685764%2C%20-97.321%5D%2C%20%5B40.04692100000001%2C%20-76.36294000000002%5D%2C%20%5B33.87631%2C%20-118.120912%5D%2C%20%5B41.163808%2C%20-73.238972%5D%2C%20%5B40.772677%2C%20-73.674155%5D%2C%20%5B39.404536%2C%20-77.38890699999997%5D%2C%20%5B39.794747%2C%20-86.16478000000002%5D%2C%20%5B25.87242%2C%20-80.20888000000002%5D%2C%20%5B25.799306%2C%20-80.321387%5D%2C%20%5B29.753027000000003%2C%20-95.409506%5D%2C%20%5B41.364651%2C%20-96.094805%5D%2C%20%5B32.66827%2C%20-97.21868%5D%2C%20%5B32.8869%2C%20-96.9561%5D%2C%20%5B45.11505800000001%2C%20-122.917085%5D%2C%20%5B34.193915000000004%2C%20-118.463567%5D%2C%20%5B34.064519%2C%20-117.796726%5D%2C%20%5B34.995981%2C%20-85.238457%5D%2C%20%5B36.70286%2C%20-119.785736%5D%2C%20%5B43.68772%2C%20-116.33375%5D%2C%20%5B30.169669%2C%20-81.55626600000002%5D%2C%20%5B34.14426%2C%20-81.2751%5D%2C%20%5B32.177899%2C%20-110.943249%5D%2C%20%5B40.6794%2C%20-111.9022%5D%2C%20%5B39.418655%2C%20-76.669324%5D%2C%20%5B38.238625%2C%20-77.499066%5D%2C%20%5B33.97647%2C%20-118.235073%5D%2C%20%5B37.195975%2C%20-80.269221%5D%2C%20%5B28.4717%2C%20-81.44388000000002%5D%2C%20%5B25.890334%2C%20-80.185466%5D%2C%20%5B26.557141%2C%20-81.918407%5D%2C%20%5B39.67074%2C%20-86.09673599999998%5D%2C%20%5B34.006366%2C%20-118.413445%5D%2C%20%5B33.787837%2C%20-117.830826%5D%2C%20%5B39.042781%2C%20-94.559358%5D%2C%20%5B25.517619%2C%20-80.408449%5D%2C%20%5B28.452626%2C%20-80.880907%5D%2C%20%5B30.239305%2C%20-97.73779%5D%2C%20%5B37.76495%2C%20-122.166842%5D%2C%20%5B34.133351%2C%20-118.352517%5D%2C%20%5B44.133149%2C%20-124.1218%5D%2C%20%5B47.57956%2C%20-122.21456%5D%2C%20%5B38.543046%2C%20-75.940423%5D%2C%20%5B28.54823%2C%20-81.44384000000002%5D%2C%20%5B35.22025%2C%20-80.82873000000002%5D%2C%20%5B39.208138%2C%20-120.990283%5D%2C%20%5B34.704169%2C%20-86.681882%5D%2C%20%5B37.687429%2C%20-120.866584%5D%2C%20%5B36.09045%2C%20-80.22939000000002%5D%2C%20%5B35.869629%2C%20-78.577211%5D%2C%20%5B33.774522%2C%20-118.074915%5D%2C%20%5B36.990398%2C%20-121.98189%5D%2C%20%5B35.782979%2C%20-78.561489%5D%2C%20%5B31.323472%2C%20-89.362044%5D%2C%20%5B36.168244%2C%20-86.765968%5D%2C%20%5B37.962472%2C%20-122.509353%5D%2C%20%5B36.136027%2C%20-86.727122%5D%2C%20%5B40.661145%2C%20-74.185668%5D%2C%20%5B37.869523%2C%20-122.304749%5D%2C%20%5B27.38874%2C%20-82.44542%5D%2C%20%5B30.388721000000004%2C%20-81.558826%5D%2C%20%5B41.632094%2C%20-72.873615%5D%2C%20%5B27.751709%2C%20-81.768455%5D%2C%20%5B38.67323%2C%20-121.640968%5D%2C%20%5B38.91298%2C%20-94.39615%5D%2C%20%5B39.018877%2C%20-76.976598%5D%2C%20%5B25.897871%2C%20-80.180391%5D%2C%20%5B25.840295%2C%20-80.206012%5D%2C%20%5B34.133395%2C%20-117.244249%5D%2C%20%5B33.01034%2C%20-117.264787%5D%2C%20%5B40.92978%2C%20-75.07618000000002%5D%2C%20%5B36.312921%2C%20-86.662103%5D%2C%20%5B37.068956%2C%20-121.212497%5D%2C%20%5B28.19443%2C%20-82.69906999999998%5D%2C%20%5B33.587134000000006%2C%20-112.117046%5D%2C%20%5B34.718803%2C%20-77.618204%5D%2C%20%5B40.37534%2C%20-104.99188999999998%5D%2C%20%5B41.88615%2C%20-87.64631%5D%2C%20%5B41.72681400000001%2C%20-72.761453%5D%2C%20%5B33.95474%2C%20-118.107561%5D%2C%20%5B37.754657%2C%20-121.146934%5D%2C%20%5B42.21947%2C%20-83.49295%5D%2C%20%5B35.734824%2C%20-78.843763%5D%2C%20%5B37.968963%2C%20-120.395165%5D%2C%20%5B37.56322%2C%20-122.03991%5D%2C%20%5B32.726890000000004%2C%20-96.70388%5D%2C%20%5B37.662344%2C%20-77.646752%5D%2C%20%5B25.945115%2C%20-80.205365%5D%2C%20%5B40.90482%2C%20-74.19189%5D%2C%20%5B34.128612%2C%20-117.251648%5D%2C%20%5B34.419893%2C%20-119.672347%5D%2C%20%5B40.651791%2C%20-74.287389%5D%2C%20%5B39.193287%2C%20-76.771126%5D%2C%20%5B42.461609%2C%20-83.431722%5D%2C%20%5B30.316587%2C%20-97.707657%5D%2C%20%5B45.147452%2C%20-122.77863700000002%5D%2C%20%5B25.688667%2C%20-80.310654%5D%2C%20%5B38.034291%2C%20-78.85995%5D%2C%20%5B33.461696999999994%2C%20-112.114128%5D%2C%20%5B45.66173%2C%20-94.69566%5D%2C%20%5B48.754992%2C%20-122.461956%5D%2C%20%5B37.66509%2C%20-121.6967%5D%2C%20%5B33.871482%2C%20-117.68551399999998%5D%2C%20%5B37.21031%2C%20-93.24809%5D%2C%20%5B26.708001%2C%20-80.077292%5D%2C%20%5B41.56478%2C%20-88.22933%5D%2C%20%5B39.956644%2C%20-76.763382%5D%2C%20%5B28.261571000000004%2C%20-81.618139%5D%2C%20%5B32.826697%2C%20-117.165514%5D%2C%20%5B33.916319%2C%20-118.189847%5D%2C%20%5B37.992591%2C%20-122.039625%5D%2C%20%5B34.01375%2C%20-117.5501%5D%2C%20%5B42.550295%2C%20-82.877672%5D%2C%20%5B39.976791%2C%20-78.244918%5D%2C%20%5B29.663264%2C%20-81.683978%5D%2C%20%5B27.338399%2C%20-82.514037%5D%2C%20%5B40.74304%2C%20-73.19541%5D%2C%20%5B33.798004%2C%20-112.150697%5D%2C%20%5B36.783653%2C%20-76.395782%5D%2C%20%5B33.767027%2C%20-117.920419%5D%2C%20%5B37.298037%2C%20-119.648825%5D%2C%20%5B38.696205%2C%20-76.87204799999998%5D%2C%20%5B37.381356%2C%20-120.613524%5D%2C%20%5B34.023996000000004%2C%20-117.7533%5D%2C%20%5B38.47624%2C%20-121.42503%5D%2C%20%5B33.305794%2C%20-111.894925%5D%2C%20%5B28.39951%2C%20-82.65984%5D%2C%20%5B35.80249%2C%20-78.594144%5D%2C%20%5B35.238935%2C%20-120.683756%5D%2C%20%5B34.068657%2C%20-118.151038%5D%2C%20%5B35.89131300000001%2C%20-78.56076%5D%2C%20%5B37.745942%2C%20-122.200952%5D%2C%20%5B30.530598%2C%20-87.211578%5D%2C%20%5B34.110109%2C%20-118.262269%5D%2C%20%5B33.604834999999994%2C%20-111.976726%5D%2C%20%5B33.006195%2C%20-117.260058%5D%2C%20%5B33.410615%2C%20-80.445672%5D%2C%20%5B32.18029%2C%20-110.95013%5D%2C%20%5B32.41162%2C%20-80.64589000000002%5D%2C%20%5B40.345099%2C%20-78.950361%5D%2C%20%5B35.87088499999999%2C%20-78.621617%5D%2C%20%5B34.485232%2C%20-117.716359%5D%2C%20%5B34.983191%2C%20-85.408975%5D%2C%20%5B33.323234%2C%20-117.158195%5D%2C%20%5B40.89417%2C%20-74.078525%5D%2C%20%5B38.24605%2C%20-85.75213000000002%5D%2C%20%5B42.363289%2C%20-122.908531%5D%2C%20%5B38.679747%2C%20-121.333999%5D%2C%20%5B45.51815%2C%20-122.68713%5D%2C%20%5B25.683364%2C%20-80.400515%5D%2C%20%5B34.152406%2C%20-118.097115%5D%2C%20%5B33.94398%2C%20-118.368535%5D%2C%20%5B44.889611%2C%20-93.000866%5D%2C%20%5B40.67486%2C%20-89.53884000000002%5D%2C%20%5B26.062859%2C%20-80.164242%5D%2C%20%5B25.715637%2C%20-80.350826%5D%2C%20%5B46.287535%2C%20-114.194941%5D%2C%20%5B33.605%2C%20-114.532382%5D%2C%20%5B38.659306%2C%20-120.97251599999998%5D%2C%20%5B32.719262%2C%20-96.759446%5D%2C%20%5B38.907004%2C%20-77.010198%5D%2C%20%5B43.690786%2C%20-123.977734%5D%2C%20%5B38.610785%2C%20-121.41526299999998%5D%2C%20%5B41.90627%2C%20-87.62496999999998%5D%2C%20%5B40.843702%2C%20-73.895577%5D%2C%20%5B38.732741%2C%20-77.196311%5D%2C%20%5B28.065353%2C%20-82.738771%5D%2C%20%5B34.747901%2C%20-81.042812%5D%2C%20%5B38.150216%2C%20-122.216889%5D%2C%20%5B28.272762%2C%20-81.43803299999998%5D%2C%20%5B36.187759%2C%20-86.72959200000004%5D%2C%20%5B42.344311%2C%20-87.93649%5D%2C%20%5B42.93656%2C%20-78.76644%5D%2C%20%5B37.799717%2C%20-122.223812%5D%2C%20%5B34.645017%2C%20-82.152338%5D%2C%20%5B38.220314%2C%20-122.267227%5D%2C%20%5B40.083469%2C%20-75.328362%5D%2C%20%5B34.935484%2C%20-81.990112%5D%2C%20%5B34.065172%2C%20-117.829315%5D%2C%20%5B35.549823%2C%20-106.778474%5D%2C%20%5B44.96546%2C%20-93.25818%5D%2C%20%5B30.45409%2C%20-88.838378%5D%2C%20%5B41.637005%2C%20-71.48746899999998%5D%2C%20%5B36.196404%2C%20-119.283035%5D%2C%20%5B35.54624099999999%2C%20-119.331504%5D%2C%20%5B33.913389%2C%20-117.285114%5D%2C%20%5B38.856711%2C%20-77.108547%5D%2C%20%5B37.49268%2C%20-77.48839%5D%2C%20%5B42.05359%2C%20-87.86839%5D%2C%20%5B28.552986%2C%20-81.393835%5D%2C%20%5B41.78902%2C%20-87.93636%5D%2C%20%5B42.38371%2C%20-83.14963%5D%2C%20%5B34.024669%2C%20-117.750932%5D%2C%20%5B41.386259%2C%20-73.60001899999997%5D%2C%20%5B34.136941%2C%20-81.29825%5D%2C%20%5B34.946988%2C%20-82.27026%5D%2C%20%5B32.336396%2C%20-95.293185%5D%2C%20%5B25.848699%2C%20-80.15481199999998%5D%2C%20%5B32.87647%2C%20-97.07235%5D%2C%20%5B44.969486%2C%20-93.304506%5D%2C%20%5B27.49586%2C%20-82.547535%5D%2C%20%5B38.611096%2C%20-121.423419%5D%2C%20%5B33.831914000000005%2C%20-117.931934%5D%2C%20%5B46.355384%2C%20-122.905822%5D%2C%20%5B32.664120000000004%2C%20-97.33368%5D%2C%20%5B42.08157%2C%20-72.57944%5D%2C%20%5B33.777709%2C%20-117.875534%5D%2C%20%5B37.928109%2C%20-122.382735%5D%2C%20%5B40.98735%2C%20-73.68024%5D%2C%20%5B41.52118%2C%20-81.62119%5D%2C%20%5B45.50948%2C%20-122.78174%5D%2C%20%5B37.542697%2C%20-122.28633899999998%5D%2C%20%5B41.102833%2C%20-123.689729%5D%2C%20%5B38.055771%2C%20-122.12976299999998%5D%2C%20%5B43.133686%2C%20-75.469669%5D%2C%20%5B30.006840000000004%2C%20-90.27515%5D%2C%20%5B33.742588%2C%20-84.404087%5D%2C%20%5B39.245849%2C%20-76.672713%5D%2C%20%5B41.714748%2C%20-91.481147%5D%2C%20%5B39.5114%2C%20-106.14452%5D%2C%20%5B38.820561%2C%20-77.34814%5D%2C%20%5B38.81623%2C%20-104.72969%5D%2C%20%5B42.82732100000001%2C%20-71.49429%5D%2C%20%5B34.678672%2C%20-118.451694%5D%2C%20%5B34.045719%2C%20-117.310366%5D%2C%20%5B38.025835%2C%20-121.966728%5D%2C%20%5B29.766694%2C%20-82.50523199999998%5D%2C%20%5B37.732277%2C%20-122.414904%5D%2C%20%5B38.66283%2C%20-80.732935%5D%2C%20%5B37.600906%2C%20-120.99801399999998%5D%2C%20%5B37.766843%2C%20-121.333947%5D%2C%20%5B35.73508599999999%2C%20-78.650415%5D%2C%20%5B42.878018%2C%20-117.479692%5D%2C%20%5B27.93782%2C%20-82.730409%5D%2C%20%5B34.659633%2C%20-118.377253%5D%2C%20%5B34.566672%2C%20-118.686066%5D%2C%20%5B34.127739%2C%20-117.506606%5D%2C%20%5B25.759394%2C%20-80.30578%5D%2C%20%5B38.61695%2C%20-90.05164%5D%2C%20%5B32.821665%2C%20-117.158221%5D%2C%20%5B45.533674%2C%20-122.62515%5D%2C%20%5B35.81372899999999%2C%20-78.869798%5D%2C%20%5B38.299835%2C%20-122.034061%5D%2C%20%5B32.814370000000004%2C%20-117.11489%5D%2C%20%5B34.09559%2C%20-118.2441%5D%2C%20%5B27.937599%2C%20-82.293874%5D%2C%20%5B35.79027%2C%20-119.250615%5D%2C%20%5B42.98336%2C%20-117.09137%5D%2C%20%5B28.403939%2C%20-80.726158%5D%2C%20%5B45.38925%2C%20-122.74989%5D%2C%20%5B39.27079000000001%2C%20-76.64524899999998%5D%2C%20%5B35.023144%2C%20-85.28085300000002%5D%2C%20%5B30.568927%2C%20-97.944224%5D%2C%20%5B30.172125%2C%20-81.74661800000001%5D%2C%20%5B36.605308%2C%20-119.754853%5D%2C%20%5B29.723929%2C%20-95.390718%5D%2C%20%5B36.63161%2C%20-78.13916400000002%5D%2C%20%5B26.0817%2C%20-80.16351800000002%5D%2C%20%5B43.14944000000001%2C%20-77.553106%5D%2C%20%5B37.638725%2C%20-120.846796%5D%2C%20%5B39.936532%2C%20-75.08798900000002%5D%2C%20%5B43.21293%2C%20-123.35498%5D%2C%20%5B40.776551%2C%20-74.05836500000002%5D%2C%20%5B32.365319%2C%20-86.286375%5D%2C%20%5B33.028399%2C%20-80.130173%5D%2C%20%5B37.229514%2C%20-121.747489%5D%2C%20%5B25.890497%2C%20-80.18113100000002%5D%2C%20%5B33.912838%2C%20-118.179524%5D%2C%20%5B47.804769%2C%20-103.122665%5D%2C%20%5B33.937497%2C%20-118.098664%5D%2C%20%5B33.386216999999995%2C%20-111.890999%5D%2C%20%5B25.598624%2C%20-80.35336099999998%5D%2C%20%5B30.044077%2C%20-89.964712%5D%2C%20%5B32.341722%2C%20-95.267075%5D%2C%20%5B42.64858%2C%20-122.79538%5D%2C%20%5B42.8414%2C%20-85.76286%5D%2C%20%5B35.86074%2C%20-80.07925999999998%5D%2C%20%5B38.867741%2C%20-77.220402%5D%2C%20%5B28.608318%2C%20-81.307926%5D%2C%20%5B26.165775%2C%20-80.825439%5D%2C%20%5B26.556904%2C%20-80.070035%5D%2C%20%5B33.927242%2C%20-81.076831%5D%2C%20%5B34.146162%2C%20-81.238263%5D%2C%20%5B34.092068%2C%20-118.206331%5D%2C%20%5B32.745383000000004%2C%20-117.119976%5D%2C%20%5B33.916355%2C%20-118.257389%5D%2C%20%5B44.86555%2C%20-93.29878%5D%2C%20%5B40.668118%2C%20-111.90154%5D%2C%20%5B27.82103%2C%20-82.68051%5D%2C%20%5B29.744%2C%20-81.34482%5D%2C%20%5B46.7381%2C%20-95.873227%5D%2C%20%5B44.029237%2C%20-92.608245%5D%2C%20%5B44.96677%2C%20-93.272613%5D%2C%20%5B40.592311%2C%20-111.938656%5D%2C%20%5B39.078624%2C%20-122.785603%5D%2C%20%5B25.889398%2C%20-80.16383499999998%5D%2C%20%5B35.23798%2C%20-80.77656999999998%5D%2C%20%5B25.796955%2C%20-80.321568%5D%2C%20%5B36.944238%2C%20-109.710628%5D%2C%20%5B34.39496%2C%20-118.927174%5D%2C%20%5B26.682189%2C%20-81.893437%5D%2C%20%5B33.461969%2C%20-112.070646%5D%2C%20%5B32.814943%2C%20-96.628254%5D%2C%20%5B30.470616%2C%20-91.139243%5D%2C%20%5B34.887697%2C%20-82.181529%5D%2C%20%5B38.806648%2C%20-76.98401700000002%5D%2C%20%5B41.78335%2C%20-87.63083%5D%2C%20%5B32.958523%2C%20-79.797016%5D%2C%20%5B25.80939200000001%2C%20-80.323371%5D%2C%20%5B29.937235%2C%20-90.078679%5D%2C%20%5B34.502158%2C%20-118.627422%5D%2C%20%5B39.1275%2C%20-94.56784%5D%2C%20%5B28.043941%2C%20-82.595935%5D%2C%20%5B34.107027%2C%20-117.920886%5D%2C%20%5B44.47711%2C%20-93.29212%5D%2C%20%5B33.88875%2C%20-118.1951%5D%2C%20%5B39.556143%2C%20-76.154699%5D%2C%20%5B28.486795%2C%20-81.419402%5D%2C%20%5B43.127016%2C%20-77.54679200000002%5D%2C%20%5B27.82441%2C%20-82.66556800000002%5D%2C%20%5B40.724342%2C%20-73.93610699999998%5D%2C%20%5B33.87090300000001%2C%20-118.006778%5D%2C%20%5B45.68043400000001%2C%20-122.53177%5D%2C%20%5B44.00494000000001%2C%20-121.32611%5D%2C%20%5B37.45556%2C%20-79.8416%5D%2C%20%5B30.327085%2C%20-90.999146%5D%2C%20%5B40.583782%2C%20-122.304812%5D%2C%20%5B32.8917%2C%20-79.96752%5D%2C%20%5B34.167429%2C%20-118.383692%5D%2C%20%5B36.327529%2C%20-119.43044%5D%2C%20%5B36.84498%2C%20-76.19346%5D%2C%20%5B45.84982%2C%20-119.29016%5D%2C%20%5B25.906784%2C%20-80.18519599999998%5D%2C%20%5B34.317678%2C%20-117.369604%5D%2C%20%5B42.99803%2C%20-77.4097%5D%2C%20%5B40.066988%2C%20-76.315436%5D%2C%20%5B35.007151%2C%20-85.20353399999998%5D%2C%20%5B33.873611%2C%20-118.236099%5D%2C%20%5B27.956522%2C%20-82.45878499999998%5D%2C%20%5B38.641694%2C%20-121.147302%5D%2C%20%5B37.496992%2C%20-122.235013%5D%2C%20%5B33.983024%2C%20-118.070836%5D%2C%20%5B34.08164%2C%20-117.71925%5D%2C%20%5B45.03550900000001%2C%20-92.902711%5D%2C%20%5B40.017281%2C%20-77.529476%5D%2C%20%5B36.965056%2C%20-76.413441%5D%2C%20%5B33.825313%2C%20-118.081759%5D%2C%20%5B35.749639%2C%20-84.268163%5D%2C%20%5B42.370588%2C%20-87.889342%5D%2C%20%5B36.345677%2C%20-119.057202%5D%2C%20%5B32.7424%2C%20-96.81808%5D%2C%20%5B33.835216%2C%20-118.23828%5D%2C%20%5B30.445609%2C%20-86.62384899999998%5D%2C%20%5B34.658952%2C%20-83.08241%5D%2C%20%5B43.638306%2C%20-95.028272%5D%2C%20%5B37.313851%2C%20-80.056675%5D%2C%20%5B26.382345%2C%20-81.808171%5D%2C%20%5B39.42326%2C%20-120.03578%5D%2C%20%5B25.92566%2C%20-80.204255%5D%2C%20%5B32.249969%2C%20-110.85206399999998%5D%2C%20%5B35.379793%2C%20-118.967393%5D%2C%20%5B40.146821%2C%20-75.395232%5D%2C%20%5B36.301693%2C%20-119.387758%5D%2C%20%5B34.054902%2C%20-118.24262%5D%2C%20%5B36.134791%2C%20-95.985893%5D%2C%20%5B29.736153%2C%20-95.378831%5D%2C%20%5B35.842781%2C%20-78.573651%5D%2C%20%5B45.52094%2C%20-123.07153%5D%2C%20%5B39.82655%2C%20-120.421884%5D%2C%20%5B38.16004%2C%20-84.68202%5D%2C%20%5B42.01617%2C%20-95.95342%5D%2C%20%5B27.999344%2C%20-82.505116%5D%2C%20%5B36.861087%2C%20-121.686347%5D%2C%20%5B38.9197%2C%20-76.933178%5D%2C%20%5B33.989533%2C%20-118.40071299999998%5D%2C%20%5B42.56985%2C%20-83.15921999999998%5D%2C%20%5B40.90849%2C%20-77.781089%5D%2C%20%5B29.7379%2C%20-95.47666%5D%2C%20%5B38.079503%2C%20-79.083184%5D%2C%20%5B37.315353%2C%20-121.940269%5D%2C%20%5B39.52329%2C%20-119.62411000000002%5D%2C%20%5B42.410925%2C%20-83.218671%5D%2C%20%5B26.621665000000004%2C%20-81.597865%5D%2C%20%5B33.48425%2C%20-112.11319%5D%2C%20%5B35.46003%2C%20-97.60482%5D%2C%20%5B40.25441%2C%20-75.63104%5D%2C%20%5B34.128313%2C%20-117.961976%5D%2C%20%5B42.762067%2C%20-84.66798%5D%2C%20%5B47.647823%2C%20-122.32241%5D%2C%20%5B43.17511%2C%20-77.6076%5D%2C%20%5B37.385992%2C%20-121.976789%5D%2C%20%5B32.939825%2C%20-96.769857%5D%2C%20%5B43.235179%2C%20-85.96550500000002%5D%2C%20%5B45.823249%2C%20-122.846216%5D%2C%20%5B45.416482%2C%20-112.439332%5D%2C%20%5B32.76616%2C%20-96.91208%5D%2C%20%5B42.962331%2C%20-87.940259%5D%2C%20%5B39.067127%2C%20-76.640225%5D%2C%20%5B33.595859999999995%2C%20-112.2203%5D%2C%20%5B33.93867%2C%20-117.87718999999998%5D%2C%20%5B26.11366%2C%20-80.30809599999998%5D%2C%20%5B35.253417%2C%20-82.407349%5D%2C%20%5B41.840196%2C%20-124.109169%5D%2C%20%5B25.924424%2C%20-80.31085300000002%5D%2C%20%5B35.349829%2C%20-80.865842%5D%2C%20%5B43.061763%2C%20-89.472462%5D%2C%20%5B43.862367%2C%20-111.784354%5D%2C%20%5B41.755265%2C%20-72.64984799999998%5D%2C%20%5B34.277742%2C%20-118.510901%5D%2C%20%5B33.87648%2C%20-118.09899%5D%2C%20%5B32.838301%2C%20-96.761425%5D%2C%20%5B29.484358%2C%20-98.594963%5D%2C%20%5B27.049938%2C%20-82.404551%5D%2C%20%5B35.71043%2C%20-78.83814100000002%5D%2C%20%5B35.82431%2C%20-78.31458%5D%2C%20%5B40.747851%2C%20-73.760265%5D%2C%20%5B34.00816%2C%20-117.96876%5D%2C%20%5B37.556445%2C%20-77.447941%5D%2C%20%5B41.30137%2C%20-73.82353%5D%2C%20%5B39.659851%2C%20-77.631881%5D%2C%20%5B43.204904%2C%20-75.415509%5D%2C%20%5B33.516418%2C%20-81.58640600000003%5D%2C%20%5B39.69547100000001%2C%20-111.46251%5D%2C%20%5B33.56592%2C%20-79.033517%5D%2C%20%5B33.933087%2C%20-78.569787%5D%2C%20%5B34.468518%2C%20-118.322221%5D%2C%20%5B37.99184%2C%20-122.307909%5D%2C%20%5B30.37391400000001%2C%20-91.070594%5D%2C%20%5B45.070778%2C%20-93.446134%5D%2C%20%5B34.531662%2C%20-82.703896%5D%2C%20%5B37.20877%2C%20-76.580718%5D%2C%20%5B32.924024%2C%20-80.450026%5D%2C%20%5B40.627508%2C%20-74.30396400000002%5D%2C%20%5B33.897008%2C%20-118.193476%5D%2C%20%5B42.610505%2C%20-72.572282%5D%2C%20%5B40.557242%2C%20-74.432416%5D%2C%20%5B47.88415%2C%20-122.23118999999998%5D%2C%20%5B47.642656%2C%20-122.318601%5D%2C%20%5B29.971978000000004%2C%20-90.124673%5D%2C%20%5B34.030708000000004%2C%20-81.093856%5D%2C%20%5B29.72845%2C%20-95.46274%5D%2C%20%5B43.173011%2C%20-77.615975%5D%2C%20%5B38.21751%2C%20-122.60381%5D%2C%20%5B34.139273%2C%20-118.236089%5D%2C%20%5B33.69174%2C%20-84.49065999999998%5D%2C%20%5B46.2438%2C%20-122.8854%5D%2C%20%5B38.2984%2C%20-85.899%5D%2C%20%5B42.20442%2C%20-83.232919%5D%2C%20%5B34.031294%2C%20-118.259846%5D%2C%20%5B40.26795%2C%20-74.510296%5D%2C%20%5B34.059483%2C%20-118.001377%5D%2C%20%5B37.918126%2C%20-78.550007%5D%2C%20%5B38.866549%2C%20-77.125192%5D%2C%20%5B27.907021000000004%2C%20-82.729543%5D%2C%20%5B42.250414%2C%20-124.392588%5D%2C%20%5B36.062161%2C%20-80.228703%5D%2C%20%5B34.154133%2C%20-118.467958%5D%2C%20%5B34.314422%2C%20-110.8501%5D%2C%20%5B32.790766%2C%20-117.159265%5D%2C%20%5B37.533116%2C%20-122.277189%5D%2C%20%5B30.35668%2C%20-97.59989%5D%2C%20%5B47.415319%2C%20-122.22074%5D%2C%20%5B44.972777%2C%20-122.99003%5D%2C%20%5B39.398227%2C%20-76.664754%5D%2C%20%5B28.344612%2C%20-82.6993%5D%2C%20%5B46.973604%2C%20-123.744597%5D%2C%20%5B32.898509999999995%2C%20-96.71481%5D%2C%20%5B34.136624%2C%20-117.466626%5D%2C%20%5B47.148964%2C%20-122.434383%5D%2C%20%5B33.454825%2C%20-111.971348%5D%2C%20%5B30.534294%2C%20-87.31312199999998%5D%2C%20%5B38.258358%2C%20-121.296299%5D%2C%20%5B35.220914%2C%20-80.862013%5D%2C%20%5B44.58103%2C%20-117.45338%5D%2C%20%5B34.401678000000004%2C%20-119.517805%5D%2C%20%5B39.01365300000001%2C%20-77.048302%5D%2C%20%5B37.702202%2C%20-122.154794%5D%2C%20%5B45.699469%2C%20-110.51973%5D%2C%20%5B40.71834000000001%2C%20-111.88826%5D%2C%20%5B35.782329%2C%20-78.632164%5D%2C%20%5B32.78864%2C%20-96.76414%5D%2C%20%5B35.58008%2C%20-97.51527%5D%2C%20%5B28.03508%2C%20-80.62173%5D%2C%20%5B25.733077%2C%20-80.31688199999998%5D%2C%20%5B45.055307%2C%20-93.287047%5D%2C%20%5B28.777287%2C%20-81.355212%5D%2C%20%5B25.72301%2C%20-80.31886999999998%5D%2C%20%5B35.37598900000001%2C%20-118.931883%5D%2C%20%5B42.670571%2C%20-73.753904%5D%2C%20%5B40.325358%2C%20-78.317487%5D%2C%20%5B29.978686%2C%20-90.05745999999998%5D%2C%20%5B38.964941%2C%20-76.194068%5D%2C%20%5B40.847287%2C%20-73.933402%5D%2C%20%5B45.41247%2C%20-122.743881%5D%2C%20%5B44.152447%2C%20-94.419376%5D%2C%20%5B32.698553000000004%2C%20-117.121004%5D%2C%20%5B43.730343%2C%20-122.382814%5D%2C%20%5B34.532507%2C%20-119.852877%5D%2C%20%5B41.842271%2C%20-87.63153%5D%2C%20%5B34.250625%2C%20-118.428812%5D%2C%20%5B40.9307%2C%20-78.27938%5D%2C%20%5B28.518646%2C%20-81.289229%5D%2C%20%5B40.441409%2C%20-79.858238%5D%2C%20%5B37.122793%2C%20-93.433151%5D%2C%20%5B29.695642%2C%20-95.32946%5D%2C%20%5B45.58254%2C%20-118.60944%5D%2C%20%5B28.697863%2C%20-81.56695400000002%5D%2C%20%5B41.81624%2C%20-87.63011%5D%2C%20%5B37.787271%2C%20-81.22069%5D%2C%20%5B25.794267%2C%20-80.31294%5D%2C%20%5B29.663014%2C%20-95.51148%5D%2C%20%5B27.821106%2C%20-82.69768499999998%5D%2C%20%5B25.769715%2C%20-80.334621%5D%2C%20%5B34.01704%2C%20-117.341548%5D%2C%20%5B33.411815999999995%2C%20-80.664764%5D%2C%20%5B35.778415%2C%20-78.61368399999998%5D%2C%20%5B41.238561%2C%20-122.264468%5D%2C%20%5B28.211402000000003%2C%20-82.73921800000002%5D%2C%20%5B25.688279%2C%20-80.322919%5D%2C%20%5B32.72231%2C%20-96.82716%5D%2C%20%5B42.35787%2C%20-71.17791%5D%2C%20%5B40.112773%2C%20-76.396549%5D%2C%20%5B38.268251%2C%20-120.71585%5D%2C%20%5B35.602365%2C%20-84.512704%5D%2C%20%5B34.001064%2C%20-118.409161%5D%2C%20%5B34.594327%2C%20-117.256726%5D%2C%20%5B40.72429%2C%20-111.9451%5D%2C%20%5B40.958966%2C%20-76.89839%5D%2C%20%5B33.95272%2C%20-118.36921%5D%2C%20%5B37.20772%2C%20-121.720003%5D%2C%20%5B34.10819%2C%20-118.18573%5D%2C%20%5B33.992039%2C%20-117.358004%5D%2C%20%5B38.089101%2C%20-122.22122%5D%2C%20%5B32.770463%2C%20-117.112691%5D%2C%20%5B45.5016%2C%20-122.66073%5D%2C%20%5B40.686737%2C%20-124.233508%5D%2C%20%5B45.69532%2C%20-121.33703%5D%2C%20%5B47.4%2C%20-92.518822%5D%2C%20%5B37.24207%2C%20-121.76952%5D%2C%20%5B28.500005%2C%20-80.83973%5D%2C%20%5B38.748124%2C%20-121.26793700000002%5D%2C%20%5B33.92819%2C%20-118.34103%5D%2C%20%5B32.855075%2C%20-117.18289%5D%2C%20%5B40.631187%2C%20-74.211979%5D%2C%20%5B32.70237%2C%20-84.8598%5D%2C%20%5B32.908516%2C%20-80.026607%5D%2C%20%5B33.524018%2C%20-112.118138%5D%2C%20%5B37.552525%2C%20-77.47882800000002%5D%2C%20%5B34.068056%2C%20-118.032013%5D%2C%20%5B30.147206%2C%20-81.75828299999998%5D%2C%20%5B36.833403%2C%20-76.433688%5D%2C%20%5B45.366207%2C%20-122.585159%5D%2C%20%5B33.38612%2C%20-111.84627%5D%2C%20%5B38.61778%2C%20-90.19109%5D%2C%20%5B33.851%2C%20-117.83796%5D%2C%20%5B29.0256%2C%20-82.138986%5D%2C%20%5B38.587797%2C%20-121.503941%5D%2C%20%5B29.407242%2C%20-98.580707%5D%2C%20%5B25.765911%2C%20-80.336376%5D%2C%20%5B28.302851%2C%20-82.147701%5D%2C%20%5B32.366307%2C%20-110.96951%5D%2C%20%5B38.22054%2C%20-122.1325%5D%2C%20%5B33.606261%2C%20-92.026685%5D%2C%20%5B39.723442%2C%20-105.193004%5D%2C%20%5B36.084315%2C%20-86.70533%5D%2C%20%5B28.572456%2C%20-81.452177%5D%2C%20%5B41.029804%2C%20-76.392542%5D%2C%20%5B34.7137%2C%20-82.49864000000002%5D%2C%20%5B28.750694%2C%20-82.104497%5D%2C%20%5B42.981737%2C%20-85.6448%5D%2C%20%5B45.511726%2C%20-121.089596%5D%2C%20%5B40.102718%2C%20-75.308818%5D%2C%20%5B28.436222%2C%20-81.368369%5D%2C%20%5B40.72096%2C%20-111.986208%5D%2C%20%5B27.93782%2C%20-82.30066%5D%2C%20%5B33.064471999999995%2C%20-80.61296899999998%5D%2C%20%5B36.025817%2C%20-86.692748%5D%2C%20%5B34.08243%2C%20-118.29627%5D%2C%20%5B33.14178%2C%20-117.187571%5D%2C%20%5B33.91144%2C%20-117.283179%5D%2C%20%5B37.389508%2C%20-120.686283%5D%2C%20%5B32.750727000000005%2C%20-117.123255%5D%2C%20%5B32.909436%2C%20-117.124311%5D%2C%20%5B33.736096999999994%2C%20-78.831795%5D%2C%20%5B38.718626%2C%20-76.990027%5D%2C%20%5B25.750817%2C%20-80.335844%5D%2C%20%5B45.3696%2C%20-117.99375%5D%2C%20%5B30.327626%2C%20-81.639466%5D%2C%20%5B36.763033%2C%20-119.749112%5D%2C%20%5B34.324647%2C%20-118.502322%5D%2C%20%5B38.92664%2C%20-77.23136%5D%2C%20%5B33.970026000000004%2C%20-117.375527%5D%2C%20%5B38.18551%2C%20-85.81971%5D%2C%20%5B27.916725%2C%20-82.790829%5D%2C%20%5B30.413844%2C%20-91.06767%5D%2C%20%5B25.765335%2C%20-80.415367%5D%2C%20%5B40.956097%2C%20-76.47084100000002%5D%2C%20%5B39.210087%2C%20-76.64909%5D%2C%20%5B38.236675%2C%20-122.26347%5D%2C%20%5B26.420731%2C%20-80.090234%5D%2C%20%5B36.146362%2C%20-86.666512%5D%2C%20%5B33.834425%2C%20-84.194637%5D%2C%20%5B28.420548%2C%20-81.404628%5D%2C%20%5B41.011805%2C%20-73.70193499999998%5D%2C%20%5B37.653654%2C%20-121.89845%5D%2C%20%5B34.054602%2C%20-118.00476100000002%5D%2C%20%5B40.74434%2C%20-73.97124000000002%5D%2C%20%5B35.152062%2C%20-80.870419%5D%2C%20%5B34.245054%2C%20-118.42924%5D%2C%20%5B47.500902%2C%20-122.297798%5D%2C%20%5B34.709353%2C%20-81.619112%5D%2C%20%5B40.63717000000001%2C%20-74.29241%5D%2C%20%5B34.033094%2C%20-118.028556%5D%2C%20%5B34.762451%2C%20-80.701286%5D%2C%20%5B40.95112%2C%20-74.07259%5D%2C%20%5B25.881811%2C%20-80.226656%5D%2C%20%5B37.495837%2C%20-120.871572%5D%2C%20%5B28.344201%2C%20-81.424352%5D%2C%20%5B42.042413%2C%20-124.250253%5D%2C%20%5B33.77553%2C%20-117.84732%5D%2C%20%5B41.367147%2C%20-72.010533%5D%2C%20%5B40.550848%2C%20-112.317148%5D%2C%20%5B40.143793%2C%20-76.81385300000002%5D%2C%20%5B46.127825%2C%20-92.887912%5D%2C%20%5B45.04487%2C%20-93.10637%5D%2C%20%5B30.431479%2C%20-97.655599%5D%2C%20%5B36.972998%2C%20-80.844732%5D%2C%20%5B35.202846%2C%20-80.72500600000002%5D%2C%20%5B43.13421%2C%20-77.561437%5D%2C%20%5B33.508269%2C%20-86.818761%5D%2C%20%5B42.4688%2C%20-82.91919%5D%2C%20%5B41.249891%2C%20-73.81134%5D%2C%20%5B25.925478%2C%20-80.291995%5D%2C%20%5B34.13453%2C%20-117.670453%5D%2C%20%5B34.111965999999995%2C%20-117.979434%5D%2C%20%5B33.1639%2C%20-80.589612%5D%2C%20%5B38.59385%2C%20-121.50407%5D%2C%20%5B32.797672%2C%20-97.212332%5D%2C%20%5B33.673435999999995%2C%20-117.886441%5D%2C%20%5B42.968318%2C%20-85.697462%5D%2C%20%5B32.257290000000005%2C%20-81.71974%5D%2C%20%5B32.770359%2C%20-117.161482%5D%2C%20%5B38.660853%2C%20-121.350526%5D%2C%20%5B34.154182%2C%20-118.468231%5D%2C%20%5B34.323928%2C%20-118.501064%5D%2C%20%5B33.6901%2C%20-117.76829%5D%2C%20%5B33.725559000000004%2C%20-117.275247%5D%2C%20%5B40.83734000000001%2C%20-73.88006999999998%5D%2C%20%5B34.167770000000004%2C%20-118.614224%5D%2C%20%5B39.140836%2C%20-94.673551%5D%2C%20%5B37.6894%2C%20-122.105203%5D%2C%20%5B42.495085%2C%20-71.177533%5D%2C%20%5B28.479233%2C%20-81.44975%5D%2C%20%5B29.718307%2C%20-95.49794%5D%2C%20%5B33.20412%2C%20-111.90872%5D%2C%20%5B40.830657%2C%20-73.852058%5D%2C%20%5B33.915182%2C%20-117.882067%5D%2C%20%5B34.106571%2C%20-118.255781%5D%2C%20%5B42.372565%2C%20-83.05119499999998%5D%2C%20%5B39.34512%2C%20-76.509486%5D%2C%20%5B35.00618%2C%20-105.52404%5D%2C%20%5B36.135103%2C%20-95.940352%5D%2C%20%5B40.000297%2C%20-75.228336%5D%2C%20%5B40.688122%2C%20-76.593276%5D%2C%20%5B39.86014%2C%20-74.22126999999998%5D%2C%20%5B41.84523%2C%20-71.06314%5D%2C%20%5B35.018009%2C%20-85.272226%5D%2C%20%5B35.85289%2C%20-78.80256999999997%5D%2C%20%5B34.025274%2C%20-117.807991%5D%2C%20%5B34.645612%2C%20-118.040913%5D%2C%20%5B37.40518%2C%20-122.05563%5D%2C%20%5B33.147039%2C%20-117.105858%5D%2C%20%5B38.648948%2C%20-121.350392%5D%2C%20%5B33.672934000000005%2C%20-112.008844%5D%2C%20%5B33.974641%2C%20-118.287663%5D%2C%20%5B34.08724%2C%20-117.65454%5D%2C%20%5B25.924579%2C%20-80.295461%5D%2C%20%5B41.808807%2C%20-122.594366%5D%2C%20%5B31.734844%2C%20-106.346336%5D%2C%20%5B35.755232%2C%20-78.562386%5D%2C%20%5B34.14007%2C%20-118.22833%5D%2C%20%5B34.6416%2C%20-120.43535%5D%2C%20%5B43.165794%2C%20-77.69344%5D%2C%20%5B44.21027%2C%20-94.02616%5D%2C%20%5B34.066182%2C%20-117.396099%5D%2C%20%5B33.66478%2C%20-84.41932%5D%2C%20%5B34.001272%2C%20-81.102845%5D%2C%20%5B33.3932%2C%20-112.0301%5D%2C%20%5B43.113223%2C%20-123.356323%5D%2C%20%5B25.627141%2C%20-80.383572%5D%2C%20%5B41.57418%2C%20-87.51399%5D%2C%20%5B35.451293%2C%20-120.640165%5D%2C%20%5B40.506551%2C%20-122.538771%5D%2C%20%5B42.697104%2C%20-73.842853%5D%2C%20%5B34.47883%2C%20-92.72899%5D%2C%20%5B28.447717%2C%20-81.263685%5D%2C%20%5B35.938285%2C%20-86.535562%5D%2C%20%5B30.398299%2C%20-87.075436%5D%2C%20%5B37.056963%2C%20-121.021975%5D%2C%20%5B38.660818%2C%20-121.387363%5D%2C%20%5B46.086622%2C%20-95.888671%5D%2C%20%5B39.266595%2C%20-84.35606700000002%5D%2C%20%5B33.87648%2C%20-118.09899%5D%2C%20%5B27.300548%2C%20-82.49762700000002%5D%2C%20%5B29.996011%2C%20-90.045676%5D%2C%20%5B37.717867%2C%20-120.333463%5D%2C%20%5B34.06113%2C%20-117.54457%5D%2C%20%5B33.20097%2C%20-117.374377%5D%2C%20%5B45.90122%2C%20-123.86716%5D%2C%20%5B33.01232%2C%20-117.079555%5D%2C%20%5B28.979093%2C%20-81.74175%5D%2C%20%5B32.655755%2C%20-96.881743%5D%2C%20%5B37.824343%2C%20-122.310657%5D%2C%20%5B31.20286500000001%2C%20-84.171222%5D%2C%20%5B28.454246%2C%20-81.399773%5D%2C%20%5B44.229336%2C%20-93.464566%5D%2C%20%5B33.930913000000004%2C%20-118.17868%5D%2C%20%5B35.057386%2C%20-118.175323%5D%2C%20%5B34.266084%2C%20-118.472047%5D%2C%20%5B41.659801%2C%20-77.10260799999998%5D%2C%20%5B38.868434%2C%20-76.989587%5D%2C%20%5B28.727290000000004%2C%20-81.60181%5D%2C%20%5B40.58255%2C%20-111.89995%5D%2C%20%5B42.49338%2C%20-83.11712%5D%2C%20%5B26.336191%2C%20-81.751016%5D%2C%20%5B32.573234%2C%20-93.781029%5D%2C%20%5B38.936392%2C%20-94.451186%5D%2C%20%5B34.137431%2C%20-117.239539%5D%2C%20%5B35.24252%2C%20-80.844365%5D%2C%20%5B39.328955%2C%20-76.74480600000003%5D%2C%20%5B36.060048%2C%20-95.904235%5D%2C%20%5B33.670756%2C%20-84.498302%5D%2C%20%5B41.86974%2C%20-87.882859%5D%2C%20%5B27.962922%2C%20-82.476632%5D%2C%20%5B39.322074%2C%20-94.698489%5D%2C%20%5B48.125681%2C%20-103.776843%5D%2C%20%5B40.917676%2C%20-78.88441999999998%5D%2C%20%5B36.914062%2C%20-76.416197%5D%2C%20%5B47.192555%2C%20-93.022044%5D%2C%20%5B39.12933%2C%20-74.78067%5D%2C%20%5B34.873104999999995%2C%20-117.988294%5D%2C%20%5B28.451531%2C%20-81.400598%5D%2C%20%5B42.15031%2C%20-88.0133%5D%2C%20%5B33.194381%2C%20-97.548939%5D%2C%20%5B34.476043%2C%20-118.305098%5D%2C%20%5B41.98095%2C%20-87.86844%5D%2C%20%5B32.788364%2C%20-117.115491%5D%2C%20%5B28.393853000000004%2C%20-81.375231%5D%2C%20%5B40.419846%2C%20-123.177166%5D%2C%20%5B38.573335%2C%20-121.58363500000002%5D%2C%20%5B40.570503%2C%20-77.244218%5D%2C%20%5B32.743970000000004%2C%20-83.71661%5D%2C%20%5B37.198083%2C%20-93.393492%5D%2C%20%5B35.819222%2C%20-78.741609%5D%2C%20%5B34.926899%2C%20-78.942035%5D%2C%20%5B34.693992%2C%20-80.788742%5D%2C%20%5B36.869635%2C%20-76.405459%5D%2C%20%5B42.59804000000001%2C%20-88.41225%5D%2C%20%5B39.974063%2C%20-88.80593499999998%5D%2C%20%5B27.893675%2C%20-82.730262%5D%2C%20%5B38.656484000000006%2C%20-77.28352199999998%5D%2C%20%5B37.74135%2C%20-121.580823%5D%2C%20%5B40.874928%2C%20-73.992579%5D%2C%20%5B37.39914%2C%20-122.18134%5D%2C%20%5B34.181253000000005%2C%20-118.168899%5D%2C%20%5B27.439454%2C%20-82.453458%5D%2C%20%5B25.927047%2C%20-80.224132%5D%2C%20%5B47.245888%2C%20-122.507541%5D%2C%20%5B39.105116%2C%20-94.592725%5D%2C%20%5B34.17431%2C%20-118.850005%5D%2C%20%5B37.660843%2C%20-122.104616%5D%2C%20%5B36.161876%2C%20-82.402536%5D%2C%20%5B35.014435%2C%20-82.07088399999998%5D%2C%20%5B40.748744%2C%20-73.850003%5D%2C%20%5B40.253702%2C%20-74.51576800000002%5D%2C%20%5B36.250752%2C%20-94.150342%5D%2C%20%5B39.59196%2C%20-104.88334%5D%2C%20%5B30.519622%2C%20-91.160312%5D%2C%20%5B37.96061%2C%20-121.242561%5D%2C%20%5B33.924510999999995%2C%20-117.994412%5D%2C%20%5B36.716951%2C%20-121.660814%5D%2C%20%5B34.072216%2C%20-118.062719%5D%2C%20%5B25.907408%2C%20-80.292489%5D%2C%20%5B38.458762%2C%20-122.422785%5D%2C%20%5B42.6872%2C%20-73.79975%5D%2C%20%5B41.121881%2C%20-78.758442%5D%2C%20%5B38.521982%2C%20-77.371119%5D%2C%20%5B40.80759000000001%2C%20-73.92654%5D%2C%20%5B27.893754%2C%20-82.731873%5D%2C%20%5B37.19921%2C%20-77.42312%5D%2C%20%5B34.06104000000001%2C%20-118.24729%5D%2C%20%5B36.070305%2C%20-95.88635%5D%2C%20%5B37.011324%2C%20-76.32295400000002%5D%2C%20%5B40.71826%2C%20-111.87391%5D%2C%20%5B40.081%2C%20-76.65694%5D%2C%20%5B33.00927%2C%20-117.07989%5D%2C%20%5B39.103276%2C%20-121.627847%5D%2C%20%5B42.72679%2C%20-73.798635%5D%2C%20%5B34.06933%2C%20-118.235847%5D%2C%20%5B44.75741%2C%20-94.823201%5D%2C%20%5B29.699746%2C%20-95.600214%5D%2C%20%5B40.146241%2C%20-75.010817%5D%2C%20%5B30.26173%2C%20-81.60656%5D%2C%20%5B41.680525%2C%20-72.653485%5D%2C%20%5B39.330078%2C%20-123.303697%5D%2C%20%5B37.655843%2C%20-79.541073%5D%2C%20%5B41.036349%2C%20-76.342095%5D%2C%20%5B29.680967%2C%20-95.367027%5D%2C%20%5B33.887303%2C%20-118.3629%5D%2C%20%5B33.3826%2C%20-117.17389%5D%2C%20%5B33.941091%2C%20-117.249473%5D%2C%20%5B33.28051%2C%20-92.662977%5D%2C%20%5B30.532614%2C%20-87.24767299999998%5D%2C%20%5B42.918271%2C%20-71.372371%5D%2C%20%5B44.096878%2C%20-121.301862%5D%2C%20%5B34.08741%2C%20-117.66528%5D%2C%20%5B35.804659%2C%20-78.72615%5D%2C%20%5B33.715199%2C%20-84.407889%5D%2C%20%5B39.862428%2C%20-105.056194%5D%2C%20%5B38.509737%2C%20-122.92253%5D%2C%20%5B41.80555%2C%20-72.65983%5D%2C%20%5B25.714288%2C%20-80.418902%5D%2C%20%5B36.836464%2C%20-76.061775%5D%2C%20%5B35.89906%2C%20-84.76848000000003%5D%2C%20%5B42.39532%2C%20-82.98926%5D%2C%20%5B39.72559%2C%20-105.03941%5D%2C%20%5B41.595085%2C%20-90.548919%5D%2C%20%5B25.897108%2C%20-80.1867%5D%2C%20%5B35.90142%2C%20-78.76608%5D%2C%20%5B33.731558%2C%20-84.50235500000002%5D%2C%20%5B34.152234%2C%20-118.22526%5D%2C%20%5B25.627115%2C%20-80.39933%5D%2C%20%5B43.183298%2C%20-89.213176%5D%2C%20%5B39.869024%2C%20-86.047076%5D%2C%20%5B44.615142%2C%20-117.491259%5D%2C%20%5B29.485028000000003%2C%20-98.593558%5D%2C%20%5B41.869718%2C%20-87.70576899999998%5D%2C%20%5B37.506063%2C%20-121.965984%5D%2C%20%5B33.873314%2C%20-118.248765%5D%2C%20%5B33.279651%2C%20-81.44596%5D%2C%20%5B34.692861%2C%20-81.911156%5D%2C%20%5B25.760893%2C%20-80.39527199999998%5D%2C%20%5B38.52497%2C%20-121.467555%5D%2C%20%5B36.812176%2C%20-76.74996800000002%5D%2C%20%5B39.77966%2C%20-104.97238%5D%2C%20%5B44.879574%2C%20-122.912329%5D%2C%20%5B34.055975%2C%20-118.452176%5D%2C%20%5B41.836978%2C%20-75.82086600000002%5D%2C%20%5B25.785602%2C%20-80.214287%5D%2C%20%5B38.31837700000001%2C%20-121.464843%5D%2C%20%5B34.122074%2C%20-117.695396%5D%2C%20%5B37.75636%2C%20-121.96288%5D%2C%20%5B40.609583%2C%20-74.03509%5D%2C%20%5B35.163839%2C%20-80.910646%5D%2C%20%5B28.404189%2C%20-81.425009%5D%2C%20%5B41.521806%2C%20-73.094491%5D%2C%20%5B35.209578%2C%20-80.918334%5D%2C%20%5B35.80245%2C%20-78.783888%5D%2C%20%5B37.611211%2C%20-77.447851%5D%2C%20%5B30.439717%2C%20-91.187358%5D%2C%20%5B37.75835%2C%20-122.2121%5D%2C%20%5B45.912305%2C%20-94.114433%5D%2C%20%5B27.270415000000003%2C%20-82.497665%5D%2C%20%5B26.652590000000004%2C%20-81.9154%5D%2C%20%5B36.5939%2C%20-121.87298%5D%2C%20%5B39.931815%2C%20-85.438131%5D%2C%20%5B34.063839%2C%20-117.811951%5D%2C%20%5B43.70423%2C%20-123.20578%5D%2C%20%5B33.661937%2C%20-117.381719%5D%2C%20%5B45.50601%2C%20-122.68153%5D%2C%20%5B34.049393%2C%20-118.264012%5D%2C%20%5B39.101618%2C%20-77.046228%5D%2C%20%5B37.631484%2C%20-122.084465%5D%2C%20%5B25.8904%2C%20-80.22503499999998%5D%2C%20%5B34.157358%2C%20-119.076659%5D%2C%20%5B29.464202%2C%20-98.409583%5D%2C%20%5B40.942579%2C%20-111.892501%5D%2C%20%5B32.378693%2C%20-96.865907%5D%2C%20%5B39.52492%2C%20-111.58941000000002%5D%2C%20%5B29.73654%2C%20-95.369%5D%2C%20%5B34.707284%2C%20-80.7623%5D%2C%20%5B29.688772%2C%20-95.332017%5D%2C%20%5B27.99632%2C%20-82.38476%5D%2C%20%5B35.19591%2C%20-80.82725%5D%2C%20%5B26.984556%2C%20-80.187441%5D%2C%20%5B30.210477%2C%20-97.726877%5D%2C%20%5B25.881657%2C%20-80.35433499999998%5D%2C%20%5B37.747257%2C%20-104.833403%5D%2C%20%5B34.019263%2C%20-117.498117%5D%2C%20%5B45.50648%2C%20-122.6821%5D%2C%20%5B46.75566%2C%20-92.10544%5D%2C%20%5B33.776433000000004%2C%20-117.900683%5D%2C%20%5B40.431609%2C%20-74.51595999999998%5D%2C%20%5B25.684807%2C%20-80.430801%5D%2C%20%5B32.382008%2C%20-93.818932%5D%2C%20%5B34.071613%2C%20-117.94754%5D%2C%20%5B27.91971%2C%20-82.60977%5D%2C%20%5B45.359891%2C%20-122.668269%5D%2C%20%5B34.024842%2C%20-117.774373%5D%2C%20%5B37.08996%2C%20-79.824391%5D%2C%20%5B38.412001%2C%20-77.42926899999998%5D%2C%20%5B32.85791500000001%2C%20-96.87379%5D%2C%20%5B34.16843%2C%20-80.885459%5D%2C%20%5B40.20922%2C%20-74.078975%5D%2C%20%5B40.801187%2C%20-73.829128%5D%2C%20%5B39.515404%2C%20-121.485222%5D%2C%20%5B29.96826%2C%20-90.059253%5D%2C%20%5B38.886967%2C%20-121.015874%5D%2C%20%5B40.03528%2C%20-120.11089%5D%2C%20%5B40.76095%2C%20-73.9564%5D%2C%20%5B35.112013%2C%20-81.158464%5D%2C%20%5B35.7852%2C%20-78.7211%5D%2C%20%5B37.81545%2C%20-112.40362%5D%2C%20%5B34.072628%2C%20-118.058409%5D%2C%20%5B40.340197%2C%20-79.963836%5D%2C%20%5B39.45562%2C%20-112.01058%5D%2C%20%5B38.223592%2C%20-122.611809%5D%2C%20%5B32.558981%2C%20-117.062984%5D%2C%20%5B32.464292%2C%20-93.735005%5D%2C%20%5B36.974068%2C%20-121.883043%5D%2C%20%5B34.11444%2C%20-118.33666200000002%5D%2C%20%5B42.67635900000001%2C%20-84.49601%5D%2C%20%5B35.56557%2C%20-97.52016%5D%2C%20%5B33.77425%2C%20-118.07798%5D%2C%20%5B44.040427%2C%20-93.174152%5D%2C%20%5B34.42727%2C%20-118.41935%5D%2C%20%5B43.01684%2C%20-85.628433%5D%2C%20%5B38.670793%2C%20-119.652944%5D%2C%20%5B35.97461%2C%20-78.87272%5D%2C%20%5B37.321122%2C%20-121.899889%5D%2C%20%5B43.278166%2C%20-77.791198%5D%2C%20%5B34.166076000000004%2C%20-118.618193%5D%2C%20%5B33.794862%2C%20-118.104985%5D%2C%20%5B43.63397%2C%20-124.18505%5D%2C%20%5B30.46455%2C%20-88.42361%5D%2C%20%5B38.67081%2C%20-90.60372%5D%2C%20%5B37.67479%2C%20-122.46905%5D%2C%20%5B34.136484%2C%20-117.504642%5D%2C%20%5B39.669434%2C%20-75.600747%5D%2C%20%5B34.765108000000005%2C%20-82.231775%5D%2C%20%5B38.257349%2C%20-85.718322%5D%2C%20%5B34.97135%2C%20-81.941664%5D%2C%20%5B30.409656%2C%20-86.811637%5D%2C%20%5B38.539695%2C%20-121.287395%5D%2C%20%5B41.741956%2C%20-87.830913%5D%2C%20%5B33.952801%2C%20-118.280221%5D%2C%20%5B39.864533%2C%20-75.107569%5D%2C%20%5B25.934562%2C%20-80.205035%5D%2C%20%5B25.94459800000001%2C%20-80.121172%5D%2C%20%5B44.974492%2C%20-93.202255%5D%2C%20%5B42.03716%2C%20-88.26767%5D%2C%20%5B40.021422%2C%20-75.23101199999998%5D%2C%20%5B39.703592%2C%20-75.97918100000003%5D%2C%20%5B43.83204%2C%20-93.28902%5D%2C%20%5B28.538968%2C%20-81.31222199999998%5D%2C%20%5B34.130283%2C%20-117.50292%5D%2C%20%5B40.814874%2C%20-87.161625%5D%2C%20%5B37.823364%2C%20-122.264633%5D%2C%20%5B32.262405%2C%20-110.90981200000002%5D%2C%20%5B38.496555%2C%20-122.964289%5D%2C%20%5B40.952765%2C%20-111.891074%5D%2C%20%5B34.18865%2C%20-83.5903%5D%2C%20%5B28.552963%2C%20-81.46764399999998%5D%2C%20%5B36.838992%2C%20-76.091212%5D%2C%20%5B39.544569%2C%20-77.42630799999998%5D%2C%20%5B39.680554%2C%20-75.40907299999998%5D%2C%20%5B25.688459%2C%20-80.430185%5D%2C%20%5B40.728927%2C%20-74.008777%5D%2C%20%5B25.81365%2C%20-80.20711999999997%5D%2C%20%5B33.700593%2C%20-117.732378%5D%2C%20%5B38.333155%2C%20-75.610973%5D%2C%20%5B37.772948%2C%20-122.40655%5D%2C%20%5B40.263111%2C%20-103.766122%5D%2C%20%5B27.445145%2C%20-82.459626%5D%2C%20%5B40.698608%2C%20-111.88818700000002%5D%2C%20%5B29.884751%2C%20-95.411865%5D%2C%20%5B44.906859%2C%20-93.275053%5D%2C%20%5B45.751387%2C%20-123.963491%5D%2C%20%5B32.673114%2C%20-117.08279%5D%2C%20%5B39.78483%2C%20-111.837354%5D%2C%20%5B28.878432%2C%20-82.092536%5D%2C%20%5B45.663566%2C%20-94.752294%5D%2C%20%5B45.356404%2C%20-122.61968799999998%5D%2C%20%5B45.61148%2C%20-121.1228%5D%2C%20%5B25.72829%2C%20-80.36756899999997%5D%2C%20%5B35.092346%2C%20-81.006211%5D%2C%20%5B41.68808%2C%20-83.62759%5D%2C%20%5B35.150283%2C%20-80.79248%5D%2C%20%5B48.889698%2C%20-122.592867%5D%2C%20%5B25.733292%2C%20-80.330738%5D%2C%20%5B25.884161%2C%20-80.35014%5D%2C%20%5B32.708648%2C%20-117.098248%5D%2C%20%5B37.99978%2C%20-122.03811%5D%2C%20%5B33.910967%2C%20-118.168965%5D%2C%20%5B38.632547%2C%20-121.268432%5D%2C%20%5B38.731911%2C%20-122.623976%5D%2C%20%5B34.025659999999995%2C%20-118.17398%5D%2C%20%5B42.94179000000001%2C%20-71.4701%5D%2C%20%5B45.037772%2C%20-93.060324%5D%2C%20%5B39.171444%2C%20-121.753402%5D%2C%20%5B33.428767%2C%20-86.821237%5D%2C%20%5B37.907486%2C%20-122.315412%5D%2C%20%5B32.863782%2C%20-79.99664%5D%2C%20%5B33.87679%2C%20-118.10739%5D%2C%20%5B39.134668%2C%20-77.591543%5D%2C%20%5B32.107076%2C%20-110.856956%5D%2C%20%5B25.68546%2C%20-80.384532%5D%2C%20%5B37.567987%2C%20-122.043081%5D%2C%20%5B32.43792%2C%20-93.767334%5D%2C%20%5B37.627486%2C%20-120.996776%5D%2C%20%5B33.833717%2C%20-117.247247%5D%2C%20%5B34.069109999999995%2C%20-117.60705%5D%2C%20%5B34.01913%2C%20-117.826666%5D%2C%20%5B37.35598%2C%20-121.86834%5D%2C%20%5B25.840903%2C%20-80.24968199999998%5D%2C%20%5B45.778087%2C%20-122.672395%5D%2C%20%5B40.708771%2C%20-74.164575%5D%2C%20%5B29.733713%2C%20-95.48983%5D%2C%20%5B33.74808%2C%20-117.640678%5D%2C%20%5B38.452883%2C%20-122.621377%5D%2C%20%5B25.673202%2C%20-80.384203%5D%2C%20%5B39.273644%2C%20-76.621087%5D%2C%20%5B28.45090900000001%2C%20-81.363834%5D%2C%20%5B40.879687%2C%20-74.065414%5D%2C%20%5B38.324189%2C%20-122.022091%5D%2C%20%5B35.84414500000001%2C%20-78.680541%5D%2C%20%5B33.581332%2C%20-117.671877%5D%2C%20%5B33.885215%2C%20-84.46875899999998%5D%2C%20%5B30.435336%2C%20-91.177242%5D%2C%20%5B34.01085%2C%20-117.430897%5D%2C%20%5B40.731139%2C%20-74.051249%5D%2C%20%5B34.048471%2C%20-118.444994%5D%2C%20%5B33.921409999999995%2C%20-118.08277%5D%2C%20%5B28.184169%2C%20-80.70622%5D%2C%20%5B34.145428%2C%20-117.29211399999998%5D%2C%20%5B39.03061%2C%20-77.10519000000002%5D%2C%20%5B25.709874%2C%20-80.285596%5D%2C%20%5B44.578138%2C%20-121.157005%5D%2C%20%5B34.860788%2C%20-79.106808%5D%2C%20%5B37.015589%2C%20-76.453717%5D%2C%20%5B34.068603%2C%20-117.376453%5D%2C%20%5B37.173067%2C%20-122.058588%5D%2C%20%5B41.108057%2C%20-76.88003%5D%2C%20%5B33.441438%2C%20-117.137764%5D%2C%20%5B28.535615000000004%2C%20-81.475716%5D%2C%20%5B40.307904%2C%20-79.570573%5D%2C%20%5B45.56968%2C%20-122.67856%5D%2C%20%5B33.903393%2C%20-118.105177%5D%2C%20%5B41.75683%2C%20-72.65153000000002%5D%2C%20%5B37.33634%2C%20-121.93402%5D%2C%20%5B38.579291%2C%20-121.415479%5D%2C%20%5B36.967067%2C%20-120.015044%5D%2C%20%5B28.08326%2C%20-80.706108%5D%2C%20%5B37.720602%2C%20-121.65572%5D%2C%20%5B29.02005%2C%20-81.367755%5D%2C%20%5B25.850362%2C%20-80.322286%5D%2C%20%5B30.725401%2C%20-85.908225%5D%2C%20%5B39.95993%2C%20-75.17912%5D%2C%20%5B38.181644%2C%20-96.461169%5D%2C%20%5B40.690687%2C%20-74.102858%5D%2C%20%5B30.367333%2C%20-83.241483%5D%2C%20%5B39.4142%2C%20-76.66069%5D%2C%20%5B40.779564%2C%20-73.988546%5D%2C%20%5B39.6915%2C%20-78.65575%5D%2C%20%5B30.796333%2C%20-85.18190200000002%5D%2C%20%5B39.48916%2C%20-76.66634%5D%2C%20%5B43.48218%2C%20-119.53677%5D%2C%20%5B42.66983%2C%20-73.73818%5D%2C%20%5B36.956173%2C%20-113.791698%5D%2C%20%5B34.358936%2C%20-118.554121%5D%2C%20%5B40.752915%2C%20-73.945273%5D%2C%20%5B29.39433%2C%20-98.48606%5D%2C%20%5B47.498118%2C%20-122.114738%5D%2C%20%5B34.230682%2C%20-119.156481%5D%2C%20%5B39.050543%2C%20-94.863144%5D%2C%20%5B34.152978999999995%2C%20-118.254946%5D%2C%20%5B37.933426%2C%20-122.257801%5D%2C%20%5B25.887699%2C%20-80.203266%5D%2C%20%5B38.688244%2C%20-121.429256%5D%2C%20%5B28.595515%2C%20-81.30709300000002%5D%2C%20%5B40.056613%2C%20-120.131045%5D%2C%20%5B29.414548%2C%20-82.10990100000002%5D%2C%20%5B38.539483%2C%20-121.473701%5D%2C%20%5B39.060961%2C%20-94.494322%5D%2C%20%5B26.112842%2C%20-80.30729699999998%5D%2C%20%5B38.552139%2C%20-121.41575%5D%2C%20%5B28.690248%2C%20-81.218758%5D%2C%20%5B40.653094%2C%20-111.958501%5D%2C%20%5B34.074767%2C%20-118.273387%5D%2C%20%5B34.064503%2C%20-82.14510600000001%5D%2C%20%5B39.346712%2C%20-76.73856500000002%5D%2C%20%5B29.69962%2C%20-95.31287%5D%2C%20%5B30.507155%2C%20-87.161847%5D%2C%20%5B40.71816%2C%20-111.87594%5D%2C%20%5B30.403513%2C%20-87.350488%5D%2C%20%5B32.74362%2C%20-97.319911%5D%2C%20%5B36.227268%2C%20-86.7788%5D%2C%20%5B39.26932100000001%2C%20-123.638271%5D%2C%20%5B39.967678%2C%20-76.719842%5D%2C%20%5B36.72396%2C%20-94.93098%5D%2C%20%5B40.856463%2C%20-73.972266%5D%2C%20%5B38.865599%2C%20-77.054386%5D%2C%20%5B32.371012%2C%20-111.06673899999998%5D%2C%20%5B44.054936%2C%20-121.263605%5D%2C%20%5B30.207891%2C%20-97.75642%5D%2C%20%5B28.019169%2C%20-82.26059599999998%5D%2C%20%5B40.269006%2C%20-77.044054%5D%2C%20%5B36.966616%2C%20-119.875836%5D%2C%20%5B39.94376%2C%20-104.84023%5D%2C%20%5B42.46798%2C%20-71.24335%5D%2C%20%5B36.323295%2C%20-119.421452%5D%2C%20%5B42.152234%2C%20-88.029566%5D%2C%20%5B34.60693%2C%20-82.527893%5D%2C%20%5B32.834443%2C%20-117.175611%5D%2C%20%5B40.948638%2C%20-111.418315%5D%2C%20%5B32.235895%2C%20-110.980662%5D%2C%20%5B33.961012%2C%20-118.282705%5D%2C%20%5B25.685194%2C%20-80.418423%5D%2C%20%5B37.5408%2C%20-77.43386%5D%2C%20%5B39.127567%2C%20-122.873089%5D%2C%20%5B30.41430900000001%2C%20-84.280548%5D%2C%20%5B39.399985%2C%20-77.4369%5D%2C%20%5B31.25532%2C%20-83.46911%5D%2C%20%5B38.690762%2C%20-121.369742%5D%2C%20%5B39.953027%2C%20-75.581387%5D%2C%20%5B37.050412%2C%20-122.037093%5D%2C%20%5B35.99284%2C%20-86.59262%5D%2C%20%5B40.79825200000001%2C%20-74.268524%5D%2C%20%5B33.880795%2C%20-81.037012%5D%2C%20%5B26.608994%2C%20-81.801613%5D%2C%20%5B33.84197%2C%20-84.24764%5D%2C%20%5B37.81113%2C%20-122.363946%5D%2C%20%5B45.42801%2C%20-122.60177%5D%2C%20%5B35.08405%2C%20-89.88831%5D%2C%20%5B33.980919%2C%20-117.340576%5D%2C%20%5B38.617726%2C%20-90.292006%5D%2C%20%5B41.403322%2C%20-74.731375%5D%2C%20%5B47.729748%2C%20-122.324148%5D%2C%20%5B27.750297%2C%20-82.64454%5D%2C%20%5B42.431424%2C%20-122.080062%5D%2C%20%5B39.77829000000001%2C%20-104.897431%5D%2C%20%5B28.50417%2C%20-81.24502%5D%2C%20%5B33.998799%2C%20-117.92873%5D%2C%20%5B33.876414000000004%2C%20-117.545557%5D%2C%20%5B43.6338%2C%20-116.246241%5D%2C%20%5B34.03248%2C%20-81.023536%5D%2C%20%5B40.55892%2C%20-111.90271%5D%2C%20%5B34.104451%2C%20-118.259082%5D%2C%20%5B44.937739%2C%20-93.274546%5D%2C%20%5B34.674896999999994%2C%20-118.157426%5D%2C%20%5B34.864993%2C%20-120.414408%5D%2C%20%5B32.156747%2C%20-80.763667%5D%2C%20%5B26.12181%2C%20-80.16709%5D%2C%20%5B33.177856%2C%20-117.228274%5D%2C%20%5B34.735356%2C%20-92.169904%5D%2C%20%5B28.206115000000004%2C%20-82.665205%5D%2C%20%5B25.938061%2C%20-80.27735600000003%5D%2C%20%5B45.24252%2C%20-123.1065%5D%2C%20%5B37.953232%2C%20-121.270883%5D%2C%20%5B34.04569%2C%20-118.21552%5D%2C%20%5B39.725374%2C%20-105.024012%5D%2C%20%5B28.533972%2C%20-82.478581%5D%2C%20%5B38.97961%2C%20-94.356351%5D%2C%20%5B35.202962%2C%20-80.724654%5D%2C%20%5B25.763008%2C%20-80.199683%5D%2C%20%5B40.718706%2C%20-111.904336%5D%2C%20%5B37.295044%2C%20-121.872984%5D%2C%20%5B32.784243%2C%20-117.114096%5D%2C%20%5B36.036943%2C%20-90.988622%5D%2C%20%5B32.9927%2C%20-96.829661%5D%2C%20%5B34.794554%2C%20-92.298807%5D%2C%20%5B44.948443%2C%20-92.889409%5D%2C%20%5B39.76339%2C%20-84.20011%5D%2C%20%5B34.068632%2C%20-118.257937%5D%2C%20%5B45.3699%2C%20-93.984104%5D%2C%20%5B29.674467%2C%20-95.575891%5D%2C%20%5B33.912859999999995%2C%20-118.14588%5D%2C%20%5B34.095381%2C%20-81.156379%5D%2C%20%5B42.195839%2C%20-87.955598%5D%2C%20%5B29.98826%2C%20-90.07473%5D%2C%20%5B34.890964000000004%2C%20-82.16330699999997%5D%2C%20%5B28.444316%2C%20-81.474912%5D%2C%20%5B37.49931%2C%20-122.12824%5D%2C%20%5B40.806644%2C%20-73.907679%5D%2C%20%5B42.77037%2C%20-78.38873000000002%5D%2C%20%5B32.958984%2C%20-117.245282%5D%2C%20%5B25.73311%2C%20-80.31069699999998%5D%2C%20%5B41.42893400000001%2C%20-114.752131%5D%2C%20%5B40.68689000000001%2C%20-73.594471%5D%2C%20%5B33.168868%2C%20-87.51049300000004%5D%2C%20%5B33.875967%2C%20-118.06583%5D%2C%20%5B40.64485%2C%20-73.79024%5D%2C%20%5B27.964022%2C%20-82.746152%5D%2C%20%5B40.360347%2C%20-76.359111%5D%2C%20%5B33.870795%2C%20-117.740212%5D%2C%20%5B42.98649%2C%20-78.91419300000003%5D%2C%20%5B38.351479%2C%20-121.983679%5D%2C%20%5B37.564238%2C%20-122.03909%5D%2C%20%5B36.940437%2C%20-121.423969%5D%2C%20%5B34.17667%2C%20-118.4683%5D%2C%20%5B33.693752%2C%20-117.865786%5D%2C%20%5B39.912124%2C%20-75.192631%5D%2C%20%5B39.896561%2C%20-94.153259%5D%2C%20%5B40.82674%2C%20-73.85438%5D%2C%20%5B41.8714%2C%20-87.74908%5D%2C%20%5B40.245539%2C%20-76.882763%5D%2C%20%5B38.87968%2C%20-94.79245%5D%2C%20%5B34.72801%2C%20-86.6654%5D%2C%20%5B33.508146999999994%2C%20-112.181907%5D%2C%20%5B45.457756%2C%20-118.381348%5D%2C%20%5B42.220198%2C%20-121.78987%5D%2C%20%5B41.769636%2C%20-72.671937%5D%2C%20%5B39.88962%2C%20-75.233689%5D%2C%20%5B34.05754%2C%20-118.25466000000002%5D%2C%20%5B26.62728%2C%20-80.17376999999998%5D%2C%20%5B32.802611%2C%20-80.109225%5D%2C%20%5B35.444394%2C%20-80.615626%5D%2C%20%5B41.72711%2C%20-87.62476%5D%2C%20%5B34.054241%2C%20-118.004437%5D%2C%20%5B37.088684%2C%20-122.08849%5D%2C%20%5B34.181252%2C%20-118.168903%5D%2C%20%5B32.96891%2C%20-80.075395%5D%2C%20%5B33.94235%2C%20-118.09748%5D%2C%20%5B41.91582%2C%20-87.66803%5D%2C%20%5B34.118393%2C%20-118.165449%5D%2C%20%5B41.87289000000001%2C%20-87.73519%5D%2C%20%5B27.31643%2C%20-82.529666%5D%2C%20%5B33.964348%2C%20-118.239992%5D%2C%20%5B33.732608%2C%20-117.833529%5D%2C%20%5B32.4098%2C%20-110.995778%5D%2C%20%5B44.55586%2C%20-123.08105%5D%2C%20%5B37.077447%2C%20-76.447061%5D%2C%20%5B45.34308%2C%20-121.94021%5D%2C%20%5B47.77768%2C%20-122.32452%5D%2C%20%5B28.603149%2C%20-81.31270500000002%5D%2C%20%5B40.71169%2C%20-74.32197%5D%2C%20%5B33.77394%2C%20-117.87188%5D%2C%20%5B37.902417%2C%20-87.164551%5D%2C%20%5B36.14019%2C%20-75.841847%5D%2C%20%5B37.58525%2C%20-121.87261%5D%2C%20%5B33.950854%2C%20-84.516504%5D%2C%20%5B28.859909%2C%20-82.090009%5D%2C%20%5B32.438926%2C%20-111.200376%5D%2C%20%5B28.038042%2C%20-82.454999%5D%2C%20%5B26.331072%2C%20-81.767542%5D%2C%20%5B38.56057%2C%20-121.45827%5D%2C%20%5B28.965786%2C%20-82.420731%5D%2C%20%5B39.09499%2C%20-94.543202%5D%2C%20%5B44.56456%2C%20-120.080903%5D%2C%20%5B37.019655%2C%20-122.027714%5D%2C%20%5B31.898985%2C%20-106.441288%5D%2C%20%5B32.74627%2C%20-97.319373%5D%2C%20%5B36.162185%2C%20-86.76106300000002%5D%2C%20%5B44.9524%2C%20-93.03519%5D%2C%20%5B40.665086%2C%20-122.785856%5D%2C%20%5B34.23595%2C%20-118.412738%5D%2C%20%5B42.85311%2C%20-87.91333%5D%2C%20%5B38.672366%2C%20-121.356586%5D%2C%20%5B25.809265%2C%20-80.317236%5D%2C%20%5B30.31706%2C%20-97.656334%5D%2C%20%5B37.540692%2C%20-121.266949%5D%2C%20%5B25.882953%2C%20-80.353153%5D%2C%20%5B34.061589%2C%20-81.136093%5D%2C%20%5B29.864788%2C%20-95.479684%5D%2C%20%5B39.90483%2C%20-86.26959000000002%5D%2C%20%5B37.701477%2C%20-122.021132%5D%2C%20%5B30.254746%2C%20-97.809866%5D%2C%20%5B32.8571%2C%20-96.77046%5D%2C%20%5B40.518811%2C%20-74.301277%5D%2C%20%5B44.885333%2C%20-123.002376%5D%2C%20%5B45.533961%2C%20-122.63053700000002%5D%2C%20%5B39.442687%2C%20-76.35055799999998%5D%2C%20%5B42.90934%2C%20-78.76675999999998%5D%2C%20%5B32.37478%2C%20-95.339627%5D%2C%20%5B40.562056%2C%20-74.699147%5D%2C%20%5B38.067393%2C%20-120.182026%5D%2C%20%5B39.777522%2C%20-104.88721%5D%2C%20%5B38.97878400000001%2C%20-121.382633%5D%2C%20%5B36.64444%2C%20-119.70412%5D%2C%20%5B38.61166%2C%20-121.40154%5D%2C%20%5B28.615119%2C%20-81.47613100000002%5D%2C%20%5B38.501091%2C%20-122.999993%5D%2C%20%5B34.144026000000004%2C%20-118.872523%5D%2C%20%5B45.220295%2C%20-93.599792%5D%2C%20%5B33.646535%2C%20-117.736782%5D%2C%20%5B37.611983%2C%20-77.520099%5D%2C%20%5B28.060942%2C%20-81.776512%5D%2C%20%5B38.714544%2C%20-77.218003%5D%2C%20%5B30.400827000000003%2C%20-86.955146%5D%2C%20%5B42.27477%2C%20-71.05026%5D%2C%20%5B39.288235%2C%20-76.6452%5D%2C%20%5B33.759143%2C%20-78.968686%5D%2C%20%5B37.459067%2C%20-77.445487%5D%2C%20%5B34.23457%2C%20-118.2964%5D%2C%20%5B41.18915%2C%20-83.64978%5D%2C%20%5B26.135342%2C%20-80.144171%5D%2C%20%5B27.461588%2C%20-82.665624%5D%2C%20%5B39.311562%2C%20-76.952013%5D%2C%20%5B36.76012%2C%20-76.27163%5D%2C%20%5B32.88018%2C%20-96.80976%5D%2C%20%5B34.039734%2C%20-118.58112%5D%2C%20%5B45.631423%2C%20-120.761718%5D%2C%20%5B33.775636%2C%20-117.26986399999998%5D%2C%20%5B25.77054200000001%2C%20-80.302187%5D%2C%20%5B25.90076%2C%20-80.38526999999998%5D%2C%20%5B25.509942%2C%20-80.413044%5D%2C%20%5B39.837668%2C%20-121.5977%5D%2C%20%5B32.698068%2C%20-96.805989%5D%2C%20%5B32.7382%2C%20-97.45127%5D%2C%20%5B40.775073%2C%20-74.186892%5D%2C%20%5B42.385281%2C%20-83.164837%5D%2C%20%5B44.87155900000001%2C%20-122.65171200000002%5D%2C%20%5B33.084146000000004%2C%20-117.297982%5D%2C%20%5B34.183347999999995%2C%20-118.31549%5D%2C%20%5B33.748054%2C%20-117.843805%5D%2C%20%5B36.0965%2C%20-78.690104%5D%2C%20%5B42.213243%2C%20-83.222076%5D%2C%20%5B44.930991%2C%20-93.140284%5D%2C%20%5B34.459902%2C%20-118.615546%5D%2C%20%5B39.375203000000006%2C%20-76.749597%5D%2C%20%5B27.915419%2C%20-82.350099%5D%2C%20%5B34.077674%2C%20-118.292173%5D%2C%20%5B33.876956%2C%20-118.188068%5D%2C%20%5B33.567640000000004%2C%20-112.09961%5D%2C%20%5B40.067914%2C%20-75.302797%5D%2C%20%5B34.889756%2C%20-118.911327%5D%2C%20%5B34.054065%2C%20-118.450909%5D%2C%20%5B32.68496%2C%20-96.9427%5D%2C%20%5B39.446356%2C%20-76.331999%5D%2C%20%5B30.40122%2C%20-87.31782%5D%2C%20%5B26.232731%2C%20-81.769795%5D%2C%20%5B33.18823%2C%20-117.360748%5D%2C%20%5B39.732474%2C%20-75.311311%5D%2C%20%5B34.178707%2C%20-118.310989%5D%2C%20%5B39.116381%2C%20-94.895213%5D%2C%20%5B36.00051%2C%20-79.80563000000002%5D%2C%20%5B42.55912%2C%20-83.14907%5D%2C%20%5B36.256159%2C%20-86.71436899999998%5D%2C%20%5B34.710713%2C%20-120.179218%5D%2C%20%5B37.643598%2C%20-77.559223%5D%2C%20%5B33.484946%2C%20-117.142083%5D%2C%20%5B30.447942%2C%20-86.603188%5D%2C%20%5B45.03026%2C%20-93.72749%5D%2C%20%5B40.73848%2C%20-73.84800600000001%5D%2C%20%5B40.39316%2C%20-77.01534699999998%5D%2C%20%5B35.242175%2C%20-80.859597%5D%2C%20%5B26.584196%2C%20-81.871972%5D%2C%20%5B46.84779%2C%20-94.72355%5D%2C%20%5B39.377218%2C%20-123.336757%5D%2C%20%5B44.86242%2C%20-93.44303%5D%2C%20%5B38.756492%2C%20-111.381866%5D%2C%20%5B38.47415%2C%20-121.42257%5D%2C%20%5B33.753221999999994%2C%20-117.189425%5D%2C%20%5B46.925643%2C%20-114.072493%5D%2C%20%5B34.175203%2C%20-119.124547%5D%2C%20%5B29.93748%2C%20-95.47395%5D%2C%20%5B25.77054200000001%2C%20-80.302187%5D%2C%20%5B38.77372%2C%20-90.41053%5D%2C%20%5B36.77920200000001%2C%20-119.565071%5D%2C%20%5B40.011767%2C%20-75.29468100000003%5D%2C%20%5B34.184328%2C%20-79.818173%5D%2C%20%5B39.21897%2C%20-76.69934%5D%2C%20%5B38.825415%2C%20-77.81643000000003%5D%2C%20%5B35.215585%2C%20-80.923181%5D%2C%20%5B34.473668%2C%20-79.403247%5D%2C%20%5B38.263054%2C%20-120.714665%5D%2C%20%5B37.33789%2C%20-122.05958%5D%2C%20%5B42.90431%2C%20-85.52452%5D%2C%20%5B37.33639%2C%20-121.89867%5D%2C%20%5B43.086991%2C%20-77.590528%5D%2C%20%5B38.82834%2C%20-77.21924%5D%2C%20%5B36.7711%2C%20-76.27373%5D%2C%20%5B34.024634000000006%2C%20-117.756964%5D%2C%20%5B29.964796000000003%2C%20-90.022498%5D%2C%20%5B28.552734%2C%20-81.43297199999998%5D%2C%20%5B33.552157%2C%20-112.108311%5D%2C%20%5B40.53948%2C%20-74.51345%5D%2C%20%5B33.951441%2C%20-117.551004%5D%2C%20%5B28.526399%2C%20-81.401232%5D%2C%20%5B34.900026000000004%2C%20-82.03614%5D%2C%20%5B40.70346%2C%20-74.24631%5D%2C%20%5B41.52205%2C%20-83.621759%5D%2C%20%5B33.870699%2C%20-117.70305%5D%2C%20%5B35.935185%2C%20-78.575859%5D%2C%20%5B25.712548%2C%20-80.382427%5D%2C%20%5B43.116992%2C%20-75.23384899999998%5D%2C%20%5B38.866212%2C%20-77.227763%5D%2C%20%5B32.359442%2C%20-95.301262%5D%2C%20%5B33.789192%2C%20-84.390825%5D%2C%20%5B37.73825%2C%20-121.602774%5D%2C%20%5B37.852055%2C%20-122.022437%5D%2C%20%5B25.889638%2C%20-80.200709%5D%2C%20%5B33.86938%2C%20-117.75046%5D%2C%20%5B35.0802%2C%20-90.06093%5D%2C%20%5B25.899251%2C%20-80.190506%5D%2C%20%5B38.249892%2C%20-77.508544%5D%2C%20%5B47.965608%2C%20-114.190221%5D%2C%20%5B34.064648%2C%20-118.245594%5D%2C%20%5B45.588214%2C%20-94.05166%5D%2C%20%5B33.849155%2C%20-117.851006%5D%2C%20%5B25.69407%2C%20-80.301024%5D%2C%20%5B43.139595%2C%20-71.495212%5D%2C%20%5B35.2597%2C%20-118.914445%5D%2C%20%5B34.149438%2C%20-118.37358600000002%5D%2C%20%5B41.161501%2C%20-80.433388%5D%2C%20%5B36.720353%2C%20-119.787658%5D%2C%20%5B44.04793%2C%20-88.7846%5D%2C%20%5B33.859766%2C%20-118.295255%5D%2C%20%5B36.696664%2C%20-79.431742%5D%2C%20%5B33.726362%2C%20-117.778809%5D%2C%20%5B25.793854%2C%20-80.300978%5D%2C%20%5B26.547684000000004%2C%20-81.78012199999998%5D%2C%20%5B34.019471%2C%20-117.542622%5D%2C%20%5B38.826728%2C%20-77.31454599999998%5D%2C%20%5B28.542612%2C%20-81.508892%5D%2C%20%5B37.83473%2C%20-122.29469%5D%2C%20%5B26.716459000000004%2C%20-80.086831%5D%2C%20%5B33.847665%2C%20-118.211607%5D%2C%20%5B34.685759999999995%2C%20-80.780197%5D%2C%20%5B40.97685%2C%20-73.75849000000002%5D%2C%20%5B32.49815%2C%20-93.744499%5D%2C%20%5B34.09559%2C%20-118.2441%5D%2C%20%5B46.522136%2C%20-111.945397%5D%2C%20%5B43.141883%2C%20-75.27506899999999%5D%2C%20%5B33.767146000000004%2C%20-117.830778%5D%2C%20%5B39.649026%2C%20-78.7643%5D%2C%20%5B40.546113%2C%20-76.988501%5D%2C%20%5B33.949516%2C%20-118.167699%5D%2C%20%5B40.331545%2C%20-74.63832099999998%5D%2C%20%5B39.91915%2C%20-86.03558000000002%5D%2C%20%5B34.042293%2C%20-117.55044%5D%2C%20%5B33.74351%2C%20-84.38776999999997%5D%2C%20%5B28.35459%2C%20-81.494555%5D%2C%20%5B41.550516%2C%20-87.198308%5D%2C%20%5B25.621737%2C%20-80.37866899999999%5D%2C%20%5B25.79696400000001%2C%20-80.310769%5D%2C%20%5B32.938285%2C%20-96.748135%5D%2C%20%5B33.88717800000001%2C%20-117.344422%5D%2C%20%5B39.2996%2C%20-76.56326999999997%5D%2C%20%5B40.711547%2C%20-74.003817%5D%2C%20%5B26.010907%2C%20-80.16403000000003%5D%2C%20%5B39.252122%2C%20-76.683658%5D%2C%20%5B33.876453000000005%2C%20-118.102364%5D%2C%20%5B34.080341%2C%20-117.627849%5D%2C%20%5B33.53433%2C%20-112.04173%5D%2C%20%5B40.15225%2C%20-75.34860400000002%5D%2C%20%5B40.00559000000001%2C%20-75.232164%5D%2C%20%5B35.276507%2C%20-120.885579%5D%2C%20%5B34.698251%2C%20-117.206946%5D%2C%20%5B25.972513%2C%20-80.23813299999998%5D%2C%20%5B35.253417%2C%20-82.407349%5D%2C%20%5B28.654745%2C%20-81.460241%5D%2C%20%5B32.19169%2C%20-110.7898%5D%2C%20%5B27.468275%2C%20-80.42506999999998%5D%2C%20%5B39.01949000000001%2C%20-76.41552%5D%2C%20%5B38.900238%2C%20-121.07483899999998%5D%2C%20%5B34.042790000000004%2C%20-84.56369000000002%5D%2C%20%5B33.988941%2C%20-117.361096%5D%2C%20%5B30.417275%2C%20-87.307612%5D%2C%20%5B27.907515000000004%2C%20-82.729099%5D%2C%20%5B40.648461%2C%20-111.938911%5D%2C%20%5B32.275578%2C%20-110.97808%5D%2C%20%5B39.420887%2C%20-76.644369%5D%2C%20%5B34.136238%2C%20-117.40201%5D%2C%20%5B25.685194%2C%20-80.418423%5D%2C%20%5B42.308317%2C%20-122.84561200000002%5D%2C%20%5B45.510145%2C%20-122.687555%5D%2C%20%5B28.790927000000003%2C%20-81.346326%5D%2C%20%5B34.030508000000005%2C%20-117.659628%5D%2C%20%5B27.88799%2C%20-82.65063%5D%2C%20%5B47.58755%2C%20-122.32023%5D%2C%20%5B33.984504%2C%20-118.441534%5D%2C%20%5B40.89774%2C%20-73.79703%5D%2C%20%5B42.409822%2C%20-87.878304%5D%2C%20%5B39.89847%2C%20-75.18127700000002%5D%2C%20%5B35.1461%2C%20-80.62907%5D%2C%20%5B36.523262%2C%20-121.926066%5D%2C%20%5B30.346799%2C%20-97.556306%5D%2C%20%5B34.837765000000005%2C%20-82.43081600000002%5D%2C%20%5B33.464209999999994%2C%20-112.340856%5D%2C%20%5B42.397591%2C%20-122.930071%5D%2C%20%5B32.55584%2C%20-84.94572%5D%2C%20%5B39.75343400000001%2C%20-86.150713%5D%2C%20%5B38.760699%2C%20-77.210701%5D%2C%20%5B33.94399%2C%20-117.2864%5D%2C%20%5B35.699261%2C%20-120.640666%5D%2C%20%5B43.99255%2C%20-123.00595%5D%2C%20%5B40.785801%2C%20-74.051486%5D%2C%20%5B42.959471%2C%20-71.427933%5D%2C%20%5B38.493668%2C%20-85.771525%5D%2C%20%5B36.913432%2C%20-77.774291%5D%2C%20%5B25.696665%2C%20-80.29512%5D%2C%20%5B25.62888%2C%20-80.342365%5D%2C%20%5B38.694425%2C%20-121.357296%5D%2C%20%5B33.606437%2C%20-112.116605%5D%2C%20%5B25.92835%2C%20-80.192291%5D%2C%20%5B43.02877700000001%2C%20-77.964821%5D%2C%20%5B42.154204%2C%20-88.02839300000002%5D%2C%20%5B35.841729%2C%20-78.67896999999998%5D%2C%20%5B30.190211%2C%20-81.67413499999998%5D%2C%20%5B40.811552%2C%20-73.934779%5D%2C%20%5B33.92191%2C%20-118.369125%5D%2C%20%5B32.26115%2C%20-110.99503%5D%2C%20%5B34.118868%2C%20-78.97689799999998%5D%2C%20%5B40.58783%2C%20-111.90794%5D%2C%20%5B36.971297%2C%20-121.771901%5D%2C%20%5B36.775627%2C%20-76.372159%5D%2C%20%5B34.172131%2C%20-118.389081%5D%2C%20%5B42.36544%2C%20-83.1334%5D%2C%20%5B32.162954%2C%20-110.99608899999998%5D%2C%20%5B34.073785%2C%20-80.95313399999998%5D%2C%20%5B38.436604%2C%20-120.569848%5D%2C%20%5B33.562428000000004%2C%20-79.02976899999999%5D%2C%20%5B29.779259000000003%2C%20-95.450263%5D%2C%20%5B37.301641%2C%20-121.815451%5D%2C%20%5B33.71602%2C%20-84.25243%5D%2C%20%5B41.255075%2C%20-78.502853%5D%2C%20%5B35.588892%2C%20-120.699848%5D%2C%20%5B43.695234%2C%20-116.403611%5D%2C%20%5B40.852225%2C%20-73.956065%5D%2C%20%5B37.70141%2C%20-121.91545%5D%2C%20%5B35.02329%2C%20-89.64354%5D%2C%20%5B39.072996%2C%20-121.578894%5D%2C%20%5B30.361613%2C%20-91.015437%5D%2C%20%5B40.671022%2C%20-73.801055%5D%2C%20%5B38.181642%2C%20-112.632211%5D%2C%20%5B30.433931%2C%20-91.007556%5D%2C%20%5B41.350828%2C%20-73.665309%5D%2C%20%5B45.08276400000001%2C%20-121.542814%5D%2C%20%5B40.079148%2C%20-75.377844%5D%2C%20%5B44.9717%2C%20-93.2958%5D%2C%20%5B46.42183%2C%20-95.582285%5D%2C%20%5B35.579148%2C%20-82.469311%5D%2C%20%5B40.021456%2C%20-76.524039%5D%2C%20%5B28.41042%2C%20-81.42437%5D%2C%20%5B36.123402%2C%20-115.180541%5D%2C%20%5B29.942851%2C%20-90.093635%5D%2C%20%5B37.012579%2C%20-76.323747%5D%2C%20%5B30.42227%2C%20-97.67183%5D%2C%20%5B37.670436%2C%20-121.453975%5D%2C%20%5B35.027627%2C%20-85.15942199999998%5D%2C%20%5B33.946029%2C%20-118.291896%5D%2C%20%5B34.063957%2C%20-81.138657%5D%2C%20%5B39.224329%2C%20-121.14503899999998%5D%2C%20%5B30.495731%2C%20-91.126545%5D%2C%20%5B35.893541%2C%20-78.560478%5D%2C%20%5B33.77877%2C%20-117.88533%5D%2C%20%5B36.674991%2C%20-119.538341%5D%2C%20%5B40.866451%2C%20-73.90900400000002%5D%2C%20%5B37.857106%2C%20-122.213443%5D%2C%20%5B45.863703%2C%20-123.586041%5D%2C%20%5B25.754932%2C%20-80.335851%5D%2C%20%5B39.957436%2C%20-75.14628%5D%2C%20%5B34.494084%2C%20-82.458698%5D%2C%20%5B45.405102%2C%20-109.325635%5D%2C%20%5B40.909271%2C%20-74.57213%5D%2C%20%5B44.843434%2C%20-93.29814%5D%2C%20%5B40.75491%2C%20-73.11315%5D%2C%20%5B25.686038%2C%20-80.39844699999998%5D%2C%20%5B36.037966%2C%20-86.798739%5D%2C%20%5B44.81868%2C%20-93.17295%5D%2C%20%5B32.78493%2C%20-117.11445%5D%2C%20%5B38.648227%2C%20-120.13212%5D%2C%20%5B25.810097%2C%20-80.33891899999998%5D%2C%20%5B28.45136500000001%2C%20-81.317942%5D%2C%20%5B29.77766%2C%20-95.41073%5D%2C%20%5B33.683719%2C%20-112.10867%5D%2C%20%5B41.531266%2C%20-87.313022%5D%2C%20%5B47.054738%2C%20-94.497443%5D%2C%20%5B25.627141%2C%20-80.383572%5D%2C%20%5B38.517498%2C%20-121.463582%5D%2C%20%5B37.056976%2C%20-120.838924%5D%2C%20%5B44.54756500000001%2C%20-117.420827%5D%2C%20%5B30.48233%2C%20-90.49168%5D%2C%20%5B32.479901%2C%20-93.864904%5D%2C%20%5B43.682843%2C%20-122.246709%5D%2C%20%5B34.124851%2C%20-117.509501%5D%2C%20%5B26.620238%2C%20-81.74560799999998%5D%2C%20%5B30.394109000000004%2C%20-97.729099%5D%2C%20%5B29.686218%2C%20-81.662224%5D%2C%20%5B36.045686%2C%20-86.660379%5D%2C%20%5B31.999416%2C%20-110.671244%5D%2C%20%5B28.449998%2C%20-81.469499%5D%2C%20%5B34.010249%2C%20-81.049243%5D%2C%20%5B39.431215%2C%20-76.384116%5D%2C%20%5B41.77163%2C%20-72.601698%5D%2C%20%5B38.056426%2C%20-122.148154%5D%2C%20%5B25.760878%2C%20-80.419588%5D%2C%20%5B38.960877%2C%20-76.654046%5D%2C%20%5B37.77445%2C%20-121.821863%5D%2C%20%5B33.755959999999995%2C%20-117.853829%5D%2C%20%5B36.8076%2C%20-76.43070999999998%5D%2C%20%5B40.67533%2C%20-111.52021%5D%2C%20%5B34.546479%2C%20-118.434061%5D%2C%20%5B34.274711%2C%20-118.493422%5D%2C%20%5B38.872636%2C%20-77.04271700000002%5D%2C%20%5B39.942899%2C%20-75.14318100000001%5D%2C%20%5B35.06678%2C%20-106.63908%5D%2C%20%5B32.760124%2C%20-96.808498%5D%2C%20%5B46.109954%2C%20-123.219805%5D%2C%20%5B40.62537%2C%20-122.370883%5D%2C%20%5B38.554453%2C%20-121.372362%5D%2C%20%5B37.972832%2C%20-122.607421%5D%2C%20%5B33.481505%2C%20-86.837559%5D%2C%20%5B41.856569%2C%20-72.663327%5D%2C%20%5B40.703778%2C%20-112.06311%5D%2C%20%5B25.760882%2C%20-80.420301%5D%2C%20%5B39.835256%2C%20-75.421625%5D%2C%20%5B33.617397%2C%20-117.705124%5D%2C%20%5B36.020989%2C%20-95.886609%5D%2C%20%5B37.690647%2C%20-122.138646%5D%2C%20%5B41.58287%2C%20-122.193319%5D%2C%20%5B40.88272%2C%20-74.21053%5D%2C%20%5B42.47172%2C%20-83.11019%5D%2C%20%5B41.29651%2C%20-72.699529%5D%2C%20%5B38.305954%2C%20-77.50274300000002%5D%2C%20%5B33.887307%2C%20-118.363013%5D%2C%20%5B32.608319%2C%20-117.090523%5D%2C%20%5B41.81277%2C%20-87.63072%5D%2C%20%5B40.77931%2C%20-73.5717%5D%2C%20%5B25.945115%2C%20-80.205365%5D%2C%20%5B34.081959999999995%2C%20-112.142182%5D%2C%20%5B34.296427%2C%20-117.455865%5D%2C%20%5B37.44362%2C%20-122.11764%5D%2C%20%5B33.025363%2C%20-87.32114399999998%5D%2C%20%5B40.66756%2C%20-111.98166%5D%2C%20%5B33.169552%2C%20-117.219081%5D%2C%20%5B36.560859%2C%20-119.448666%5D%2C%20%5B45.559583%2C%20-122.564581%5D%2C%20%5B40.741322%2C%20-73.72726800000002%5D%2C%20%5B25.71518%2C%20-80.394114%5D%2C%20%5B39.930516%2C%20-86.14941999999998%5D%2C%20%5B30.372767%2C%20-97.932545%5D%2C%20%5B34.147592%2C%20-118.228861%5D%2C%20%5B37.386603%2C%20-121.960679%5D%2C%20%5B38.572524%2C%20-121.467424%5D%2C%20%5B47.108163%2C%20-116.858483%5D%2C%20%5B41.93033300000001%2C%20-72.790035%5D%2C%20%5B41.766617%2C%20-72.684493%5D%2C%20%5B39.97731%2C%20-76.66077%5D%2C%20%5B45.147317%2C%20-93.270696%5D%2C%20%5B27.39487%2C%20-82.45072900000002%5D%2C%20%5B26.195408%2C%20-80.207844%5D%2C%20%5B40.845247%2C%20-73.913472%5D%2C%20%5B38.258733%2C%20-122.066692%5D%2C%20%5B42.169637%2C%20-87.984763%5D%2C%20%5B33.838645%2C%20-118.20763999999998%5D%2C%20%5B47.637978%2C%20-122.37621%5D%2C%20%5B37.89039%2C%20-122.51656%5D%2C%20%5B25.62344%2C%20-80.421782%5D%2C%20%5B44.967716%2C%20-93.342043%5D%2C%20%5B29.39125%2C%20-98.47612%5D%2C%20%5B38.796876%2C%20-77.064596%5D%2C%20%5B29.78461%2C%20-95.61753%5D%2C%20%5B35.186601%2C%20-80.96892700000002%5D%2C%20%5B36.09235%2C%20-80.23084%5D%2C%20%5B41.607918%2C%20-90.56477%5D%2C%20%5B41.160761%2C%20-74.184783%5D%2C%20%5B42.487531%2C%20-83.21258399999998%5D%2C%20%5B33.25047%2C%20-117.15339099999998%5D%2C%20%5B32.924447%2C%20-96.779241%5D%2C%20%5B32.178081%2C%20-110.913577%5D%2C%20%5B40.849689%2C%20-73.94211800000002%5D%2C%20%5B34.885924%2C%20-82.460207%5D%2C%20%5B41.81119%2C%20-87.63034%5D%2C%20%5B37.04988%2C%20-120.63559%5D%2C%20%5B38.960872%2C%20-78.442627%5D%2C%20%5B40.621946%2C%20-111.856119%5D%2C%20%5B34.790278%2C%20-82.416268%5D%2C%20%5B40.63525%2C%20-111.90483%5D%2C%20%5B41.80268%2C%20-72.8042%5D%2C%20%5B43.611943%2C%20-116.412103%5D%2C%20%5B38.743532%2C%20-77.187978%5D%2C%20%5B28.526781%2C%20-81.459126%5D%2C%20%5B28.393742%2C%20-81.244244%5D%2C%20%5B38.376247%2C%20-122.716128%5D%2C%20%5B35.395467%2C%20-119.044785%5D%2C%20%5B37.688229%2C%20-121.483949%5D%2C%20%5B37.403994%2C%20-121.877313%5D%2C%20%5B34.12004%2C%20-117.81934%5D%2C%20%5B35.90150900000001%2C%20-83.82510699999997%5D%2C%20%5B36.170255%2C%20-86.601353%5D%2C%20%5B27.38045%2C%20-80.406285%5D%2C%20%5B40.70474%2C%20-73.82682%5D%2C%20%5B38.825732%2C%20-77.457371%5D%2C%20%5B37.55187%2C%20-122.30963%5D%2C%20%5B33.732585%2C%20-117.989329%5D%2C%20%5B28.027435%2C%20-82.505051%5D%2C%20%5B25.938001%2C%20-80.364636%5D%2C%20%5B37.941251%2C%20-121.298106%5D%2C%20%5B28.33285%2C%20-81.47973%5D%2C%20%5B44.973231%2C%20-93.088477%5D%2C%20%5B41.37566500000001%2C%20-73.606135%5D%2C%20%5B43.33093%2C%20-114.152859%5D%2C%20%5B34.869586%2C%20-82.230745%5D%2C%20%5B38.955599%2C%20-76.706532%5D%2C%20%5B32.894312%2C%20-96.71595%5D%2C%20%5B37.617187%2C%20-122.398825%5D%2C%20%5B35.093340000000005%2C%20-85.17997%5D%2C%20%5B25.700111%2C%20-80.333988%5D%2C%20%5B34.090035%2C%20-118.815512%5D%2C%20%5B33.83235%2C%20-117.932427%5D%2C%20%5B42.427557%2C%20-82.926467%5D%2C%20%5B30.380044%2C%20-97.687437%5D%2C%20%5B38.641683%2C%20-121.150325%5D%2C%20%5B34.3457%2C%20-117.46562%5D%2C%20%5B44.713958%2C%20-93.283807%5D%2C%20%5B34.195713%2C%20-118.18363%5D%2C%20%5B29.862340000000003%2C%20-95.40383%5D%2C%20%5B40.225535%2C%20-75.256727%5D%2C%20%5B42.01183%2C%20-87.75299%5D%2C%20%5B43.5974%2C%20-116.315044%5D%2C%20%5B25.76658%2C%20-80.32051%5D%2C%20%5B41.596051%2C%20-93.596101%5D%2C%20%5B32.094701%2C%20-81.309803%5D%2C%20%5B33.893178000000006%2C%20-118.266992%5D%2C%20%5B35.763572%2C%20-78.73435400000002%5D%2C%20%5B42.494366%2C%20-83.39008000000003%5D%2C%20%5B40.639985%2C%20-74.290094%5D%2C%20%5B32.68269%2C%20-97.24062%5D%2C%20%5B25.884153%2C%20-80.35084%5D%2C%20%5B35.81848%2C%20-78.68892%5D%2C%20%5B25.925423%2C%20-80.153918%5D%2C%20%5B45.932404%2C%20-123.907861%5D%2C%20%5B25.899656%2C%20-80.181674%5D%2C%20%5B29.92037%2C%20-95.61954%5D%2C%20%5B34.450201%2C%20-119.710449%5D%2C%20%5B30.269941%2C%20-95.456954%5D%2C%20%5B35.843608%2C%20-78.549049%5D%2C%20%5B34.156978%2C%20-118.448332%5D%2C%20%5B39.368868%2C%20-123.81271%5D%2C%20%5B25.939703%2C%20-80.188672%5D%2C%20%5B34.502140000000004%2C%20-82.649946%5D%2C%20%5B27.446509%2C%20-82.492514%5D%2C%20%5B46.32036%2C%20-92.82741%5D%2C%20%5B37.624464%2C%20-122.401276%5D%2C%20%5B33.939162%2C%20-117.39739099999998%5D%2C%20%5B25.832615%2C%20-80.205972%5D%2C%20%5B34.22987%2C%20-83.49965%5D%2C%20%5B38.676832%2C%20-76.056787%5D%2C%20%5B30.322265%2C%20-81.681201%5D%2C%20%5B47.230693%2C%20-122.455328%5D%2C%20%5B29.565690000000004%2C%20-98.33567%5D%2C%20%5B45.05335%2C%20-123.496914%5D%2C%20%5B40.702422%2C%20-73.992131%5D%2C%20%5B39.013363%2C%20-77.045027%5D%2C%20%5B39.014446%2C%20-77.095051%5D%2C%20%5B43.289304%2C%20-70.616612%5D%2C%20%5B34.070427%2C%20-117.397798%5D%2C%20%5B42.687294%2C%20-73.717536%5D%2C%20%5B37.404761%2C%20-77.4611%5D%2C%20%5B30.602688%2C%20-88.149849%5D%2C%20%5B39.169231%2C%20-94.624396%5D%2C%20%5B38.52858300000001%2C%20-104.965959%5D%2C%20%5B28.552694%2C%20-81.414971%5D%2C%20%5B35.94997%2C%20-83.98533%5D%2C%20%5B37.725217%2C%20-121.398179%5D%2C%20%5B26.7243%2C%20-80.08355%5D%2C%20%5B42.354947%2C%20-83.083753%5D%2C%20%5B34.067414%2C%20-117.576172%5D%2C%20%5B33.129020000000004%2C%20-111.850366%5D%2C%20%5B42.92963%2C%20-123.28257%5D%2C%20%5B42.22737100000001%2C%20-85.887398%5D%2C%20%5B34.032933%2C%20-118.219717%5D%2C%20%5B25.762509%2C%20-80.303884%5D%2C%20%5B44.961466%2C%20-111.628216%5D%2C%20%5B39.721248%2C%20-105.008423%5D%2C%20%5B25.972856%2C%20-80.204925%5D%2C%20%5B26.49684%2C%20-80.05348000000002%5D%2C%20%5B38.481607%2C%20-121.408674%5D%2C%20%5B35.898391%2C%20-78.80550500000003%5D%2C%20%5B44.861976%2C%20-93.28792%5D%2C%20%5B38.375748%2C%20-75.06725300000002%5D%2C%20%5B38.67378400000001%2C%20-77.241528%5D%2C%20%5B33.937673%2C%20-117.401495%5D%2C%20%5B25.868063%2C%20-80.246661%5D%2C%20%5B43.155721%2C%20-77.628497%5D%2C%20%5B40.8844%2C%20-73.87998%5D%2C%20%5B42.73693400000001%2C%20-121.839698%5D%2C%20%5B33.984504%2C%20-118.441534%5D%2C%20%5B28.35758400000001%2C%20-81.490459%5D%2C%20%5B41.118068%2C%20-112.01795%5D%2C%20%5B48.77106%2C%20-122.46338%5D%2C%20%5B33.65699%2C%20-111.919%5D%2C%20%5B41.856569%2C%20-72.663327%5D%2C%20%5B33.399878%2C%20-117.083708%5D%2C%20%5B41.85851%2C%20-74.58145999999998%5D%2C%20%5B40.76282%2C%20-73.58914%5D%2C%20%5B35.16555%2C%20-80.96683%5D%2C%20%5B32.481741%2C%20-93.756538%5D%2C%20%5B35.780343%2C%20-120.217601%5D%2C%20%5B30.37598%2C%20-86.37055600000002%5D%2C%20%5B38.002084%2C%20-121.350528%5D%2C%20%5B37.083949%2C%20-120.215021%5D%2C%20%5B33.974734000000005%2C%20-118.23252%5D%2C%20%5B40.014919%2C%20-78.473189%5D%2C%20%5B27.855952%2C%20-82.346874%5D%2C%20%5B34.848459000000005%2C%20-82.217038%5D%2C%20%5B41.088041%2C%20-114.7044%5D%2C%20%5B43.04402%2C%20-71.47374%5D%2C%20%5B30.407893%2C%20-97.678227%5D%2C%20%5B41.81784%2C%20-87.91854000000002%5D%2C%20%5B34.03309%2C%20-118.14486%5D%2C%20%5B36.846438%2C%20-76.016947%5D%2C%20%5B33.977069%2C%20-118.079081%5D%2C%20%5B46.355376%2C%20-98.55736%5D%2C%20%5B42.040262%2C%20-122.598076%5D%2C%20%5B34.066379%2C%20-117.471245%5D%2C%20%5B30.029976%2C%20-89.930763%5D%2C%20%5B35.41263400000001%2C%20-120.560639%5D%2C%20%5B32.45655%2C%20-93.72348%5D%2C%20%5B45.25376%2C%20-93.02307%5D%2C%20%5B44.355324%2C%20-93.98848%5D%2C%20%5B38.941501%2C%20-94.788354%5D%2C%20%5B33.880923%2C%20-117.615991%5D%2C%20%5B26.10934%2C%20-80.29125%5D%2C%20%5B30.492328000000004%2C%20-87.26113199999998%5D%2C%20%5B38.537802%2C%20-121.738173%5D%2C%20%5B43.16843%2C%20-77.58353000000002%5D%2C%20%5B33.780366%2C%20-117.878369%5D%2C%20%5B33.812774%2C%20-81.455951%5D%2C%20%5B34.183468%2C%20-118.472908%5D%2C%20%5B33.90473%2C%20-84.47538%5D%2C%20%5B34.812786%2C%20-118.170846%5D%2C%20%5B43.131755%2C%20-77.52718%5D%2C%20%5B45.02531%2C%20-93.45316%5D%2C%20%5B38.610304%2C%20-76.97475899999998%5D%2C%20%5B39.67173%2C%20-75.59862700000002%5D%2C%20%5B39.374592%2C%20-76.453209%5D%2C%20%5B34.06832%2C%20-117.34095%5D%2C%20%5B27.388811%2C%20-82.45312%5D%2C%20%5B27.3381%2C%20-82.45031%5D%2C%20%5B44.982951%2C%20-93.400579%5D%2C%20%5B34.081664%2C%20-117.704209%5D%2C%20%5B41.70806%2C%20-87.568115%5D%2C%20%5B34.037615%2C%20-118.317737%5D%2C%20%5B30.167196%2C%20-97.788527%5D%2C%20%5B41.556741%2C%20-90.534605%5D%2C%20%5B34.289478%2C%20-118.408852%5D%2C%20%5B39.000402%2C%20-94.356905%5D%2C%20%5B28.38828%2C%20-81.69126999999997%5D%2C%20%5B44.952009%2C%20-93.04966%5D%2C%20%5B40.93173%2C%20-73.87664000000002%5D%2C%20%5B32.881728%2C%20-80.01879699999998%5D%2C%20%5B40.12829%2C%20-75.43172%5D%2C%20%5B38.99451%2C%20-77.33641999999998%5D%2C%20%5B32.781049%2C%20-96.784038%5D%2C%20%5B33.913244%2C%20-118.140574%5D%2C%20%5B43.8248%2C%20-70.38866%5D%2C%20%5B29.983741%2C%20-95.275724%5D%2C%20%5B42.52755%2C%20-82.908829%5D%2C%20%5B40.31611%2C%20-75.58706%5D%2C%20%5B31.743240000000004%2C%20-106.33%5D%2C%20%5B32.602034%2C%20-96.82244%5D%2C%20%5B34.15462%2C%20-118.15769%5D%2C%20%5B39.49428%2C%20-77.5657%5D%2C%20%5B35.034399%2C%20-120.54166399999998%5D%2C%20%5B37.764887%2C%20-78.292836%5D%2C%20%5B36.028472%2C%20-94.187539%5D%2C%20%5B32.888413%2C%20-117.113028%5D%2C%20%5B39.72077%2C%20-84.05941999999997%5D%2C%20%5B29.72420300000001%2C%20-95.490724%5D%2C%20%5B42.18809%2C%20-122.667857%5D%2C%20%5B28.331376%2C%20-82.698314%5D%2C%20%5B35.441138%2C%20-120.888772%5D%2C%20%5B33.917072999999995%2C%20-118.045613%5D%2C%20%5B33.149464%2C%20-80.33635100000002%5D%2C%20%5B34.149992%2C%20-79.396722%5D%2C%20%5B33.740811%2C%20-117.833808%5D%2C%20%5B41.592269%2C%20-93.787436%5D%2C%20%5B27.388818%2C%20-82.453604%5D%2C%20%5B28.148914%2C%20-82.407878%5D%2C%20%5B34.071811%2C%20-118.122867%5D%2C%20%5B34.27523%2C%20-118.451145%5D%2C%20%5B34.135332%2C%20-80.96383399999998%5D%2C%20%5B46.15795900000001%2C%20-123.904415%5D%2C%20%5B40.602837%2C%20-111.904231%5D%2C%20%5B27.075286%2C%20-82.245964%5D%2C%20%5B41.42052%2C%20-81.7967%5D%2C%20%5B39.105072%2C%20-77.181562%5D%2C%20%5B32.716201%2C%20-96.828979%5D%2C%20%5B25.937257%2C%20-80.197469%5D%2C%20%5B25.76972%2C%20-80.333946%5D%2C%20%5B26.61302%2C%20-81.6542%5D%2C%20%5B33.81024%2C%20-84.27301999999997%5D%2C%20%5B36.243063%2C%20-94.152468%5D%2C%20%5B43.703523%2C%20-124.105118%5D%2C%20%5B28.486725%2C%20-81.424494%5D%2C%20%5B35.244975%2C%20-119.002985%5D%2C%20%5B39.1898%2C%20-94.61736%5D%2C%20%5B35.0383%2C%20-89.68904%5D%2C%20%5B28.880277000000003%2C%20-80.923501%5D%2C%20%5B47.35734%2C%20-122.244826%5D%2C%20%5B40.652042%2C%20-75.406411%5D%2C%20%5B36.954168%2C%20-119.505115%5D%2C%20%5B34.016021%2C%20-117.550103%5D%2C%20%5B34.193748%2C%20-80.38269%5D%2C%20%5B25.810402%2C%20-80.155067%5D%2C%20%5B41.36573%2C%20-72.922268%5D%2C%20%5B42.914663%2C%20-83.730589%5D%2C%20%5B38.19732%2C%20-120.800806%5D%2C%20%5B29.756806%2C%20-95.341982%5D%2C%20%5B30.501705%2C%20-84.247401%5D%2C%20%5B27.392854%2C%20-82.48709699999998%5D%2C%20%5B48.240222%2C%20-114.417163%5D%2C%20%5B37.77259%2C%20-121.99581%5D%2C%20%5B33.40676%2C%20-111.96971%5D%2C%20%5B34.026959999999995%2C%20-118.251%5D%2C%20%5B34.507101%2C%20-82.960435%5D%2C%20%5B41.72008%2C%20-87.74081%5D%2C%20%5B47.17788%2C%20-122.46598%5D%2C%20%5B36.922949%2C%20-120.021293%5D%2C%20%5B45.035217%2C%20-93.083721%5D%2C%20%5B45.498393%2C%20-122.673209%5D%2C%20%5B41.19292%2C%20-73.195115%5D%2C%20%5B38.818012%2C%20-77.01807600000002%5D%2C%20%5B37.763528%2C%20-121.418744%5D%2C%20%5B26.000143%2C%20-80.16636700000002%5D%2C%20%5B40.172025%2C%20-75.285168%5D%2C%20%5B36.722537%2C%20-119.501888%5D%2C%20%5B33.614681%2C%20-117.707783%5D%2C%20%5B36.078316%2C%20-86.643007%5D%2C%20%5B37.321574%2C%20-120.543099%5D%2C%20%5B32.236132%2C%20-110.893364%5D%2C%20%5B32.294268%2C%20-111.028452%5D%2C%20%5B47.35433%2C%20-122.12679%5D%2C%20%5B39.08221500000001%2C%20-76.947252%5D%2C%20%5B33.901056%2C%20-117.469776%5D%2C%20%5B39.31226%2C%20-76.59173%5D%2C%20%5B37.425581%2C%20-122.09837%5D%2C%20%5B40.8889%2C%20-73.88948%5D%2C%20%5B28.452926%2C%20-80.893117%5D%2C%20%5B40.247655%2C%20-75.650009%5D%2C%20%5B38.598694%2C%20-121.496885%5D%2C%20%5B45.60834000000001%2C%20-117.61535%5D%2C%20%5B34.004792%2C%20-118.172994%5D%2C%20%5B38.834717%2C%20-76.870571%5D%2C%20%5B29.26689600000001%2C%20-82.177818%5D%2C%20%5B34.126409%2C%20-117.916033%5D%2C%20%5B35.198901%2C%20-80.867873%5D%2C%20%5B38.587247%2C%20-121.50338899999998%5D%2C%20%5B25.944337%2C%20-80.18015%5D%2C%20%5B25.866658%2C%20-80.310223%5D%2C%20%5B37.7883%2C%20-121.28274%5D%2C%20%5B34.46435%2C%20-82.51996199999998%5D%2C%20%5B38.63072800000001%2C%20-90.231154%5D%2C%20%5B32.221451%2C%20-110.959414%5D%2C%20%5B38.949084%2C%20-121.158432%5D%2C%20%5B38.55075%2C%20-121.42342%5D%2C%20%5B38.472413%2C%20-121.500549%5D%2C%20%5B34.00268%2C%20-117.35116%5D%2C%20%5B42.674936%2C%20-77.91350200000002%5D%2C%20%5B25.865329%2C%20-80.234154%5D%2C%20%5B26.46841%2C%20-80.1747%5D%2C%20%5B29.736727%2C%20-95.263036%5D%2C%20%5B33.939812%2C%20-117.226479%5D%2C%20%5B37.552086%2C%20-77.400536%5D%2C%20%5B41.972891%2C%20-73.920682%5D%2C%20%5B39.12742%2C%20-104.86409%5D%2C%20%5B38.916665%2C%20-104.71969%5D%2C%20%5B33.770109000000005%2C%20-117.981166%5D%2C%20%5B26.749568%2C%20-80.09038100000002%5D%2C%20%5B38.990617%2C%20-77.15735699999998%5D%2C%20%5B33.147188%2C%20-117.107858%5D%2C%20%5B32.92455%2C%20-96.78246%5D%2C%20%5B37.43005%2C%20-122.10339%5D%2C%20%5B30.431174%2C%20-91.052058%5D%2C%20%5B33.8201%2C%20-78.97009%5D%2C%20%5B30.343823%2C%20-97.714682%5D%2C%20%5B36.111173%2C%20-86.811279%5D%2C%20%5B34.081579%2C%20-117.646151%5D%2C%20%5B40.23064%2C%20-104.98027%5D%2C%20%5B39.079595%2C%20-94.563047%5D%2C%20%5B35.138490999999995%2C%20-80.935423%5D%2C%20%5B25.86806%2C%20-80.12120300000002%5D%2C%20%5B35.034027%2C%20-104.402726%5D%2C%20%5B26.151475%2C%20-80.16748199999998%5D%2C%20%5B28.552984%2C%20-81.394101%5D%2C%20%5B34.07647%2C%20-118.27849%5D%2C%20%5B41.79001%2C%20-87.63150999999998%5D%2C%20%5B38.5786%2C%20-77.31224%5D%2C%20%5B37.899538%2C%20-122.210465%5D%2C%20%5B37.975325%2C%20-122.481376%5D%2C%20%5B36.21533400000001%2C%20-79.17577800000002%5D%2C%20%5B40.605861%2C%20-124.181422%5D%2C%20%5B28.3214%2C%20-82.32471%5D%2C%20%5B36.903706%2C%20-78.535318%5D%2C%20%5B45.388713%2C%20-122.460001%5D%2C%20%5B34.02366%2C%20-117.752891%5D%2C%20%5B29.84072%2C%20-95.30455%5D%2C%20%5B30.355893%2C%20-97.987144%5D%2C%20%5B30.249465%2C%20-97.805655%5D%2C%20%5B40.084354%2C%20-75.186853%5D%2C%20%5B29.758561%2C%20-95.350953%5D%2C%20%5B39.943531%2C%20-75.192607%5D%2C%20%5B32.6692%2C%20-97.31168%5D%2C%20%5B36.702203%2C%20-121.666421%5D%2C%20%5B30.320813%2C%20-81.68916999999998%5D%2C%20%5B31.217319%2C%20-81.526455%5D%2C%20%5B44.85762%2C%20-117.81666%5D%2C%20%5B37.959576%2C%20-122.330521%5D%2C%20%5B39.622689%2C%20-105.152179%5D%2C%20%5B38.206158%2C%20-85.744414%5D%2C%20%5B32.848334%2C%20-96.639348%5D%2C%20%5B39.91970900000001%2C%20-75.57699000000002%5D%2C%20%5B30.193327000000004%2C%20-97.779813%5D%2C%20%5B33.652292%2C%20-80.275672%5D%2C%20%5B37.77393%2C%20-122.23045%5D%2C%20%5B43.02356%2C%20-83.73229%5D%2C%20%5B40.720385%2C%20-74.232741%5D%2C%20%5B47.8778%2C%20-122.16663%5D%2C%20%5B41.096619%2C%20-96.25331%5D%2C%20%5B44.860163%2C%20-93.374226%5D%2C%20%5B30.410141%2C%20-86.79064100000002%5D%2C%20%5B37.465608%2C%20-120.82704%5D%2C%20%5B32.895252%2C%20-96.886904%5D%2C%20%5B39.158598%2C%20-94.588974%5D%2C%20%5B43.604832%2C%20-116.303597%5D%2C%20%5B45.06094%2C%20-123.66738%5D%2C%20%5B44.088724%2C%20-123.046327%5D%2C%20%5B43.80410300000001%2C%20-124.148323%5D%2C%20%5B35.23728%2C%20-80.94031%5D%2C%20%5B47.992569%2C%20-124.39068799999998%5D%2C%20%5B43.935576%2C%20-123.014744%5D%2C%20%5B45.074171%2C%20-93.286785%5D%2C%20%5B28.346931%2C%20-81.64395400000002%5D%2C%20%5B43.48077%2C%20-121.686645%5D%2C%20%5B39.096836%2C%20-121.556208%5D%2C%20%5B36.151379%2C%20-86.799329%5D%2C%20%5B34.069736%2C%20-118.135749%5D%2C%20%5B33.876290000000004%2C%20-118.06642%5D%2C%20%5B41.42472%2C%20-81.85985%5D%2C%20%5B34.030956%2C%20-118.030983%5D%2C%20%5B33.44808%2C%20-112.1001%5D%2C%20%5B34.06371%2C%20-117.81482%5D%2C%20%5B42.384191%2C%20-83.151708%5D%2C%20%5B35.18702000000001%2C%20-80.68908%5D%2C%20%5B39.892698%2C%20-75.22631700000002%5D%2C%20%5B26.54203900000001%2C%20-81.871303%5D%2C%20%5B32.439204%2C%20-85.364037%5D%2C%20%5B40.706547%2C%20-74.151539%5D%2C%20%5B25.9423%2C%20-80.309174%5D%2C%20%5B33.202091%2C%20-80.048289%5D%2C%20%5B42.320312%2C%20-83.081949%5D%2C%20%5B34.065437%2C%20-117.997873%5D%2C%20%5B34.087259%2C%20-117.645406%5D%2C%20%5B37.4853%2C%20-77.46526999999998%5D%2C%20%5B38.714263%2C%20-77.218343%5D%2C%20%5B40.823575%2C%20-73.006135%5D%2C%20%5B38.28072%2C%20-121.45701%5D%2C%20%5B32.743388%2C%20-117.184628%5D%2C%20%5B45.515479%2C%20-122.699651%5D%2C%20%5B38.962438%2C%20-76.867143%5D%2C%20%5B34.232067%2C%20-82.154027%5D%2C%20%5B33.847278%2C%20-84.48659%5D%2C%20%5B25.835713%2C%20-80.206214%5D%2C%20%5B45.64915%2C%20-120.96026%5D%2C%20%5B34.98274%2C%20-81.929061%5D%2C%20%5B34.272709000000006%2C%20-118.35762%5D%2C%20%5B29.705625%2C%20-81.329437%5D%2C%20%5B37.80771%2C%20-122.36764%5D%2C%20%5B43.87454%2C%20-117.52625%5D%2C%20%5B32.788465%2C%20-79.935423%5D%2C%20%5B35.849564%2C%20-78.583549%5D%2C%20%5B45.01004%2C%20-93.17632%5D%2C%20%5B41.856728%2C%20-124.140362%5D%2C%20%5B34.771%2C%20-118.80365%5D%2C%20%5B34.03061%2C%20-117.62433%5D%2C%20%5B37.48441%2C%20-122.184335%5D%2C%20%5B36.08399%2C%20-79.74279%5D%2C%20%5B40.598677%2C%20-74.23226899999997%5D%2C%20%5B25.799349%2C%20-80.369219%5D%2C%20%5B41.569508%2C%20-117.785121%5D%2C%20%5B40.5246%2C%20-74.339%5D%2C%20%5B36.84561400000001%2C%20-76.25344100000002%5D%2C%20%5B40.488985%2C%20-74.298089%5D%2C%20%5B44.320381%2C%20-93.879257%5D%2C%20%5B35.014275%2C%20-82.346338%5D%2C%20%5B40.98241%2C%20-77.647123%5D%2C%20%5B42.31957%2C%20-87.88011999999998%5D%2C%20%5B42.34584%2C%20-122.87502%5D%2C%20%5B29.61942800000001%2C%20-98.238372%5D%2C%20%5B34.04243%2C%20-81.086702%5D%2C%20%5B34.07291%2C%20-117.786883%5D%2C%20%5B39.700373%2C%20-86.15383%5D%2C%20%5B33.676895%2C%20-117.843476%5D%2C%20%5B34.133306%2C%20-118.352405%5D%2C%20%5B39.049017%2C%20-94.790108%5D%2C%20%5B40.716201%2C%20-74.13789799999998%5D%2C%20%5B26.328982%2C%20-81.805612%5D%2C%20%5B32.83312%2C%20-117.23311%5D%2C%20%5B40.72572%2C%20-74.010938%5D%2C%20%5B38.090519%2C%20-120.476054%5D%2C%20%5B32.814370000000004%2C%20-117.11489%5D%2C%20%5B46.56738%2C%20-94.69703%5D%2C%20%5B32.277804%2C%20-95.306557%5D%2C%20%5B30.311182%2C%20-81.52399399999999%5D%2C%20%5B32.717932%2C%20-117.084943%5D%2C%20%5B40.28952%2C%20-74.8024%5D%2C%20%5B40.751255%2C%20-74.187074%5D%2C%20%5B32.948428%2C%20-96.82329%5D%2C%20%5B39.981592%2C%20-75.568277%5D%2C%20%5B37.552996%2C%20-77.443946%5D%2C%20%5B40.87895%2C%20-74.06364%5D%2C%20%5B25.816059%2C%20-80.254723%5D%2C%20%5B38.367826%2C%20-121.960276%5D%2C%20%5B25.949326%2C%20-80.148812%5D%2C%20%5B40.41993400000001%2C%20-111.877652%5D%2C%20%5B43.66829%2C%20-123.65267%5D%2C%20%5B33.95591%2C%20-118.28105%5D%2C%20%5B33.913174%2C%20-118.180505%5D%2C%20%5B35.19565%2C%20-80.792737%5D%2C%20%5B30.467005%2C%20-91.136951%5D%2C%20%5B35.052404%2C%20-118.359376%5D%2C%20%5B34.051190000000005%2C%20-118.005899%5D%2C%20%5B25.984755%2C%20-80.165705%5D%2C%20%5B40.851766%2C%20-76.816406%5D%2C%20%5B32.949979%2C%20-117.243787%5D%2C%20%5B34.304129%2C%20-117.463869%5D%2C%20%5B36.978127%2C%20-121.556131%5D%2C%20%5B40.908678%2C%20-73.885806%5D%2C%20%5B39.075%2C%20-76.94553%5D%2C%20%5B33.639589%2C%20-113.824957%5D%2C%20%5B34.037574%2C%20-117.686645%5D%2C%20%5B39.021561%2C%20-77.10554599999998%5D%2C%20%5B34.054078000000004%2C%20-118.237857%5D%2C%20%5B33.93928%2C%20-118.095231%5D%2C%20%5B37.261565%2C%20-93.318165%5D%2C%20%5B32.3302%2C%20-81.052755%5D%2C%20%5B42.504075%2C%20-73.755158%5D%2C%20%5B27.415305%2C%20-80.390171%5D%2C%20%5B28.30853%2C%20-82.66607900000002%5D%2C%20%5B40.634078%2C%20-74.20985%5D%2C%20%5B38.98260300000001%2C%20-76.334136%5D%2C%20%5B41.250059%2C%20-74.166831%5D%2C%20%5B34.13669%2C%20-117.55389%5D%2C%20%5B33.870967%2C%20-118.100634%5D%2C%20%5B25.899185%2C%20-80.295456%5D%2C%20%5B33.56837%2C%20-117.18077%5D%2C%20%5B44.765999%2C%20-121.004473%5D%2C%20%5B25.923044%2C%20-80.309389%5D%2C%20%5B35.825296%2C%20-78.620232%5D%2C%20%5B46.24545300000001%2C%20-112.217414%5D%2C%20%5B29.076947%2C%20-81.31215999999998%5D%2C%20%5B25.864546%2C%20-80.336304%5D%2C%20%5B28.428292%2C%20-81.40639399999998%5D%2C%20%5B42.953746%2C%20-78.76586400000002%5D%2C%20%5B38.672794%2C%20-77.262486%5D%2C%20%5B34.807084%2C%20-82.434111%5D%2C%20%5B42.94675%2C%20-85.67545%5D%2C%20%5B32.96465%2C%20-96.91733%5D%2C%20%5B37.56492%2C%20-122.27208%5D%2C%20%5B40.741542%2C%20-73.842067%5D%2C%20%5B33.547422999999995%2C%20-117.672872%5D%2C%20%5B27.323045%2C%20-82.450102%5D%2C%20%5B39.998592%2C%20-76.736379%5D%2C%20%5B29.7843%2C%20-95.56055%5D%2C%20%5B34.013751%2C%20-117.982761%5D%2C%20%5B38.993645%2C%20-94.50276%5D%2C%20%5B38.97064%2C%20-78.429604%5D%2C%20%5B28.420826%2C%20-81.468375%5D%2C%20%5B40.7179%2C%20-111.95361%5D%2C%20%5B25.818911%2C%20-80.36965699999998%5D%2C%20%5B42.117975%2C%20-77.213192%5D%2C%20%5B37.42093%2C%20-122.09254%5D%2C%20%5B44.32862100000001%2C%20-93.293076%5D%2C%20%5B41.906644%2C%20-87.7264%5D%2C%20%5B48.104992%2C%20-114.459032%5D%2C%20%5B40.681998%2C%20-112.091239%5D%2C%20%5B34.049609999999994%2C%20-118.22252%5D%2C%20%5B34.00201%2C%20-117.83494%5D%2C%20%5B26.07862%2C%20-80.21576999999998%5D%2C%20%5B33.7257%2C%20-117.80375%5D%2C%20%5B27.733282%2C%20-82.745427%5D%2C%20%5B28.332256%2C%20-82.699363%5D%2C%20%5B40.291198%2C%20-75.27186%5D%2C%20%5B28.019354%2C%20-82.73974%5D%2C%20%5B29.432576%2C%20-98.402105%5D%2C%20%5B30.042204%2C%20-89.895903%5D%2C%20%5B35.23413%2C%20-80.835567%5D%2C%20%5B34.10344%2C%20-117.302078%5D%2C%20%5B39.56622%2C%20-76.14234499999998%5D%2C%20%5B33.026342%2C%20-117.274923%5D%2C%20%5B41.90443%2C%20-88.03249%5D%2C%20%5B40.250703%2C%20-77.029872%5D%2C%20%5B33.43591%2C%20-111.91526299999998%5D%2C%20%5B39.643102%2C%20-75.893436%5D%2C%20%5B29.70634%2C%20-95.51092%5D%2C%20%5B41.592223%2C%20-93.801118%5D%2C%20%5B29.607049%2C%20-95.285918%5D%2C%20%5B40.82454%2C%20-73.931003%5D%2C%20%5B42.37925900000001%2C%20-88.064432%5D%2C%20%5B42.816042%2C%20-78.79186%5D%2C%20%5B32.838236%2C%20-97.079162%5D%2C%20%5B39.206331%2C%20-76.59130400000002%5D%2C%20%5B37.76713%2C%20-121.33151%5D%2C%20%5B45.01223%2C%20-93.00553%5D%2C%20%5B38.811599%2C%20-77.19682399999998%5D%2C%20%5B39.08149%2C%20-94.59363%5D%2C%20%5B38.593758%2C%20-121.5041%5D%2C%20%5B42.48109%2C%20-83.11304%5D%2C%20%5B34.087151%2C%20-117.680551%5D%2C%20%5B38.802691%2C%20-77.09785500000002%5D%2C%20%5B27.938793%2C%20-82.285751%5D%2C%20%5B41.37445%2C%20-73.79947%5D%2C%20%5B34.048524%2C%20-117.39393%5D%2C%20%5B41.753943%2C%20-87.872361%5D%2C%20%5B28.56005900000001%2C%20-81.415186%5D%2C%20%5B47.589844%2C%20-122.320736%5D%2C%20%5B44.92927%2C%20-93.35163%5D%2C%20%5B40.321305%2C%20-111.648768%5D%2C%20%5B34.06508%2C%20-117.258802%5D%2C%20%5B37.27904%2C%20-121.80681%5D%2C%20%5B40.90891%2C%20-74.57284%5D%2C%20%5B41.279937%2C%20-72.959958%5D%2C%20%5B34.299027%2C%20-117.457492%5D%2C%20%5B37.332445%2C%20-121.844787%5D%2C%20%5B37.63799%2C%20-77.553917%5D%2C%20%5B25.715426%2C%20-80.386465%5D%2C%20%5B40.06354%2C%20-75.135799%5D%2C%20%5B39.35400300000001%2C%20-76.745799%5D%2C%20%5B39.507935%2C%20-76.381387%5D%2C%20%5B39.75412%2C%20-86.17194%5D%2C%20%5B26.547537%2C%20-81.784631%5D%2C%20%5B27.82103%2C%20-82.68051%5D%2C%20%5B36.06588%2C%20-80.25251300000002%5D%2C%20%5B26.667277%2C%20-81.88809499999998%5D%2C%20%5B37.254692%2C%20-121.792384%5D%2C%20%5B38.67755%2C%20-109.449244%5D%2C%20%5B33.859831%2C%20-117.258352%5D%2C%20%5B40.849938%2C%20-73.943313%5D%2C%20%5B40.731256%2C%20-73.97365500000002%5D%2C%20%5B43.637899%2C%20-95.444873%5D%2C%20%5B40.095532%2C%20-75.11489399999998%5D%2C%20%5B33.764666%2C%20-80.964184%5D%2C%20%5B38.890829%2C%20-119.974504%5D%2C%20%5B44.88971%2C%20-93.38904%5D%2C%20%5B43.56521%2C%20-70.41314%5D%2C%20%5B34.0659%2C%20-117.48219%5D%2C%20%5B30.170482%2C%20-97.699902%5D%2C%20%5B37.375764%2C%20-120.457171%5D%2C%20%5B32.76462%2C%20-96.85%5D%2C%20%5B33.542262%2C%20-117.673607%5D%2C%20%5B33.55117%2C%20-81.818961%5D%2C%20%5B42.829668%2C%20-78.79146899999998%5D%2C%20%5B30.607645%2C%20-97.686441%5D%2C%20%5B40.768686%2C%20-73.882166%5D%2C%20%5B40.102045%2C%20-104.602834%5D%2C%20%5B27.813769%2C%20-82.769418%5D%2C%20%5B37.523341%2C%20-120.429816%5D%2C%20%5B44.269191%2C%20-121.213996%5D%2C%20%5B42.60678%2C%20-71.3356%5D%2C%20%5B25.761494%2C%20-80.364374%5D%2C%20%5B44.709988%2C%20-122.197548%5D%2C%20%5B40.80478%2C%20-75.67333599999998%5D%2C%20%5B42.34814%2C%20-83.10587%5D%2C%20%5B34.03025%2C%20-117.67227%5D%2C%20%5B44.883072%2C%20-93.17007%5D%2C%20%5B37.482594%2C%20-77.551084%5D%2C%20%5B38.227649%2C%20-122.120164%5D%2C%20%5B38.957797%2C%20-76.865472%5D%2C%20%5B33.903672%2C%20-118.185528%5D%2C%20%5B38.692501%2C%20-77.44164%5D%2C%20%5B30.336118%2C%20-91.135639%5D%2C%20%5B32.83912%2C%20-117.12045%5D%2C%20%5B34.23487%2C%20-118.41216%5D%2C%20%5B34.145239000000004%2C%20-117.283118%5D%2C%20%5B38.047833%2C%20-122.621962%5D%2C%20%5B27.33749000000001%2C%20-82.48445500000003%5D%2C%20%5B38.640366%2C%20-121.269512%5D%2C%20%5B28.982097%2C%20-82.042376%5D%2C%20%5B34.01485%2C%20-118.485916%5D%2C%20%5B41.217528%2C%20-74.182895%5D%2C%20%5B40.16323%2C%20-75.05493%5D%2C%20%5B33.960806%2C%20-80.387653%5D%2C%20%5B27.25416%2C%20-82.49766899999999%5D%2C%20%5B40.16905%2C%20-74.89948000000003%5D%2C%20%5B38.19739000000001%2C%20-84.83017%5D%2C%20%5B38.940857%2C%20-77.133718%5D%2C%20%5B35.558592%2C%20-82.648127%5D%2C%20%5B44.922531%2C%20-93.274947%5D%2C%20%5B34.112574%2C%20-118.003804%5D%2C%20%5B34.067445%2C%20-117.580526%5D%2C%20%5B42.24286%2C%20-85.5658%5D%2C%20%5B25.898508%2C%20-80.18675999999998%5D%2C%20%5B33.59752%2C%20-112.27192%5D%2C%20%5B40.442143%2C%20-79.822808%5D%2C%20%5B40.127749%2C%20-122.12212%5D%2C%20%5B34.30832%2C%20-81.56933599999998%5D%2C%20%5B30.180175%2C%20-81.739959%5D%2C%20%5B40.857588%2C%20-80.25325699999998%5D%2C%20%5B42.40501%2C%20-83.13172%5D%2C%20%5B34.24881%2C%20-118.426939%5D%2C%20%5B32.778921000000004%2C%20-117.061586%5D%2C%20%5B29.952217%2C%20-82.569025%5D%2C%20%5B40.729724%2C%20-74.03619%5D%2C%20%5B35.082774%2C%20-89.895587%5D%2C%20%5B38.432674%2C%20-122.716078%5D%2C%20%5B45.829166%2C%20-119.278323%5D%2C%20%5B34.125042%2C%20-117.302288%5D%2C%20%5B28.449914%2C%20-81.481045%5D%2C%20%5B29.965821%2C%20-95.419617%5D%2C%20%5B25.930447%2C%20-80.23271899999997%5D%2C%20%5B30.424349%2C%20-91.151981%5D%2C%20%5B38.880861%2C%20-77.221366%5D%2C%20%5B39.210999%2C%20-76.650129%5D%2C%20%5B25.810617%2C%20-80.14191600000002%5D%2C%20%5B38.86726%2C%20-77.31728000000003%5D%2C%20%5B37.878548%2C%20-122.543793%5D%2C%20%5B36.14604%2C%20-86.758922%5D%2C%20%5B25.685725%2C%20-80.402288%5D%2C%20%5B33.386584%2C%20-111.753744%5D%2C%20%5B33.909999%2C%20-91.559125%5D%2C%20%5B33.977717%2C%20-80.87565500000002%5D%2C%20%5B42.197496%2C%20-88.05613699999998%5D%2C%20%5B37.44423%2C%20-122.26905%5D%2C%20%5B28.452939%2C%20-81.400159%5D%2C%20%5B42.03838%2C%20-87.97861%5D%2C%20%5B38.962212%2C%20-77.15427199999998%5D%2C%20%5B44.961901%2C%20-93.24853%5D%2C%20%5B33.261465%2C%20-84.09519499999998%5D%2C%20%5B26.54618%2C%20-81.854487%5D%2C%20%5B41.408507%2C%20-81.63495%5D%2C%20%5B37.352474%2C%20-77.48047%5D%2C%20%5B33.498688%2C%20-117.153094%5D%2C%20%5B37.981141%2C%20-78.222666%5D%2C%20%5B40.697511%2C%20-111.901577%5D%2C%20%5B34.05608400000001%2C%20-118.255871%5D%2C%20%5B34.865981%2C%20-79.666167%5D%2C%20%5B28.511557%2C%20-81.310198%5D%2C%20%5B39.979963%2C%20-76.75233%5D%2C%20%5B29.78423%2C%20-95.53878%5D%2C%20%5B39.644063%2C%20-75.887828%5D%2C%20%5B40.707867%2C%20-73.424367%5D%2C%20%5B25.927764%2C%20-80.293387%5D%2C%20%5B42.31856%2C%20-71.72361%5D%2C%20%5B30.60115%2C%20-85.13926500000002%5D%2C%20%5B38.848975%2C%20-77.077256%5D%2C%20%5B40.97575300000001%2C%20-78.04849499999997%5D%2C%20%5B38.937713%2C%20-76.915194%5D%2C%20%5B47.423461%2C%20-121.41003%5D%2C%20%5B40.81638%2C%20-72.67524%5D%2C%20%5B32.324171%2C%20-86.050299%5D%2C%20%5B41.93915%2C%20-87.72353000000004%5D%2C%20%5B34.2472%2C%20-77.863529%5D%2C%20%5B42.911025%2C%20-85.676168%5D%2C%20%5B44.426256%2C%20-121.877935%5D%2C%20%5B33.905278%2C%20-86.61881%5D%2C%20%5B29.667946%2C%20-95.261983%5D%2C%20%5B25.82266%2C%20-80.32172%5D%2C%20%5B35.214788%2C%20-80.88773499999998%5D%2C%20%5B27.99661%2C%20-82.56283%5D%2C%20%5B39.503657%2C%20-76.649672%5D%2C%20%5B40.689754%2C%20-73.555083%5D%2C%20%5B34.168153000000004%2C%20-118.49743%5D%2C%20%5B34.07189%2C%20-117.8707%5D%2C%20%5B38.670727%2C%20-120.977786%5D%2C%20%5B40.865541%2C%20-74.430533%5D%2C%20%5B36.812572%2C%20-77.97328%5D%2C%20%5B33.859938%2C%20-117.98678%5D%2C%20%5B41.78400300000001%2C%20-72.660667%5D%2C%20%5B41.52575%2C%20-83.62137%5D%2C%20%5B33.854136%2C%20-117.954796%5D%2C%20%5B36.04901%2C%20-95.9678%5D%2C%20%5B39.17342%2C%20-78.02065%5D%2C%20%5B37.15723300000001%2C%20-121.982121%5D%2C%20%5B25.68396%2C%20-80.461171%5D%2C%20%5B47.281175%2C%20-122.390302%5D%2C%20%5B33.979264%2C%20-81.113876%5D%2C%20%5B37.468622%2C%20-119.949902%5D%2C%20%5B38.788979%2C%20-77.06062800000002%5D%2C%20%5B33.511364%2C%20-112.112457%5D%2C%20%5B34.2824%2C%20-118.41572%5D%2C%20%5B32.70214%2C%20-96.83461%5D%2C%20%5B33.87652%2C%20-118.08333600000002%5D%2C%20%5B34.01505%2C%20-117.08677%5D%2C%20%5B36.86412%2C%20-121.722534%5D%2C%20%5B33.97173%2C%20-117.331191%5D%2C%20%5B34.181945%2C%20-118.860278%5D%2C%20%5B34.304927%2C%20-118.481358%5D%2C%20%5B33.5276%2C%20-112.11241%5D%2C%20%5B36.324606%2C%20-121.228743%5D%2C%20%5B38.489431%2C%20-121.802769%5D%2C%20%5B39.104858%2C%20-77.544347%5D%2C%20%5B39.87467%2C%20-83.05243%5D%2C%20%5B39.78865%2C%20-86.18458000000004%5D%2C%20%5B39.28014%2C%20-76.47800000000002%5D%2C%20%5B39.05915200000001%2C%20-77.050308%5D%2C%20%5B34.521125%2C%20-117.940452%5D%2C%20%5B33.59206%2C%20-111.891428%5D%2C%20%5B28.526290000000003%2C%20-81.38615%5D%2C%20%5B39.720178%2C%20-75.540093%5D%2C%20%5B39.702113%2C%20-105.202206%5D%2C%20%5B36.343804%2C%20-121.259015%5D%2C%20%5B40.69176%2C%20-74.161022%5D%2C%20%5B40.97803%2C%20-73.91273000000002%5D%2C%20%5B32.797993%2C%20-96.760273%5D%2C%20%5B45.226253%2C%20-93.027961%5D%2C%20%5B25.698805%2C%20-80.286227%5D%2C%20%5B45.50682000000001%2C%20-122.67098%5D%2C%20%5B33.996262%2C%20-117.36411%5D%2C%20%5B43.06443%2C%20-87.92083000000002%5D%2C%20%5B25.718002%2C%20-80.431335%5D%2C%20%5B36.735298%2C%20-119.916558%5D%2C%20%5B43.39228%2C%20-73.73456%5D%2C%20%5B25.501229%2C%20-80.43691700000002%5D%2C%20%5B25.930556%2C%20-80.293503%5D%2C%20%5B38.565756%2C%20-121.337053%5D%2C%20%5B44.783022%2C%20-93.599261%5D%2C%20%5B29.747143%2C%20-95.456776%5D%2C%20%5B32.925055%2C%20-96.839523%5D%2C%20%5B41.025882%2C%20-76.083347%5D%2C%20%5B38.907328%2C%20-78.024934%5D%2C%20%5B41.90815%2C%20-87.66243%5D%2C%20%5B34.029947%2C%20-118.442112%5D%2C%20%5B25.94559%2C%20-80.18654000000002%5D%5D%2C%0A%20%20%20%20%20%20%20%20%20%20%20%20%20%20%20%20%7B%22blur%22%3A%2015%2C%20%22maxZoom%22%3A%2018%2C%20%22minOpacity%22%3A%200.5%2C%20%22radius%22%3A%2025%7D%0A%20%20%20%20%20%20%20%20%20%20%20%20%29.addTo%28map_c5b75aa861344fe4b64ee9ad916646bc%29%3B%0A%20%20%20%20%20%20%20%20%0A%3C/script%3E onload=\"this.contentDocument.open();this.contentDocument.write(    decodeURIComponent(this.getAttribute('data-html')));this.contentDocument.close();\" allowfullscreen webkitallowfullscreen mozallowfullscreen></iframe></div></div>"
      ],
      "text/plain": [
       "<folium.folium.Map at 0x2480d95b370>"
      ]
     },
     "execution_count": 37,
     "metadata": {},
     "output_type": "execute_result"
    }
   ],
   "source": [
    "map=folium.Map()\n",
    "HeatMap(lat_lon_pairs).add_to(map)\n",
    "map"
   ]
  },
  {
   "cell_type": "markdown",
   "id": "c2a0f388",
   "metadata": {},
   "source": [
    "# Insights\n",
    "\n",
    "-No data from new york\n",
    "\n",
    "-Number of accidents per city decreases exponentially\n",
    "\n",
    "-Less than 1 % of cities have more than 1000 yearly accidents\n",
    "\n",
    "-Over 1200 cities have reported just 1 accident (needs to investigate)"
   ]
  },
  {
   "cell_type": "code",
   "execution_count": null,
   "id": "067caee0",
   "metadata": {},
   "outputs": [],
   "source": []
  },
  {
   "cell_type": "markdown",
   "id": "381f700a",
   "metadata": {},
   "source": [
    "# Questions and Answers\n",
    "\n",
    "1. Are there more accidents in warmer or colder areas ?\n",
    "2. Which 5 states have the greatest number of accidents, How about per capita ?\n",
    "3. Does New york show up in the data ? If yes, why is the count lower if this is the most populated city in us?\n",
    "4. Among the top 100 cities in number of accidents, which states do they belong to most frequently ?\n",
    "5. What time of the day are accidents most frequent ?\n",
    "6. Which days of the week have more accidents ?\n",
    "7. Which months have the more accidents ?\n",
    "8. What is the trend of accidents year over year ?\n",
    "9. When is accidents per unit of traffic the highest ?"
   ]
  },
  {
   "cell_type": "code",
   "execution_count": null,
   "id": "174f1de4",
   "metadata": {},
   "outputs": [],
   "source": []
  },
  {
   "cell_type": "code",
   "execution_count": null,
   "id": "c5b20ed8",
   "metadata": {},
   "outputs": [],
   "source": []
  },
  {
   "cell_type": "code",
   "execution_count": null,
   "id": "a7e698b6",
   "metadata": {},
   "outputs": [],
   "source": []
  },
  {
   "cell_type": "code",
   "execution_count": null,
   "id": "b4d1a595",
   "metadata": {},
   "outputs": [],
   "source": []
  },
  {
   "cell_type": "code",
   "execution_count": null,
   "id": "cba64708",
   "metadata": {},
   "outputs": [],
   "source": []
  },
  {
   "cell_type": "code",
   "execution_count": null,
   "id": "0df70aa2",
   "metadata": {},
   "outputs": [],
   "source": []
  },
  {
   "cell_type": "code",
   "execution_count": null,
   "id": "d883829a",
   "metadata": {},
   "outputs": [],
   "source": []
  }
 ],
 "metadata": {
  "kernelspec": {
   "display_name": "Python 3 (ipykernel)",
   "language": "python",
   "name": "python3"
  },
  "language_info": {
   "codemirror_mode": {
    "name": "ipython",
    "version": 3
   },
   "file_extension": ".py",
   "mimetype": "text/x-python",
   "name": "python",
   "nbconvert_exporter": "python",
   "pygments_lexer": "ipython3",
   "version": "3.9.7"
  }
 },
 "nbformat": 4,
 "nbformat_minor": 5
}
